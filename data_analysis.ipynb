{
  "cells": [
    {
      "cell_type": "markdown",
      "metadata": {
        "id": "view-in-github",
        "colab_type": "text"
      },
      "source": [
        "<a href=\"https://colab.research.google.com/github/cplacanica/FINAL-THESIS/blob/main/data_analysis.ipynb\" target=\"_parent\"><img src=\"https://colab.research.google.com/assets/colab-badge.svg\" alt=\"Open In Colab\"/></a>"
      ]
    },
    {
      "cell_type": "markdown",
      "metadata": {
        "collapsed": false,
        "id": "ce-VoS5OWccK"
      },
      "source": [
        "# Data Analysis"
      ]
    },
    {
      "cell_type": "code",
      "execution_count": 1,
      "metadata": {
        "id": "B8yJA8w0WccL"
      },
      "outputs": [],
      "source": [
        "import altair as alt\n",
        "import seaborn as sns\n",
        "from sklearn.preprocessing import StandardScaler\n",
        "from statsmodels.tsa.stattools import adfuller\n",
        "import numpy as np, pandas as pd\n",
        "from statsmodels.graphics.tsaplots import plot_acf, plot_pacf\n",
        "import matplotlib.pyplot as plt\n",
        "from statsmodels.tsa.arima.model import ARIMA\n",
        "from sklearn.metrics import mean_absolute_error, mean_squared_error"
      ]
    },
    {
      "cell_type": "code",
      "execution_count": 2,
      "metadata": {
        "id": "dKFVhdD_WccM",
        "colab": {
          "base_uri": "https://localhost:8080/",
          "height": 282
        },
        "outputId": "64cf1f02-9108-4ca9-f317-c3f3d36e08aa"
      },
      "outputs": [
        {
          "output_type": "error",
          "ename": "FileNotFoundError",
          "evalue": "[Errno 2] No such file or directory: 'DB_FINAL.csv'",
          "traceback": [
            "\u001b[0;31m---------------------------------------------------------------------------\u001b[0m",
            "\u001b[0;31mFileNotFoundError\u001b[0m                         Traceback (most recent call last)",
            "\u001b[0;32m<ipython-input-2-c7a9dfa9482b>\u001b[0m in \u001b[0;36m<cell line: 0>\u001b[0;34m()\u001b[0m\n\u001b[0;32m----> 1\u001b[0;31m \u001b[0mdf\u001b[0m \u001b[0;34m=\u001b[0m \u001b[0mpd\u001b[0m\u001b[0;34m.\u001b[0m\u001b[0mread_csv\u001b[0m\u001b[0;34m(\u001b[0m\u001b[0;34m'DB_FINAL.csv'\u001b[0m\u001b[0;34m)\u001b[0m\u001b[0;34m\u001b[0m\u001b[0;34m\u001b[0m\u001b[0m\n\u001b[0m",
            "\u001b[0;32m/usr/local/lib/python3.11/dist-packages/pandas/io/parsers/readers.py\u001b[0m in \u001b[0;36mread_csv\u001b[0;34m(filepath_or_buffer, sep, delimiter, header, names, index_col, usecols, dtype, engine, converters, true_values, false_values, skipinitialspace, skiprows, skipfooter, nrows, na_values, keep_default_na, na_filter, verbose, skip_blank_lines, parse_dates, infer_datetime_format, keep_date_col, date_parser, date_format, dayfirst, cache_dates, iterator, chunksize, compression, thousands, decimal, lineterminator, quotechar, quoting, doublequote, escapechar, comment, encoding, encoding_errors, dialect, on_bad_lines, delim_whitespace, low_memory, memory_map, float_precision, storage_options, dtype_backend)\u001b[0m\n\u001b[1;32m   1024\u001b[0m     \u001b[0mkwds\u001b[0m\u001b[0;34m.\u001b[0m\u001b[0mupdate\u001b[0m\u001b[0;34m(\u001b[0m\u001b[0mkwds_defaults\u001b[0m\u001b[0;34m)\u001b[0m\u001b[0;34m\u001b[0m\u001b[0;34m\u001b[0m\u001b[0m\n\u001b[1;32m   1025\u001b[0m \u001b[0;34m\u001b[0m\u001b[0m\n\u001b[0;32m-> 1026\u001b[0;31m     \u001b[0;32mreturn\u001b[0m \u001b[0m_read\u001b[0m\u001b[0;34m(\u001b[0m\u001b[0mfilepath_or_buffer\u001b[0m\u001b[0;34m,\u001b[0m \u001b[0mkwds\u001b[0m\u001b[0;34m)\u001b[0m\u001b[0;34m\u001b[0m\u001b[0;34m\u001b[0m\u001b[0m\n\u001b[0m\u001b[1;32m   1027\u001b[0m \u001b[0;34m\u001b[0m\u001b[0m\n\u001b[1;32m   1028\u001b[0m \u001b[0;34m\u001b[0m\u001b[0m\n",
            "\u001b[0;32m/usr/local/lib/python3.11/dist-packages/pandas/io/parsers/readers.py\u001b[0m in \u001b[0;36m_read\u001b[0;34m(filepath_or_buffer, kwds)\u001b[0m\n\u001b[1;32m    618\u001b[0m \u001b[0;34m\u001b[0m\u001b[0m\n\u001b[1;32m    619\u001b[0m     \u001b[0;31m# Create the parser.\u001b[0m\u001b[0;34m\u001b[0m\u001b[0;34m\u001b[0m\u001b[0m\n\u001b[0;32m--> 620\u001b[0;31m     \u001b[0mparser\u001b[0m \u001b[0;34m=\u001b[0m \u001b[0mTextFileReader\u001b[0m\u001b[0;34m(\u001b[0m\u001b[0mfilepath_or_buffer\u001b[0m\u001b[0;34m,\u001b[0m \u001b[0;34m**\u001b[0m\u001b[0mkwds\u001b[0m\u001b[0;34m)\u001b[0m\u001b[0;34m\u001b[0m\u001b[0;34m\u001b[0m\u001b[0m\n\u001b[0m\u001b[1;32m    621\u001b[0m \u001b[0;34m\u001b[0m\u001b[0m\n\u001b[1;32m    622\u001b[0m     \u001b[0;32mif\u001b[0m \u001b[0mchunksize\u001b[0m \u001b[0;32mor\u001b[0m \u001b[0miterator\u001b[0m\u001b[0;34m:\u001b[0m\u001b[0;34m\u001b[0m\u001b[0;34m\u001b[0m\u001b[0m\n",
            "\u001b[0;32m/usr/local/lib/python3.11/dist-packages/pandas/io/parsers/readers.py\u001b[0m in \u001b[0;36m__init__\u001b[0;34m(self, f, engine, **kwds)\u001b[0m\n\u001b[1;32m   1618\u001b[0m \u001b[0;34m\u001b[0m\u001b[0m\n\u001b[1;32m   1619\u001b[0m         \u001b[0mself\u001b[0m\u001b[0;34m.\u001b[0m\u001b[0mhandles\u001b[0m\u001b[0;34m:\u001b[0m \u001b[0mIOHandles\u001b[0m \u001b[0;34m|\u001b[0m \u001b[0;32mNone\u001b[0m \u001b[0;34m=\u001b[0m \u001b[0;32mNone\u001b[0m\u001b[0;34m\u001b[0m\u001b[0;34m\u001b[0m\u001b[0m\n\u001b[0;32m-> 1620\u001b[0;31m         \u001b[0mself\u001b[0m\u001b[0;34m.\u001b[0m\u001b[0m_engine\u001b[0m \u001b[0;34m=\u001b[0m \u001b[0mself\u001b[0m\u001b[0;34m.\u001b[0m\u001b[0m_make_engine\u001b[0m\u001b[0;34m(\u001b[0m\u001b[0mf\u001b[0m\u001b[0;34m,\u001b[0m \u001b[0mself\u001b[0m\u001b[0;34m.\u001b[0m\u001b[0mengine\u001b[0m\u001b[0;34m)\u001b[0m\u001b[0;34m\u001b[0m\u001b[0;34m\u001b[0m\u001b[0m\n\u001b[0m\u001b[1;32m   1621\u001b[0m \u001b[0;34m\u001b[0m\u001b[0m\n\u001b[1;32m   1622\u001b[0m     \u001b[0;32mdef\u001b[0m \u001b[0mclose\u001b[0m\u001b[0;34m(\u001b[0m\u001b[0mself\u001b[0m\u001b[0;34m)\u001b[0m \u001b[0;34m->\u001b[0m \u001b[0;32mNone\u001b[0m\u001b[0;34m:\u001b[0m\u001b[0;34m\u001b[0m\u001b[0;34m\u001b[0m\u001b[0m\n",
            "\u001b[0;32m/usr/local/lib/python3.11/dist-packages/pandas/io/parsers/readers.py\u001b[0m in \u001b[0;36m_make_engine\u001b[0;34m(self, f, engine)\u001b[0m\n\u001b[1;32m   1878\u001b[0m                 \u001b[0;32mif\u001b[0m \u001b[0;34m\"b\"\u001b[0m \u001b[0;32mnot\u001b[0m \u001b[0;32min\u001b[0m \u001b[0mmode\u001b[0m\u001b[0;34m:\u001b[0m\u001b[0;34m\u001b[0m\u001b[0;34m\u001b[0m\u001b[0m\n\u001b[1;32m   1879\u001b[0m                     \u001b[0mmode\u001b[0m \u001b[0;34m+=\u001b[0m \u001b[0;34m\"b\"\u001b[0m\u001b[0;34m\u001b[0m\u001b[0;34m\u001b[0m\u001b[0m\n\u001b[0;32m-> 1880\u001b[0;31m             self.handles = get_handle(\n\u001b[0m\u001b[1;32m   1881\u001b[0m                 \u001b[0mf\u001b[0m\u001b[0;34m,\u001b[0m\u001b[0;34m\u001b[0m\u001b[0;34m\u001b[0m\u001b[0m\n\u001b[1;32m   1882\u001b[0m                 \u001b[0mmode\u001b[0m\u001b[0;34m,\u001b[0m\u001b[0;34m\u001b[0m\u001b[0;34m\u001b[0m\u001b[0m\n",
            "\u001b[0;32m/usr/local/lib/python3.11/dist-packages/pandas/io/common.py\u001b[0m in \u001b[0;36mget_handle\u001b[0;34m(path_or_buf, mode, encoding, compression, memory_map, is_text, errors, storage_options)\u001b[0m\n\u001b[1;32m    871\u001b[0m         \u001b[0;32mif\u001b[0m \u001b[0mioargs\u001b[0m\u001b[0;34m.\u001b[0m\u001b[0mencoding\u001b[0m \u001b[0;32mand\u001b[0m \u001b[0;34m\"b\"\u001b[0m \u001b[0;32mnot\u001b[0m \u001b[0;32min\u001b[0m \u001b[0mioargs\u001b[0m\u001b[0;34m.\u001b[0m\u001b[0mmode\u001b[0m\u001b[0;34m:\u001b[0m\u001b[0;34m\u001b[0m\u001b[0;34m\u001b[0m\u001b[0m\n\u001b[1;32m    872\u001b[0m             \u001b[0;31m# Encoding\u001b[0m\u001b[0;34m\u001b[0m\u001b[0;34m\u001b[0m\u001b[0m\n\u001b[0;32m--> 873\u001b[0;31m             handle = open(\n\u001b[0m\u001b[1;32m    874\u001b[0m                 \u001b[0mhandle\u001b[0m\u001b[0;34m,\u001b[0m\u001b[0;34m\u001b[0m\u001b[0;34m\u001b[0m\u001b[0m\n\u001b[1;32m    875\u001b[0m                 \u001b[0mioargs\u001b[0m\u001b[0;34m.\u001b[0m\u001b[0mmode\u001b[0m\u001b[0;34m,\u001b[0m\u001b[0;34m\u001b[0m\u001b[0;34m\u001b[0m\u001b[0m\n",
            "\u001b[0;31mFileNotFoundError\u001b[0m: [Errno 2] No such file or directory: 'DB_FINAL.csv'"
          ]
        }
      ],
      "source": [
        "df = pd.read_csv('DB_FINAL.csv')"
      ]
    },
    {
      "cell_type": "code",
      "execution_count": null,
      "metadata": {
        "id": "H1na1K9uWccM"
      },
      "outputs": [],
      "source": [
        "df"
      ]
    },
    {
      "cell_type": "code",
      "execution_count": null,
      "metadata": {
        "id": "to_uKZbSWccM"
      },
      "outputs": [],
      "source": [
        "df.describe().apply(lambda s: s.apply(lambda x: format(x, 'f')))"
      ]
    },
    {
      "cell_type": "markdown",
      "metadata": {
        "collapsed": false,
        "id": "5vvj1LJRWccN"
      },
      "source": [
        "### Indicator statistics"
      ]
    },
    {
      "cell_type": "code",
      "execution_count": null,
      "metadata": {
        "id": "KODdIIasWccN"
      },
      "outputs": [],
      "source": [
        "# Compute statistics for each indicator\n",
        "indicator_stats = df.groupby(\"Indicator Name\")[\"Indicator Value\"].describe()\n",
        "# Save the statistics to a CSV file\n",
        "indicator_stats.to_csv(\"indicator_statistics.csv\")\n",
        "# Display the first few rows\n",
        "print(indicator_stats.head())"
      ]
    },
    {
      "cell_type": "code",
      "execution_count": null,
      "metadata": {
        "id": "HHVceBVmWccN"
      },
      "outputs": [],
      "source": [
        "null_counts = df.isna().sum()\n",
        "\n",
        "for i, j in enumerate(range(len(null_counts))):\n",
        "  if null_counts[i].sum() > 0:\n",
        "      print(f'The Variable `{df.columns[j]}` has {null_counts[i]} null values')"
      ]
    },
    {
      "cell_type": "code",
      "execution_count": null,
      "metadata": {
        "id": "JEMrn8eGWccN"
      },
      "outputs": [],
      "source": [
        "df.dtypes"
      ]
    },
    {
      "cell_type": "markdown",
      "metadata": {
        "collapsed": false,
        "id": "r_zJ-NU5WccN"
      },
      "source": [
        "### Show how many non-null values each year has"
      ]
    },
    {
      "cell_type": "code",
      "execution_count": null,
      "metadata": {
        "id": "opaF_nmmWccO"
      },
      "outputs": [],
      "source": [
        "# Filter the data to include only non-null values in the 'Value' column\n",
        "filtered_data = df.dropna(subset=['Indicator Value'])\n",
        "\n",
        "# Count the number of non-null 'Value' entries for each year\n",
        "value_counts_per_year = filtered_data['Year'].value_counts().sort_index()\n",
        "value_counts_per_year"
      ]
    },
    {
      "cell_type": "code",
      "execution_count": null,
      "metadata": {
        "id": "e3Bf1_9aWccO"
      },
      "outputs": [],
      "source": [
        "# Create the plot of non-null 'Value' entries for each year\n",
        "plt.figure(figsize=(20, 10))\n",
        "sns.barplot(x=value_counts_per_year.index, y=value_counts_per_year.values, palette='viridis')\n",
        "\n",
        "plt.xlabel(\"Year\")\n",
        "plt.ylabel(\"Count of Non-null Values\")\n",
        "plt.title(\"Distribution of Non-null Values per Year\")\n",
        "plt.xticks(rotation=90)\n",
        "plt.show()"
      ]
    },
    {
      "cell_type": "code",
      "execution_count": null,
      "metadata": {
        "id": "K8ynibn_WccO"
      },
      "outputs": [],
      "source": [
        "unique_indicator_codes = df['Indicator Code'].unique()\n",
        "unique_indicator_codes_sorted = sorted(unique_indicator_codes)\n",
        "\n",
        "# Print or display the DataFrame\n",
        "print(unique_indicator_codes_sorted)"
      ]
    },
    {
      "cell_type": "markdown",
      "metadata": {
        "collapsed": false,
        "id": "puewgg3mWccO"
      },
      "source": [
        "### ADD VARIABLE GENDER"
      ]
    },
    {
      "cell_type": "code",
      "execution_count": null,
      "metadata": {
        "id": "mu76GIxJWccO"
      },
      "outputs": [],
      "source": [
        "# Function to create the GENDER column\n",
        "def classify_gender(code):\n",
        "    if 'FE' in code:\n",
        "        return 'Female'\n",
        "    elif 'MA' in code:\n",
        "        return 'Male'\n",
        "    else:\n",
        "        return 'Total'\n",
        "\n",
        "df['Gender'] = df['Indicator Code'].apply(classify_gender)"
      ]
    },
    {
      "cell_type": "code",
      "execution_count": null,
      "metadata": {
        "id": "h1eB_tgGWccO"
      },
      "outputs": [],
      "source": [
        "unique_pairs = df[['Indicator Code', 'Gender']].drop_duplicates()\n",
        "unique_pairs"
      ]
    },
    {
      "cell_type": "code",
      "execution_count": null,
      "metadata": {
        "id": "55yBWy-hWccP"
      },
      "outputs": [],
      "source": [
        "df"
      ]
    },
    {
      "cell_type": "markdown",
      "metadata": {
        "collapsed": false,
        "id": "zpFLXLOXWccP"
      },
      "source": [
        "## DATA ANALYSIS"
      ]
    },
    {
      "cell_type": "markdown",
      "metadata": {
        "collapsed": false,
        "id": "xkbkYyPTWccP"
      },
      "source": [
        "### Population Statistics"
      ]
    },
    {
      "cell_type": "markdown",
      "metadata": {
        "collapsed": false,
        "id": "uXNs2pl2WccP"
      },
      "source": [
        "The indicators in the population statistics clusters are:\n",
        "- Population growth (annual %)\n",
        "- Population density (people per sq. km of land area)\n",
        "- Population in urban agglomerations of more than 1 million (% of total population)\n",
        "- Population in the largest city (% of urban population)\n",
        "- Population, total\n",
        "- Population, female\n",
        "- Population, male\n",
        "- Rural population growth (annual %)\n",
        "- Urban population growth (annual %)\n",
        "- Urban population (% of total population)"
      ]
    },
    {
      "cell_type": "code",
      "execution_count": null,
      "metadata": {
        "id": "YgUXMVlYWccP"
      },
      "outputs": [],
      "source": [
        "# choosing the color palette for the countries\n",
        "country_colors = {\n",
        "    \"China\": \"#87bc45\",  # orange\n",
        "    \"India\": \"#d45087\",  # pink\n",
        "    \"European Union\": \"#003f5c\"  # blue\n",
        "}"
      ]
    },
    {
      "cell_type": "markdown",
      "metadata": {
        "collapsed": false,
        "id": "Shb7VWjOWccP"
      },
      "source": [
        "### Total Population"
      ]
    },
    {
      "cell_type": "code",
      "execution_count": null,
      "metadata": {
        "id": "a7AiO9aPWccP"
      },
      "outputs": [],
      "source": [
        "# Group by Year and Country, summing the Indicator Value\n",
        "grouped_df = df[df['Indicator Name'] == 'Population, total'].groupby(['Year', 'Country'])['Indicator Value'].sum().reset_index()\n",
        "\n",
        "# Create the stacked bar chart\n",
        "stacked_bar_chart = alt.Chart(grouped_df).mark_bar(cornerRadiusTopLeft=3, cornerRadiusTopRight=3, opacity=0.7).encode(\n",
        "    x=alt.X('Year:O', title='Year'),\n",
        "    y=alt.Y('sum(Indicator Value):Q', title='Total Population').stack(None),\n",
        "    color=alt.Color('Country:N', legend=alt.Legend(title='Country'),\n",
        "                    scale=alt.Scale(domain=list(country_colors.keys()),\n",
        "                                    range=list(country_colors.values()))),\n",
        "    tooltip=[\n",
        "        alt.Tooltip('Year:O', title='Year'),\n",
        "        alt.Tooltip('Country:N', title='Country'),\n",
        "        alt.Tooltip('sum(Indicator Value):Q', title='Population')\n",
        "    ]\n",
        ").properties(\n",
        "    title='Total Population by Year and Country',\n",
        "    width=800,\n",
        "    height=600\n",
        ").interactive()\n",
        "\n",
        "# Display the stacked bar chart\n",
        "stacked_bar_chart"
      ]
    },
    {
      "cell_type": "markdown",
      "metadata": {
        "collapsed": false,
        "id": "nLU2T7a0WccP"
      },
      "source": [
        "### Total Population Growth"
      ]
    },
    {
      "cell_type": "code",
      "execution_count": null,
      "metadata": {
        "id": "wWvuWcK_WccP"
      },
      "outputs": [],
      "source": [
        "female_population_indicator = \"Population, female\"\n",
        "male_population_indicator = \"Population, male\"\n",
        "\n",
        "df_tot_pop = df[df[\"Indicator Name\"].isin([female_population_indicator, male_population_indicator])]\n",
        "\n",
        "# Aggregate population by year\n",
        "df_pop_pivot = df_tot_pop.groupby([\"Year\", \"Indicator Name\"])[\"Indicator Value\"].sum().reset_index()\n",
        "\n",
        "# Create stacked bar chart\n",
        "bar_chart = alt.Chart(df_pop_pivot).mark_bar().encode(\n",
        "    x=alt.X(\"Year:O\", title=\"Year\", axis=alt.Axis(values=[year for year in range(df['Year'].min(), df['Year'].max() + 1, 5)], labelAngle=-45)),\n",
        "    y=alt.Y(\"Indicator Value:Q\", title=\"Total Population\"),\n",
        "    color=alt.Color(\"Indicator Name:N\", title=\"Population Type\"),\n",
        "    tooltip=[\"Year\", \"Indicator Name\", \"Indicator Value\"]\n",
        ").properties(\n",
        "    title=\"Stacked Bar Chart of Female and Male Population Over the Years\",\n",
        "    width=400,\n",
        "    height=250\n",
        ")\n",
        "\n",
        "# Create line chart\n",
        "line_chart = alt.Chart(df_pop_pivot).mark_line().encode(\n",
        "    x=alt.X(\"Year:O\", title=\"Year\", axis=alt.Axis(values=[year for year in range(df['Year'].min(), df['Year'].max() + 1, 5)], labelAngle=-45)),\n",
        "    y=alt.Y(\"Indicator Value:Q\", title=\"Population\"),\n",
        "    color=alt.Color(\"Indicator Name:N\", title=\"Population Type\"),\n",
        "    tooltip=[\"Year\", \"Indicator Name\", \"Indicator Value\"]\n",
        ").properties(\n",
        "    title=\"Line Graph of Female and Male Population Over the Years\",\n",
        "    width=400,\n",
        "    height=250\n",
        ")\n",
        "\n",
        "combined_chart = alt.hconcat(bar_chart, line_chart)\n",
        "combined_chart.show()"
      ]
    },
    {
      "cell_type": "markdown",
      "metadata": {
        "collapsed": false,
        "id": "NcTxI94rWccQ"
      },
      "source": [
        "### Annual Population Growth"
      ]
    },
    {
      "cell_type": "code",
      "execution_count": null,
      "metadata": {
        "id": "fPG3-KtPWccQ"
      },
      "outputs": [],
      "source": [
        "# Define a selection that chooses the country to highlight\n",
        "legend_selection = alt.selection_point(fields=['Country'], bind='legend')\n",
        "\n",
        "# Create the chart with interactive legend\n",
        "population_growth_chart = alt.Chart(df[df['Indicator Name'] == 'Population growth (annual %)']).mark_line(point=False).encode(\n",
        "    x=alt.X('Year:O', title='Year'),\n",
        "    y=alt.Y('Indicator Value:Q', title='Population Growth (%)'),\n",
        "    color=alt.Color('Country:N', legend=alt.Legend(title='Country'),\n",
        "                    scale=alt.Scale(domain=list(country_colors.keys()),\n",
        "                                    range=list(country_colors.values()))),\n",
        "    opacity=alt.condition(legend_selection, alt.value(1), alt.value(0.1)),\n",
        "    tooltip=['Year', 'Country', 'Indicator Value']\n",
        ").add_params(\n",
        "    legend_selection\n",
        ")\n",
        "# Add zero line\n",
        "zero_line = alt.Chart(df[df['Indicator Name'] == 'Population growth (annual %)']).mark_rule(color='black').encode(\n",
        "    y='a:Q'\n",
        ").transform_calculate(\n",
        "    a=\"0\"\n",
        ")\n",
        "\n",
        "# Combine the population chart with the zero line\n",
        "final_chart = alt.layer(population_growth_chart, zero_line).properties(\n",
        "    title='Annual Population Growth by Country',\n",
        "    width=800,\n",
        "    height=600\n",
        ")\n",
        "\n",
        "final_chart"
      ]
    },
    {
      "cell_type": "markdown",
      "metadata": {
        "collapsed": false,
        "id": "11nnFKD1WccQ"
      },
      "source": [
        "### Urban vs. Rural Population Growth"
      ]
    },
    {
      "cell_type": "code",
      "execution_count": null,
      "metadata": {
        "id": "NwMkpnUKWccQ"
      },
      "outputs": [],
      "source": [
        "urban_growth_chart = alt.Chart(df[df['Indicator Name'] == 'Urban population growth (annual %)']).mark_line(point=False).encode(\n",
        "    x=alt.X('Year:O', title='Year', axis=alt.Axis(values=[year for year in range(df['Year'].min(), df['Year'].max() + 1, 5)], labelAngle=-45)),\n",
        "    y='Indicator Value:Q',\n",
        "    color=alt.Color('Country:N', legend=alt.Legend(title='Country'),\n",
        "                    scale=alt.Scale(domain=list(country_colors.keys()),\n",
        "                                    range=list(country_colors.values()))),\n",
        "    tooltip=['Year', 'Country', 'Indicator Value']\n",
        ").properties(\n",
        "    title='Urban Population Growth by Country',\n",
        "    width=500,\n",
        "    height=300\n",
        ")\n",
        "\n",
        "rural_growth_chart = alt.Chart(df[df['Indicator Name'] == 'Rural population growth (annual %)']).mark_line(point=False).encode(\n",
        "    x=alt.X('Year:O', title='Year', axis=alt.Axis(values=[year for year in range(df['Year'].min(), df['Year'].max() + 1, 5)], labelAngle=-45)),\n",
        "    y='Indicator Value:Q',\n",
        "    color=alt.Color('Country:N', legend=alt.Legend(title='Country'),\n",
        "                    scale=alt.Scale(domain=list(country_colors.keys()),\n",
        "                                    range=list(country_colors.values()))),\n",
        "    tooltip=['Year', 'Country', 'Indicator Value']\n",
        ").properties(\n",
        "    title='Rural Population Growth by Country',\n",
        "    width=500,\n",
        "    height=300\n",
        ")\n",
        "\n",
        "# Display both charts\n",
        "(urban_growth_chart | rural_growth_chart).display()"
      ]
    },
    {
      "cell_type": "markdown",
      "metadata": {
        "collapsed": false,
        "id": "v4oXo__iWccQ"
      },
      "source": [
        "### Rural Growth Rate per Year"
      ]
    },
    {
      "cell_type": "code",
      "execution_count": null,
      "metadata": {
        "id": "A8YAsKmCWccR"
      },
      "outputs": [],
      "source": []
    },
    {
      "cell_type": "code",
      "execution_count": null,
      "metadata": {
        "id": "RjKjvKTtWccR"
      },
      "outputs": [],
      "source": [
        "# Create a selection dropdown for countries\n",
        "country_selection = alt.selection_point(\n",
        "    fields=['Country'],\n",
        "    bind=alt.binding_select(options=sorted(df[df['Indicator Name'] == 'Rural population growth (annual %)']['Country'].unique()), name='Select Country'),\n",
        ")\n",
        "\n",
        "# Create the chart\n",
        "chart = alt.Chart(df[df['Indicator Name'] == 'Rural population growth (annual %)']).mark_bar().encode(\n",
        "    x='Year:O',\n",
        "    y='Indicator Value:Q',\n",
        "    color=alt.condition(\n",
        "        alt.datum['Indicator Value'] < 0,\n",
        "        alt.value('red'),\n",
        "        alt.value('steelblue')\n",
        "    ),\n",
        "    tooltip=['Country', 'Year', 'Indicator Value']\n",
        ").add_params(\n",
        "    country_selection\n",
        ").transform_filter(\n",
        "    country_selection\n",
        ").properties(\n",
        "    width=800,\n",
        "    height=600,\n",
        "    title=\"Rural Growth Rate by Year\"\n",
        ")\n",
        "\n",
        "chart"
      ]
    },
    {
      "cell_type": "code",
      "execution_count": null,
      "metadata": {
        "id": "04K5vl5TWccR"
      },
      "outputs": [],
      "source": [
        "country_selection = alt.selection_point(\n",
        "    fields=['Country'],\n",
        "    bind='legend',\n",
        "    name='Highlight Country'\n",
        ")\n",
        "\n",
        "urban_population_chart = alt.Chart(df[df['Indicator Name'] == 'Urban population (% of total population)']).mark_line().encode(\n",
        "    x=alt.X('Year:O', title='Year'),\n",
        "    y=alt.Y('Indicator Value:Q', title='Urban Population (% of total population)'),\n",
        "    color=alt.Color('Country:N', legend=alt.Legend(title='Country'), scale=alt.Scale(domain=list(country_colors.keys()),\n",
        "                                    range=list(country_colors.values()))),\n",
        "    opacity=alt.condition(country_selection, alt.value(1), alt.value(0.15)),\n",
        "    tooltip=[\n",
        "        alt.Tooltip('Year:O', title='Year'),\n",
        "        alt.Tooltip('Indicator Value:Q', title='Urban Population (% of total population)'),\n",
        "        alt.Tooltip('Country:N', title='Country')\n",
        "    ]\n",
        ").add_params(\n",
        "    country_selection\n",
        ").properties(\n",
        "    width=800,\n",
        "    height=300,\n",
        "    title='Urban Population (% of total population) Over Time'\n",
        ")\n",
        "urban_population_chart.show()"
      ]
    },
    {
      "cell_type": "markdown",
      "metadata": {
        "collapsed": false,
        "id": "VMM6phPGWccR"
      },
      "source": [
        "### Population in urban agglomerations of more than 1 million (% of total population)"
      ]
    },
    {
      "cell_type": "code",
      "execution_count": null,
      "metadata": {
        "id": "jTDY3EfkWccR"
      },
      "outputs": [],
      "source": [
        "country_selection = alt.selection_point(\n",
        "    fields=['Country'],\n",
        "    bind='legend',\n",
        "    name='Highlight Country'\n",
        ")\n",
        "\n",
        "urban_population_chart = alt.Chart(df[df['Indicator Name'] == 'Population in urban agglomerations of more than 1 million (% of total population)']).mark_line().encode(\n",
        "    x=alt.X('Year:O', title='Year'),\n",
        "    y=alt.Y('Indicator Value:Q',\n",
        "            title='Population in urban agglomerations of more than 1 million (% of total population)'),\n",
        "    color=alt.Color('Country:N', legend=alt.Legend(title='Country'), scale=alt.Scale(domain=list(country_colors.keys()),\n",
        "                                                                                     range=list(\n",
        "                                                                                         country_colors.values()))),\n",
        "    opacity=alt.condition(country_selection, alt.value(1), alt.value(0.15)),\n",
        "    tooltip=[\n",
        "        alt.Tooltip('Year:O', title='Year'),\n",
        "        alt.Tooltip('Indicator Value:Q',\n",
        "                    title='Population in urban agglomerations of more than 1 million (% of total population)'),\n",
        "        alt.Tooltip('Country:N', title='Country')\n",
        "    ]\n",
        ").add_params(\n",
        "    country_selection\n",
        ").properties(\n",
        "    width=800,\n",
        "    height=300,\n",
        "    title='Population in urban agglomerations of more than 1 million (% of total population) Over Time'\n",
        ")\n",
        "\n",
        "# Display the chart\n",
        "urban_population_chart"
      ]
    },
    {
      "cell_type": "markdown",
      "metadata": {
        "collapsed": false,
        "id": "LeZLqduJWccS"
      },
      "source": [
        "#### Population in the largest city (% of urban population)"
      ]
    },
    {
      "cell_type": "code",
      "execution_count": null,
      "metadata": {
        "id": "o7mHLOUyWccS"
      },
      "outputs": [],
      "source": [
        "country_selection = alt.selection_point(\n",
        "    fields=['Country'],\n",
        "    bind='legend',\n",
        "    name='Highlight Country'\n",
        ")\n",
        "\n",
        "largest_city_chart = alt.Chart(df[df['Indicator Name'] == 'Population in the largest city (% of urban population)']).mark_line().encode(\n",
        "    x=alt.X('Year:O', title='Year'),\n",
        "    y=alt.Y('Indicator Value:Q',\n",
        "            title='Population in the largest city (% of urban population)'),\n",
        "    color=alt.Color('Country:N', legend=alt.Legend(title='Country'), scale=alt.Scale(domain=list(country_colors.keys()),\n",
        "                                                                                     range=list(\n",
        "                                                                                         country_colors.values()))),\n",
        "    opacity=alt.condition(country_selection, alt.value(1), alt.value(0.15)),\n",
        "    tooltip=[\n",
        "        alt.Tooltip('Year:O', title='Year'),\n",
        "        alt.Tooltip('Indicator Value:Q',\n",
        "                    title='Population in the largest city (% of urban population)'),\n",
        "        alt.Tooltip('Country:N', title='Country')\n",
        "    ]\n",
        ").add_params(\n",
        "    country_selection\n",
        ").properties(\n",
        "    width=800,\n",
        "    height=300,\n",
        "    title='Population in the largest city (% of urban population) Over Time'\n",
        ")\n",
        "\n",
        "# Display the chart\n",
        "largest_city_chart"
      ]
    },
    {
      "cell_type": "markdown",
      "metadata": {
        "collapsed": false,
        "id": "tUYPy3pgWccS"
      },
      "source": [
        "#### Population density (people per sq. km of land area)"
      ]
    },
    {
      "cell_type": "code",
      "execution_count": null,
      "metadata": {
        "id": "KXZFM1cyWccT"
      },
      "outputs": [],
      "source": [
        "country_selection = alt.selection_point(\n",
        "    fields=['Country'],\n",
        "    bind='legend',\n",
        "    name='Highlight Country'\n",
        ")\n",
        "\n",
        "population_density_chart = alt.Chart(df[df['Indicator Name'] == 'Population density (people per sq. km of land area)']).mark_line().encode(\n",
        "    x=alt.X('Year:O', title='Year'),\n",
        "    y=alt.Y('Indicator Value:Q',\n",
        "            title='Population density (people per sq. km of land area)'),\n",
        "    color=alt.Color('Country:N', legend=alt.Legend(title='Country'), scale=alt.Scale(domain=list(country_colors.keys()),\n",
        "                                                                                     range=list(\n",
        "                                                                                         country_colors.values()))),\n",
        "    opacity=alt.condition(country_selection, alt.value(1), alt.value(0.15)),\n",
        "    tooltip=[\n",
        "        alt.Tooltip('Year:O', title='Year'),\n",
        "        alt.Tooltip('Indicator Value:Q',\n",
        "                    title='Population density (people per sq. km of land area)'),\n",
        "        alt.Tooltip('Country:N', title='Country')\n",
        "    ]\n",
        ").add_params(\n",
        "    country_selection\n",
        ").properties(\n",
        "    width=800,\n",
        "    height=300,\n",
        "    title='Population density (people per sq. km of land area) Over Time'\n",
        ")\n",
        "\n",
        "# Display the chart\n",
        "population_density_chart"
      ]
    },
    {
      "cell_type": "markdown",
      "metadata": {
        "collapsed": false,
        "id": "buM-L_nWWccT"
      },
      "source": [
        "### Population: Male vs. Female"
      ]
    },
    {
      "cell_type": "code",
      "execution_count": null,
      "metadata": {
        "id": "vN_vc9uoWccU"
      },
      "outputs": [],
      "source": [
        "# Create a dropdown selection for the country\n",
        "country_dropdown = alt.binding_select(options=list(df[df['Indicator Name'].isin(['Population, female', 'Population, male'])]['Country'].unique()), name=\"Select Country: \")\n",
        "country_selection = alt.selection_point(fields=['Country'], bind=country_dropdown, name=\"CountrySelection\")\n",
        "\n",
        "# Create the interactive stacked bar chart\n",
        "chart = alt.Chart(df[df['Indicator Name'].isin(['Population, female', 'Population, male'])]).mark_bar().encode(\n",
        "    x=alt.X('Year:O', title='Year'),\n",
        "    y=alt.Y('sum(Indicator Value):Q', title='Population'),\n",
        "    color=alt.Color('Indicator Name:N', title='Gender',\n",
        "                    scale=alt.Scale(domain=['Population, female', 'Population, male'],\n",
        "                                    range=['#d45087', '#003f5c'])),\n",
        "    tooltip=['Year', 'Country', 'Indicator Name', 'sum(Indicator Value):Q']\n",
        ").transform_filter(\n",
        "    country_selection\n",
        ").properties(\n",
        "    title='Total Population by Gender',\n",
        "    width=800,\n",
        "    height=700\n",
        ").add_params(\n",
        "    country_selection\n",
        ")\n",
        "\n",
        "# Display the chart\n",
        "chart.show()"
      ]
    },
    {
      "cell_type": "markdown",
      "metadata": {
        "collapsed": false,
        "id": "zSvPi92KWccU"
      },
      "source": [
        "## Correlations in Population Statistics"
      ]
    },
    {
      "cell_type": "code",
      "execution_count": null,
      "metadata": {
        "id": "mA59jh0SWccU"
      },
      "outputs": [],
      "source": [
        "indicators_population = [\n",
        "    'Population growth (annual %)',\n",
        "    'Population density (people per sq. km of land area)',\n",
        "    'Population in urban agglomerations of more than 1 million (% of total population)',\n",
        "    'Population in the largest city (% of urban population)',\n",
        "    'Population, total',\n",
        "    'Population, female',\n",
        "    'Population, male',\n",
        "    'Rural population growth (annual %)',\n",
        "    'Urban population growth (annual %)',\n",
        "    'Urban population (% of total population)'\n",
        "]\n",
        "\n",
        "# Filter the data for these specific indicators\n",
        "population_data = df[df['Indicator Name'].isin(indicators_population)]"
      ]
    },
    {
      "cell_type": "markdown",
      "metadata": {
        "collapsed": false,
        "id": "ZnFPCxheWccU"
      },
      "source": [
        "### Create Pivot Table"
      ]
    },
    {
      "cell_type": "code",
      "execution_count": null,
      "metadata": {
        "id": "zSNLXAyeWccU"
      },
      "outputs": [],
      "source": [
        "pivot_df = population_data.pivot_table(\n",
        "    index=['Year', 'Country'],\n",
        "    columns='Indicator Name',\n",
        "    values='Indicator Value',\n",
        "    aggfunc=np.mean\n",
        ").reset_index()\n",
        "\n",
        "print(pivot_df)"
      ]
    },
    {
      "cell_type": "markdown",
      "metadata": {
        "collapsed": false,
        "id": "OOdN9_CnWccU"
      },
      "source": [
        "### Correlation in all Countries"
      ]
    },
    {
      "cell_type": "markdown",
      "metadata": {
        "collapsed": false,
        "id": "LTz6NLypWccU"
      },
      "source": [
        "#### Spearman Correlation"
      ]
    },
    {
      "cell_type": "code",
      "execution_count": null,
      "metadata": {
        "id": "3dwwo1cMWccU"
      },
      "outputs": [],
      "source": [
        "correlation_matrix_sp = pivot_df.drop(columns=['Year']).select_dtypes(include=[np.number]).corr(method=\"spearman\")\n",
        "\n",
        "# Plot the heatmap using seaborn\n",
        "plt.figure(figsize=(20, 10))\n",
        "sns.heatmap(correlation_matrix_sp, annot=True, fmt=\".2f\", cmap='coolwarm', cbar=True)\n",
        "plt.title('Spearman Correlation - All Countries', fontsize=14, fontweight=\"bold\", pad=20)\n",
        "plt.xticks(rotation=45, ha='right')\n",
        "plt.yticks(rotation=0)\n",
        "plt.tight_layout()\n",
        "plt.show()"
      ]
    },
    {
      "cell_type": "markdown",
      "metadata": {
        "collapsed": false,
        "id": "I--gNA9TWccV"
      },
      "source": [
        "#### Pearson's Correlation"
      ]
    },
    {
      "cell_type": "code",
      "execution_count": null,
      "metadata": {
        "id": "yN8zMJ3ZWccV"
      },
      "outputs": [],
      "source": [
        "correlation_matrix_pe = pivot_df.drop(columns=['Year']).select_dtypes(include=[np.number]).corr(method=\"pearson\")\n",
        "\n",
        "plt.figure(figsize=(20, 10))\n",
        "sns.heatmap(correlation_matrix_pe, annot=True, fmt=\".2f\", cmap='coolwarm', cbar=True, linewidths=0)\n",
        "plt.title('Pearson Correlation - All Countries', fontsize=14, fontweight=\"bold\", pad=20)\n",
        "plt.xticks(rotation=45, ha='right')\n",
        "plt.yticks(rotation=0)\n",
        "plt.tight_layout()\n",
        "plt.show()"
      ]
    },
    {
      "cell_type": "markdown",
      "metadata": {
        "collapsed": false,
        "id": "ljD6ejY7WccV"
      },
      "source": [
        "### Data Distribution - Boxplots"
      ]
    },
    {
      "cell_type": "code",
      "execution_count": null,
      "metadata": {
        "id": "9ZNBdgRlWccV"
      },
      "outputs": [],
      "source": [
        "# Create the plot\n",
        "plt.figure(figsize=(18, 8))\n",
        "sns.set_theme(style=\"whitegrid\")\n",
        "\n",
        "# Create the boxplot\n",
        "boxplot = sns.boxplot(\n",
        "    data=population_data[~population_data['Indicator Name'].isin(['Population, female', 'Population, total', 'Population, male', 'Population density (people per sq. km of land area)'])],\n",
        "    x='Indicator Name',\n",
        "    y='Indicator Value',\n",
        "    hue='Country',\n",
        "    palette=country_colors,\n",
        "    linewidth=1.5,\n",
        "    fliersize=3\n",
        ")\n",
        "\n",
        "# Enhance visual aesthetics\n",
        "boxplot.set_title('Indicator-wise Boxplot of Percentages by Country', fontsize=20, weight='bold')\n",
        "boxplot.set_xlabel('Indicators', fontsize=14, weight='bold')\n",
        "boxplot.set_ylabel('Percentage (%)', fontsize=14, weight='bold')\n",
        "boxplot.tick_params(axis='x', rotation=30, labelsize=12)\n",
        "boxplot.tick_params(axis='y', labelsize=12)\n",
        "boxplot.legend(title='Country', fontsize=12, title_fontsize=14)\n",
        "\n",
        "# Add a tight grid for y-axis only\n",
        "plt.grid(axis='y', linestyle='--', alpha=0.7)\n",
        "\n",
        "# Adjust layout for better spacing\n",
        "plt.tight_layout()\n",
        "\n",
        "# Show the plot\n",
        "plt.show()"
      ]
    },
    {
      "cell_type": "markdown",
      "metadata": {
        "collapsed": false,
        "id": "zypHn9w-WccV"
      },
      "source": [
        "### Data Distribution - Boxplots"
      ]
    },
    {
      "cell_type": "code",
      "execution_count": null,
      "metadata": {
        "id": "yyuIUHISWccV"
      },
      "outputs": [],
      "source": [
        "# Create the plot\n",
        "plt.figure(figsize=(18, 8))\n",
        "sns.set_theme(style=\"whitegrid\")\n",
        "\n",
        "# Create the boxplot\n",
        "boxplot = sns.boxplot(\n",
        "    data=population_data[~population_data['Indicator Name'].isin(['Population, female', 'Population, total', 'Population, male',\n",
        "                                                         'Population density (people per sq. km of land area)', 'Population in urban agglomerations of more than 1 million (% of total population)', 'Urban population (% of total population)'])],\n",
        "    x='Indicator Name',\n",
        "    y='Indicator Value',\n",
        "    hue='Country',\n",
        "    palette=country_colors,\n",
        "    linewidth=1.5,\n",
        "    fliersize=3  # Adjust outlier marker size\n",
        ")\n",
        "\n",
        "# Enhance visual aesthetics\n",
        "boxplot.set_title('Indicator-wise Boxplot of Percentages by Country', fontsize=20, weight='bold')\n",
        "boxplot.set_xlabel('Indicators', fontsize=14, weight='bold')\n",
        "boxplot.set_ylabel('Percentage (%)', fontsize=14, weight='bold')\n",
        "boxplot.tick_params(axis='x', rotation=0, labelsize=12)  # Rotated labels for better readability\n",
        "boxplot.tick_params(axis='y', labelsize=12)\n",
        "boxplot.legend(title='Country', fontsize=12, title_fontsize=14)\n",
        "\n",
        "# Add a tight grid for y-axis only\n",
        "plt.grid(axis='y', linestyle='--', alpha=0.7)\n",
        "\n",
        "# Adjust layout for better spacing\n",
        "plt.tight_layout()\n",
        "\n",
        "# Show the plot\n",
        "plt.show()"
      ]
    },
    {
      "cell_type": "code",
      "execution_count": null,
      "metadata": {
        "id": "v2B3AjPXWccV"
      },
      "outputs": [],
      "source": [
        "# Create the plot\n",
        "plt.figure(figsize=(18, 8))  # Adjusted for wider layout\n",
        "sns.set_theme(style=\"whitegrid\")\n",
        "\n",
        "# Create the boxplot\n",
        "boxplot = sns.boxplot(\n",
        "    data=population_data[population_data['Indicator Name'].isin(['Population in urban agglomerations of more than 1 million (% of total population)', 'Urban population (% of total population)'])],\n",
        "    x='Indicator Name',\n",
        "    y='Indicator Value',\n",
        "    hue='Country',\n",
        "    palette=country_colors,\n",
        "    linewidth=1.5,\n",
        "    fliersize=3  # Adjust outlier marker size\n",
        ")\n",
        "\n",
        "# Enhance visual aesthetics\n",
        "boxplot.set_title('Indicator-wise Boxplot of Percentages by Country', fontsize=20, weight='bold')\n",
        "boxplot.set_xlabel('Indicators', fontsize=14, weight='bold')\n",
        "boxplot.set_ylabel('Percentage (%)', fontsize=14, weight='bold')\n",
        "boxplot.tick_params(axis='x', rotation=0, labelsize=12)  # Rotated labels for better readability\n",
        "boxplot.tick_params(axis='y', labelsize=12)\n",
        "boxplot.legend(title='Country', fontsize=12, title_fontsize=14)\n",
        "\n",
        "# Add a tight grid for y-axis only\n",
        "plt.grid(axis='y', linestyle='--', alpha=0.7)\n",
        "\n",
        "# Adjust layout for better spacing\n",
        "plt.tight_layout()\n",
        "\n",
        "# Show the plot\n",
        "plt.show()"
      ]
    },
    {
      "cell_type": "markdown",
      "metadata": {
        "collapsed": false,
        "id": "sFnMGXKLWccV"
      },
      "source": [
        "## Employment Statistics"
      ]
    },
    {
      "cell_type": "markdown",
      "metadata": {
        "collapsed": false,
        "id": "Xc9zynf8WccV"
      },
      "source": [
        "Employment Indicators:\n",
        "Wage and salaried workers, female (% of female employment) (modeled ILO estimate)\n",
        "Wage and salaried workers, male (% of male employment) (modeled ILO estimate)\n",
        "Contributing family workers, female (% of female employment) (modeled ILO estimate)\n",
        "Contributing family workers, male (% of male employment) (modeled ILO estimate)\n",
        "Employers, female (% of female employment) (modeled ILO estimate)\n",
        "Employers, male (% of male employment) (modeled ILO estimate)\n",
        "Employment in agriculture (% of female employment) (modeled ILO estimate)\n",
        "Employment in agriculture (% of male employment) (modeled ILO estimate)\n",
        "Employment in industry (% of female employment) (modeled ILO estimate)\n",
        "Employment in industry (% of male employment) (modeled ILO estimate)\n",
        "Employment in services (% of female employment) (modeled ILO estimate)\n",
        "Employment in services (% of male employment) (modeled ILO estimate)\n",
        "Vulnerable employment, male (% of male employment) (modeled ILO estimate)\n",
        "Vulnerable employment, female (% of female employment) (modeled ILO estimate)\n",
        "Part time employment, female (% of total female employment)\n",
        "Part time employment, male (% of total male employment)\n",
        "Self-employed, female (% of female employment) (modeled ILO estimate)\n",
        "Self-employed, male (% of male employment) (modeled ILO estimate)\n",
        "Unemployment, female (% of female labor force) (modeled ILO estimate)\n",
        "Unemployment, male (% of male labor force) (modeled ILO estimate)"
      ]
    },
    {
      "cell_type": "code",
      "execution_count": null,
      "metadata": {
        "id": "sMiIgY3vWccW"
      },
      "outputs": [],
      "source": [
        "employment_indicators = [\n",
        "    'Wage and salaried workers, female (% of female employment) (modeled ILO estimate)',\n",
        "    'Wage and salaried workers, male (% of male employment) (modeled ILO estimate)',\n",
        "    'Contributing family workers, female (% of female employment) (modeled ILO estimate)',\n",
        "    'Contributing family workers, male (% of male employment) (modeled ILO estimate)',\n",
        "    'Employers, female (% of female employment) (modeled ILO estimate)',\n",
        "    'Employers, male (% of male employment) (modeled ILO estimate)',\n",
        "    'Employment in agriculture, female (% of female employment) (modeled ILO estimate)',\n",
        "    'Employment in agriculture, male (% of male employment) (modeled ILO estimate)',\n",
        "    'Employment in industry, female (% of female employment) (modeled ILO estimate)',\n",
        "    'Employment in industry, male (% of male employment) (modeled ILO estimate)',\n",
        "    'Employment in services, female (% of female employment) (modeled ILO estimate)',\n",
        "    'Employment in services, male (% of male employment) (modeled ILO estimate)',\n",
        "    'Vulnerable employment, male (% of male employment) (modeled ILO estimate)',\n",
        "    'Vulnerable employment, female (% of female employment) (modeled ILO estimate)',\n",
        "    'Part time employment, female (% of total female employment)',\n",
        "    'Part time employment, male (% of total male employment)',\n",
        "    'Self-employed, female (% of female employment) (modeled ILO estimate)',\n",
        "    'Self-employed, male (% of male employment) (modeled ILO estimate)',\n",
        "    'Unemployment, female (% of female labor force) (modeled ILO estimate)',\n",
        "    'Unemployment, male (% of male labor force) (modeled ILO estimate)',\n",
        "    'Labor force participation rate, female (% of female population ages 15+) (modeled ILO estimate)',\n",
        "    'Labor force participation rate, male (% of male population ages 15+) (modeled ILO estimate)',\n",
        "    'Urban population (% of total population)'\n",
        "]\n",
        "\n",
        "# Filter the data for these specific indicators\n",
        "emp_data = df[df['Indicator Name'].isin(employment_indicators)]"
      ]
    },
    {
      "cell_type": "code",
      "execution_count": null,
      "metadata": {
        "id": "uy_FrHfTWccW"
      },
      "outputs": [],
      "source": [
        "# Strip the indicators from the \"(modeled ILO estimate)\" in order to improve the readibility of the charts\n",
        "emp_data[\"Indicator Name\"] = emp_data[\"Indicator Name\"].str.replace(\" (modeled ILO estimate)\", \"\", regex=False)\n",
        "print(emp_data[\"Indicator Name\"].unique())"
      ]
    },
    {
      "cell_type": "markdown",
      "metadata": {
        "collapsed": false,
        "id": "uJ90dW23WccW"
      },
      "source": [
        "### Labour Force Participation Rate"
      ]
    },
    {
      "cell_type": "code",
      "execution_count": null,
      "metadata": {
        "id": "x6HdrL-HWccW"
      },
      "outputs": [],
      "source": [
        "country_selection = alt.selection_point(\n",
        "    fields=['Country'],\n",
        "    bind='legend',\n",
        "    name='Highlight Country'\n",
        ")"
      ]
    },
    {
      "cell_type": "code",
      "execution_count": null,
      "metadata": {
        "id": "UOS1wctIWccW"
      },
      "outputs": [],
      "source": [
        "lab_force = emp_data[emp_data['Year'] > 1990]\n",
        "lab_force_chart = alt.Chart(lab_force[lab_force['Indicator Name'] == 'Labor force participation rate, female (% of female population ages 15+)']).mark_line().encode(\n",
        "    x=alt.X('Year:O', title='Year'),\n",
        "    y=alt.Y('Indicator Value:Q',\n",
        "            title='Labor force participation rate, female (% of female population ages 15+)'),\n",
        "    color=alt.Color('Country:N', legend=alt.Legend(title='Country'), scale=alt.Scale(domain=list(country_colors.keys()),\n",
        "                                                                                     range=list(\n",
        "                                                                                         country_colors.values()))),\n",
        "    opacity=alt.condition(country_selection, alt.value(1), alt.value(0.15)),\n",
        "    tooltip=[\n",
        "        alt.Tooltip('Year:O', title='Year'),\n",
        "        alt.Tooltip('Indicator Value:Q',\n",
        "                    title='Labor force participation rate, female (% of female population ages 15+)'),\n",
        "        alt.Tooltip('Country:N', title='Country')\n",
        "    ]\n",
        ").add_params(\n",
        "    country_selection\n",
        ").properties(\n",
        "    width=800,\n",
        "    height=300,\n",
        "    title='Female Labor Force Participation Rate'\n",
        ")\n",
        "\n",
        "# Display the chart\n",
        "lab_force_chart"
      ]
    },
    {
      "cell_type": "markdown",
      "metadata": {
        "collapsed": false,
        "id": "a9kbSn_vWccW"
      },
      "source": [
        "### Pyramid Chart of All Employment Statistics (gender comparison)"
      ]
    },
    {
      "cell_type": "code",
      "execution_count": null,
      "metadata": {
        "id": "qsGgH8DYWccX"
      },
      "outputs": [],
      "source": [
        "# Step 1: Filter rows that contain \"male\" or \"female\" in the name\n",
        "emp_data_cleaned = emp_data[emp_data[\"Indicator Name\"].str.contains(r\"\\b(male|female)\\b\", case=False, regex=True)]"
      ]
    },
    {
      "cell_type": "code",
      "execution_count": null,
      "metadata": {
        "id": "C8CCzneVWccX"
      },
      "outputs": [],
      "source": [
        "# Clean the Indicator Name\n",
        "def clean_indicator_name(indicator):\n",
        "    if \"youth\" in indicator.lower():\n",
        "        return \"Unemployment, youth\"\n",
        "    else:\n",
        "        # Remove gender-specific and retain the main part of the indicator\n",
        "        return (\n",
        "            indicator.replace(\"(% of female employment)\", \"(% of employment)\")\n",
        "            .replace(\"(% of male employment)\", \"(% of employment)\")\n",
        "            .replace(\", male\", \"\")\n",
        "            .replace(\", female\", \"\")\n",
        "            .replace(\" female\", \"\")\n",
        "            .replace(\" male\", \"\")\n",
        "            .replace(\"  \", \" \")\n",
        "            .strip()\n",
        "        )\n",
        "\n",
        "emp_data_cleaned[\"Indicator Name\"] = emp_data_cleaned[\"Indicator Name\"].apply(clean_indicator_name)\n",
        "\n",
        "avg_df = emp_data_cleaned.groupby([\"Indicator Name\", \"Gender\", \"Country\"], as_index=False)[\"Indicator Value\"].mean()"
      ]
    },
    {
      "cell_type": "code",
      "execution_count": null,
      "metadata": {
        "id": "UOInhyoBWccX"
      },
      "outputs": [],
      "source": [
        "emp_data_cleaned"
      ]
    },
    {
      "cell_type": "code",
      "execution_count": null,
      "metadata": {
        "id": "BrSlh6cEWccX"
      },
      "outputs": [],
      "source": [
        "# Adjust female values to be negative for the pyramid chart\n",
        "avg_df[\"Indicator Value\"] = avg_df.apply(\n",
        "    lambda row: -row[\"Indicator Value\"] if row[\"Gender\"] == \"Female\" else row[\"Indicator Value\"], axis=1)"
      ]
    },
    {
      "cell_type": "code",
      "execution_count": null,
      "metadata": {
        "id": "WUVsSwBwWccX"
      },
      "outputs": [],
      "source": [
        "country_dropdown = alt.binding_select(options=list(avg_df['Country'].unique()), name=\"Select Country: \")\n",
        "country_selection = alt.selection_point(fields=['Country'], bind=country_dropdown, name=\"CountrySelection\")\n",
        "\n",
        "# Calculate height based on the number of indicators\n",
        "unique_indicators = avg_df[\"Indicator Name\"].nunique()\n",
        "chart_height = max(10 * unique_indicators, 700)"
      ]
    },
    {
      "cell_type": "code",
      "execution_count": null,
      "metadata": {
        "id": "MSDwvmx-WccX"
      },
      "outputs": [],
      "source": [
        "# Create the pyramid chart\n",
        "base = alt.Chart(avg_df).mark_bar().encode(\n",
        "    x=alt.X(\"Indicator Value:Q\", title=\"Average Value (%)\", axis=alt.Axis(format=\".1f\")),\n",
        "    y=alt.Y(\"Indicator Name:N\", title=None, sort=\"ascending\"),\n",
        "    color=alt.Color(\"Gender:N\", scale=alt.Scale(domain=[\"Male\", \"Female\"], range=[\"#003f5c\", \"#d45087\"]), legend=alt.Legend(title=\"Gender\")),\n",
        "    tooltip=[\"Country\", \"Indicator Name\", \"Gender\", \"Indicator Value\"]\n",
        ").add_params(\n",
        "    country_selection\n",
        ").transform_filter(\n",
        "    country_selection\n",
        ").properties(\n",
        "    width=750,\n",
        "    height=500,\n",
        "    title=\"Pyramid Chart of Employment Indicators by Gender\"\n",
        ")\n",
        "\n",
        "# Add center axis line\n",
        "rule = alt.Chart(pd.DataFrame({'x': [0]})).mark_rule(strokeDash=[5, 5]).encode(x='x:Q')\n",
        "\n",
        "# Combine the bars and the center axis\n",
        "chart = (base + rule).configure_axis(\n",
        "    labelFontSize=12,\n",
        "    titleFontSize=14,\n",
        "    labelLimit=1000\n",
        ").configure_title(\n",
        "    fontSize=18,\n",
        "    anchor=\"start\"\n",
        ")\n",
        "\n",
        "chart.show()"
      ]
    },
    {
      "cell_type": "markdown",
      "metadata": {
        "collapsed": false,
        "id": "Ec9oP1YvWccX"
      },
      "source": [
        "### Distribution of the Employment Indicators"
      ]
    },
    {
      "cell_type": "code",
      "execution_count": null,
      "metadata": {
        "id": "4CVK2lMmWccX"
      },
      "outputs": [],
      "source": [
        "# Create the plot\n",
        "plt.figure(figsize=(18, 8))\n",
        "sns.set_theme(style=\"whitegrid\")\n",
        "\n",
        "# Create the boxplot\n",
        "boxplot = sns.boxplot(\n",
        "    data=emp_data[emp_data['Indicator Name'].isin(['Employment in agriculture, female (% of female employment)',\n",
        "                                                   'Employment in industry, female (% of female employment)',\n",
        "                                                   'Employment in services, female (% of female employment)'])],\n",
        "    x='Indicator Name',\n",
        "    y='Indicator Value',\n",
        "    hue='Country',\n",
        "    palette=country_colors,\n",
        "    linewidth=1.5,\n",
        "    fliersize=3)  # Adjust outlier marker size\n",
        "\n",
        "# Enhance visual aesthetics\n",
        "boxplot.set_title('Indicator-wise Boxplot of Employment Sectors by Country', fontsize=16, fontweight=\"bold\", pad=20)\n",
        "boxplot.set_xlabel('Indicators', fontsize=14, weight='bold', labelpad=15)\n",
        "boxplot.set_ylabel('Percentage (%)', fontsize=14, weight='bold')\n",
        "boxplot.tick_params(axis='x', rotation=0, labelsize=12)\n",
        "boxplot.tick_params(axis='y', labelsize=12)\n",
        "boxplot.legend(title='Country', fontsize=12, title_fontsize=14)\n",
        "\n",
        "# Add a tight grid for y-axis only\n",
        "plt.grid(axis='y', linestyle='--', alpha=0.7)\n",
        "\n",
        "# Adjust layout for better spacing\n",
        "plt.tight_layout()\n",
        "\n",
        "# Show the plot\n",
        "plt.show()"
      ]
    },
    {
      "cell_type": "markdown",
      "metadata": {
        "collapsed": false,
        "id": "_gYTugO4WccY"
      },
      "source": [
        "### Distribution of Vulnerable and Informal Employment"
      ]
    },
    {
      "cell_type": "code",
      "execution_count": null,
      "metadata": {
        "id": "b19bFzvLWccY"
      },
      "outputs": [],
      "source": [
        "# Create the plot\n",
        "plt.figure(figsize=(18, 8))\n",
        "sns.set_theme(style=\"whitegrid\")\n",
        "\n",
        "# Create the boxplot\n",
        "boxplot = sns.boxplot(\n",
        "    data=emp_data[emp_data['Indicator Name'].isin(['Contributing family workers, female (% of female employment)',\n",
        "                                                   'Vulnerable employment, female (% of female employment)',\n",
        "                                                   'Self-employed, female (% of female employment)'])],\n",
        "    x='Indicator Name',\n",
        "    y='Indicator Value',\n",
        "    hue='Country',\n",
        "    palette=country_colors,\n",
        "    linewidth=1.5,\n",
        "    fliersize=3)  # Adjust outlier marker size\n",
        "\n",
        "# Enhance visual aesthetics\n",
        "boxplot.set_title('Indicator-wise Boxplot of Female Vulnerable Employment by Country', fontsize=16, fontweight=\"bold\", pad=20)\n",
        "boxplot.set_xlabel('Indicators', fontsize=14, weight='bold', labelpad=15)\n",
        "boxplot.set_ylabel('Percentage (%)', fontsize=14, weight='bold')\n",
        "boxplot.tick_params(axis='x', rotation=0, labelsize=12)\n",
        "boxplot.tick_params(axis='y', labelsize=12)\n",
        "boxplot.legend(title='Country', fontsize=12, title_fontsize=14)\n",
        "\n",
        "# Add a tight grid for y-axis only\n",
        "plt.grid(axis='y', linestyle='--', alpha=0.7)\n",
        "\n",
        "# Adjust layout for better spacing\n",
        "plt.tight_layout()\n",
        "\n",
        "# Show the plot\n",
        "plt.show()"
      ]
    },
    {
      "cell_type": "code",
      "execution_count": null,
      "metadata": {
        "id": "mQ4Al0qLWccY"
      },
      "outputs": [],
      "source": [
        "# Create a selection for the countries\n",
        "country_selection = alt.selection_point(fields=['Country'], bind='legend')\n",
        "emp_sect_data = emp_data[emp_data['Indicator Name'].isin(['Employment in agriculture, female (% of female employment)',\n",
        "                                                   'Employment in industry, female (% of female employment)',\n",
        "                                                   'Employment in services, female (% of female employment)'])]\n",
        "\n",
        "vuln_data = emp_data[emp_data['Indicator Name'].isin(['Contributing family workers, female (% of female employment)',\n",
        "                                                   'Vulnerable employment, female (% of female employment)',\n",
        "                                                   'Self-employed, female (% of female employment)'])]\n",
        "\n",
        "emp_sect_data = emp_sect_data[emp_sect_data['Year'] > 1990]\n",
        "vuln_data = vuln_data[vuln_data['Year'] > 1990]"
      ]
    },
    {
      "cell_type": "code",
      "execution_count": null,
      "metadata": {
        "id": "1vAMbHVgWccY"
      },
      "outputs": [],
      "source": [
        "agr_chart = alt.Chart(emp_sect_data[emp_sect_data['Indicator Name'] == 'Employment in agriculture, female (% of female employment)']).mark_line(point=False).encode(\n",
        "    x=alt.X('Year:O', title='Year', axis=alt.Axis(values=[year for year in range(emp_sect_data['Year'].min(), emp_sect_data['Year'].max() + 1, 5)], labelAngle=-45)),\n",
        "    y='Indicator Value:Q',\n",
        "    color=alt.Color('Country:N', legend=alt.Legend(title='Country'),\n",
        "                    scale=alt.Scale(domain=list(country_colors.keys()),\n",
        "                                    range=list(country_colors.values()))),\n",
        "    tooltip=['Year', 'Country', 'Indicator Value']\n",
        ").properties(\n",
        "    title='Female Employment in Agriculture',\n",
        "    width=345,\n",
        "    height=300\n",
        ")\n",
        "\n",
        "ind_chart = alt.Chart(emp_sect_data[emp_sect_data['Indicator Name'] == 'Employment in industry, female (% of female employment)']).mark_line(point=False).encode(\n",
        "    x=alt.X('Year:O', title='Year', axis=alt.Axis(values=[year for year in range(emp_sect_data['Year'].min(), emp_sect_data['Year'].max() + 1, 5)], labelAngle=-45)),\n",
        "    y='Indicator Value:Q',\n",
        "    color=alt.Color('Country:N', legend=alt.Legend(title='Country'),\n",
        "                    scale=alt.Scale(domain=list(country_colors.keys()),\n",
        "                                    range=list(country_colors.values()))),\n",
        "    tooltip=['Year', 'Country', 'Indicator Value']\n",
        ").properties(\n",
        "    title='Female Employment in Industry',\n",
        "    width=345,\n",
        "    height=300\n",
        ")\n",
        "\n",
        "serv_chart = alt.Chart(emp_sect_data[emp_sect_data['Indicator Name'] == 'Employment in services, female (% of female employment)']).mark_line(point=False).encode(\n",
        "    x=alt.X('Year:O', title='Year', axis=alt.Axis(values=[year for year in range(emp_sect_data['Year'].min(), emp_sect_data['Year'].max() + 1, 5)], labelAngle=-45)),\n",
        "    y='Indicator Value:Q',\n",
        "    color=alt.Color('Country:N', legend=alt.Legend(title='Country'),\n",
        "                    scale=alt.Scale(domain=list(country_colors.keys()),\n",
        "                                    range=list(country_colors.values()))),\n",
        "    tooltip=['Year', 'Country', 'Indicator Value']\n",
        ").properties(\n",
        "    title='Female Employment in Services',\n",
        "    width=345,\n",
        "    height=300\n",
        ")\n",
        "\n",
        "# Display all charts\n",
        "(agr_chart | ind_chart | serv_chart).display()"
      ]
    },
    {
      "cell_type": "markdown",
      "metadata": {
        "collapsed": false,
        "id": "pv3uXQi6WccY"
      },
      "source": [
        "'Contributing family workers, female (% of female employment)',\n",
        "                                                   'Vulnerable employment, female (% of female employment)',\n",
        "                                                   'Self-employed, female (% of female employment)'"
      ]
    },
    {
      "cell_type": "code",
      "execution_count": null,
      "metadata": {
        "id": "TaZmI5wrWccY"
      },
      "outputs": [],
      "source": [
        "cfw_chart = alt.Chart(vuln_data[vuln_data['Indicator Name'] == 'Contributing family workers, female (% of female employment)']).mark_line(point=False).encode(\n",
        "    x=alt.X('Year:O', title='Year', axis=alt.Axis(values=[year for year in range(vuln_data['Year'].min(), vuln_data['Year'].max() + 1, 5)], labelAngle=-45)),\n",
        "    y='Indicator Value:Q',\n",
        "    color=alt.Color('Country:N', legend=alt.Legend(title='Country'),\n",
        "                    scale=alt.Scale(domain=list(country_colors.keys()),\n",
        "                                    range=list(country_colors.values()))),\n",
        "    tooltip=['Year', 'Country', 'Indicator Value']\n",
        ").properties(\n",
        "    title='Female Contributing Family Workers',\n",
        "    width=345,\n",
        "    height=300\n",
        ")\n",
        "\n",
        "ve_chart = alt.Chart(vuln_data[vuln_data['Indicator Name'] == 'Vulnerable employment, female (% of female employment)']).mark_line(point=False).encode(\n",
        "    x=alt.X('Year:O', title='Year', axis=alt.Axis(values=[year for year in range(vuln_data['Year'].min(), vuln_data['Year'].max() + 1, 5)], labelAngle=-45)),\n",
        "    y='Indicator Value:Q',\n",
        "    color=alt.Color('Country:N', legend=alt.Legend(title='Country'),\n",
        "                    scale=alt.Scale(domain=list(country_colors.keys()),\n",
        "                                    range=list(country_colors.values()))),\n",
        "    tooltip=['Year', 'Country', 'Indicator Value']\n",
        ").properties(\n",
        "    title= 'Women Vulnerable Employment',\n",
        "    width=345,\n",
        "    height=300\n",
        ")\n",
        "\n",
        "semp_chart = alt.Chart(vuln_data[vuln_data['Indicator Name'] == 'Self-employed, female (% of female employment)']).mark_line(point=False).encode(\n",
        "    x=alt.X('Year:O', title='Year', axis=alt.Axis(values=[year for year in range(vuln_data['Year'].min(), vuln_data['Year'].max() + 1, 5)], labelAngle=-45)),\n",
        "    y='Indicator Value:Q',\n",
        "    color=alt.Color('Country:N', legend=alt.Legend(title='Country'),\n",
        "                    scale=alt.Scale(domain=list(country_colors.keys()),\n",
        "                                    range=list(country_colors.values()))),\n",
        "    tooltip=['Year', 'Country', 'Indicator Value']\n",
        ").properties(\n",
        "    title='Share of Self-Employed Women',\n",
        "    width=345,\n",
        "    height=300\n",
        ")\n",
        "\n",
        "# Display all charts\n",
        "(cfw_chart | ve_chart | semp_chart).display()"
      ]
    },
    {
      "cell_type": "code",
      "execution_count": null,
      "metadata": {
        "id": "Nadd0W0cWccY"
      },
      "outputs": [],
      "source": [
        "emp_data"
      ]
    },
    {
      "cell_type": "markdown",
      "metadata": {
        "collapsed": false,
        "id": "W288uST5WccY"
      },
      "source": [
        "### Waged and Salaries Workers"
      ]
    },
    {
      "cell_type": "code",
      "execution_count": null,
      "metadata": {
        "id": "CaX2yON2WccY"
      },
      "outputs": [],
      "source": [
        "wage_work = emp_data[emp_data['Indicator Name'].isin(['Wage and salaried workers, female (% of female employment)',\n",
        "                                                      'Wage and salaried workers, male (% of male employment)'])]\n",
        "wage_work = wage_work[wage_work['Year'] > 1990]\n",
        "\n",
        "wage_fem = alt.Chart(wage_work[wage_work['Indicator Name'] == 'Wage and salaried workers, female (% of female employment)']).mark_line(point=False).encode(\n",
        "    x=alt.X('Year:O', title='Year', axis=alt.Axis(values=[year for year in range(wage_work['Year'].min(), wage_work['Year'].max() + 1, 5)], labelAngle=-45)),\n",
        "    y='Indicator Value:Q',\n",
        "    color=alt.Color('Country:N', legend=alt.Legend(title='Country'),\n",
        "                    scale=alt.Scale(domain=list(country_colors.keys()),\n",
        "                                    range=list(country_colors.values()))),\n",
        "    tooltip=['Year', 'Country', 'Indicator Value']\n",
        ").properties(\n",
        "    title='Waged and Salaried Female Workers',\n",
        "    width=500,\n",
        "    height=300\n",
        ")\n",
        "\n",
        "wage_male = alt.Chart(wage_work[wage_work['Indicator Name'] == 'Wage and salaried workers, male (% of male employment)']).mark_line(point=False).encode(\n",
        "    x=alt.X('Year:O', title='Year', axis=alt.Axis(values=[year for year in range(wage_work['Year'].min(), wage_work['Year'].max() + 1, 5)], labelAngle=-45)),\n",
        "    y='Indicator Value:Q',\n",
        "    color=alt.Color('Country:N', legend=alt.Legend(title='Country'),\n",
        "                    scale=alt.Scale(domain=list(country_colors.keys()),\n",
        "                                    range=list(country_colors.values()))),\n",
        "    tooltip=['Year', 'Country', 'Indicator Value']\n",
        ").properties(\n",
        "    title='Waged and Salaried Male Workers',\n",
        "    width=500,\n",
        "    height=300\n",
        ")\n",
        "\n",
        "# Display all charts\n",
        "(wage_fem | wage_male).display()"
      ]
    },
    {
      "cell_type": "markdown",
      "metadata": {
        "collapsed": false,
        "id": "eizOjnqRWccZ"
      },
      "source": [
        "### Self-Employment and Employers"
      ]
    },
    {
      "cell_type": "code",
      "execution_count": null,
      "metadata": {
        "id": "pIAGZyzKWccZ"
      },
      "outputs": [],
      "source": [
        "part_emp = emp_data[emp_data['Indicator Name'].isin(['Employers, female (% of female employment)',\n",
        "                                                     'Part time employment, female (% of total female employment)',\n",
        "                                                     'Employers, male (% of male employment)',\n",
        "                                                     'Part time employment, male (% of total male employment)'])]\n",
        "part_emp = part_emp[part_emp['Year'] > 1990]\n",
        "\n",
        "empl_chart_f = alt.Chart(part_emp[part_emp['Indicator Name'] == 'Employers, female (% of female employment)']).mark_line(point=False).encode(\n",
        "    x=alt.X('Year:O', title='Year', axis=alt.Axis(values=[year for year in range(part_emp['Year'].min(), part_emp['Year'].max() + 1, 5)], labelAngle=-45)),\n",
        "    y='Indicator Value:Q',\n",
        "    color=alt.Color('Country:N', legend=alt.Legend(title='Country'),\n",
        "                    scale=alt.Scale(domain=list(country_colors.keys()),\n",
        "                                    range=list(country_colors.values()))),\n",
        "    tooltip=['Year', 'Country', 'Indicator Value']\n",
        ").properties(\n",
        "    title='Women Employers',\n",
        "    width=500,\n",
        "    height=300\n",
        ")\n",
        "\n",
        "empl_chart_m = alt.Chart(part_emp[part_emp['Indicator Name'] == 'Employers, male (% of male employment)']).mark_line(point=False).encode(\n",
        "    x=alt.X('Year:O', title='Year', axis=alt.Axis(values=[year for year in range(part_emp['Year'].min(), part_emp['Year'].max() + 1, 5)], labelAngle=-45)),\n",
        "    y='Indicator Value:Q',\n",
        "    color=alt.Color('Country:N', legend=alt.Legend(title='Country'),\n",
        "                    scale=alt.Scale(domain=list(country_colors.keys()),\n",
        "                                    range=list(country_colors.values()))),\n",
        "    tooltip=['Year', 'Country', 'Indicator Value']\n",
        ").properties(\n",
        "    title='Men Employers',\n",
        "    width=500,\n",
        "    height=300\n",
        ")\n",
        "\n",
        "# Display all charts\n",
        "(empl_chart_f | empl_chart_m).display()"
      ]
    },
    {
      "cell_type": "code",
      "execution_count": null,
      "metadata": {
        "id": "QlRViWzRWccZ"
      },
      "outputs": [],
      "source": [
        "part_chart_f = alt.Chart(part_emp[part_emp['Indicator Name'] == 'Part time employment, female (% of total female employment)']).mark_line(point=False).encode(\n",
        "    x=alt.X('Year:O', title='Year', axis=alt.Axis(values=[year for year in range(part_emp['Year'].min(), part_emp['Year'].max() + 1, 5)], labelAngle=-45)),\n",
        "    y='Indicator Value:Q',\n",
        "    color=alt.Color('Country:N', legend=alt.Legend(title='Country'),\n",
        "                    scale=alt.Scale(domain=list(country_colors.keys()),\n",
        "                                    range=list(country_colors.values()))),\n",
        "    tooltip=['Year', 'Country', 'Indicator Value']\n",
        ").properties(\n",
        "    title='Part time employment in Women',\n",
        "    width=500,\n",
        "    height=300\n",
        ")\n",
        "\n",
        "part_chart_m = alt.Chart(part_emp[part_emp['Indicator Name'] == 'Part time employment, male (% of total male employment)']).mark_line(point=False).encode(\n",
        "    x=alt.X('Year:O', title='Year', axis=alt.Axis(values=[year for year in range(part_emp['Year'].min(), part_emp['Year'].max() + 1, 5)], labelAngle=-45)),\n",
        "    y='Indicator Value:Q',\n",
        "    color=alt.Color('Country:N', legend=alt.Legend(title='Country'),\n",
        "                    scale=alt.Scale(domain=list(country_colors.keys()),\n",
        "                                    range=list(country_colors.values()))),\n",
        "    tooltip=['Year', 'Country', 'Indicator Value']\n",
        ").properties(\n",
        "    title='Part time employment in Men',\n",
        "    width=500,\n",
        "    height=300\n",
        ")\n",
        "\n",
        "# Display all charts\n",
        "(part_chart_f | part_chart_m).display()"
      ]
    },
    {
      "cell_type": "markdown",
      "metadata": {
        "id": "aqbkLpQYfSn5"
      },
      "source": [
        "### Unemployment"
      ]
    },
    {
      "cell_type": "code",
      "execution_count": null,
      "metadata": {
        "id": "tSGKkUcpfUBh"
      },
      "outputs": [],
      "source": [
        "unemp = emp_data[emp_data['Year'] > 1990]\n",
        "unemp_chart = alt.Chart(unemp[unemp['Indicator Name'] == 'Unemployment, female (% of female labor force)']).mark_line().encode(\n",
        "    x=alt.X('Year:O', title='Year'),\n",
        "    y=alt.Y('Indicator Value:Q',\n",
        "            title='Unemployment, female (% of female labor force)'),\n",
        "    color=alt.Color('Country:N', legend=alt.Legend(title='Country'), scale=alt.Scale(domain=list(country_colors.keys()),\n",
        "                                                                                     range=list(\n",
        "                                                                                         country_colors.values()))),\n",
        "    opacity=alt.condition(country_selection, alt.value(1), alt.value(0.15)),\n",
        "    tooltip=[\n",
        "        alt.Tooltip('Year:O', title='Year'),\n",
        "        alt.Tooltip('Indicator Value:Q',\n",
        "                    title='Unemployment, female (% of female labor force)'),\n",
        "        alt.Tooltip('Country:N', title='Country')\n",
        "    ]\n",
        ").add_params(\n",
        "    country_selection\n",
        ").properties(\n",
        "    width=800,\n",
        "    height=300,\n",
        "    title='Female Unemployment Trend Over the Years'\n",
        ")\n",
        "\n",
        "# Display the chart\n",
        "unemp_chart"
      ]
    },
    {
      "cell_type": "markdown",
      "metadata": {
        "collapsed": false,
        "id": "V5YXP0lWWccZ"
      },
      "source": [
        "## Correlation Among Employment Indicators and Urban Population"
      ]
    },
    {
      "cell_type": "code",
      "execution_count": null,
      "metadata": {
        "id": "C-G2N8H2KW4z"
      },
      "outputs": [],
      "source": [
        "# Filter the data for female indicators\n",
        "female_indicators = emp_data[emp_data['Gender'] == 'Female']"
      ]
    },
    {
      "cell_type": "markdown",
      "metadata": {
        "id": "1CpCh2twKd14"
      },
      "source": [
        "### Correlation in China"
      ]
    },
    {
      "cell_type": "code",
      "execution_count": null,
      "metadata": {
        "id": "_VzPxSzcWccZ"
      },
      "outputs": [],
      "source": [
        "china_data = female_indicators[female_indicators['Country'] == 'China']\n",
        "\n",
        "# Pivot the data to prepare it for correlation calculation\n",
        "pivot_data = china_data.pivot_table(\n",
        "    index=['Year', 'Country'],\n",
        "    columns='Indicator Name',\n",
        "    values='Indicator Value',\n",
        "    aggfunc=np.mean\n",
        ").reset_index()\n",
        "\n",
        "correlation_matrix_china = pivot_data.drop(columns=['Year']).select_dtypes(include=[np.number]).corr(method=\"pearson\")\n",
        "\n",
        "# Plot the heatmap using seaborn\n",
        "plt.figure(figsize=(20, 10))\n",
        "sns.heatmap(correlation_matrix_china, annot=True, fmt=\".2f\", cmap='coolwarm', cbar=True)\n",
        "plt.title('Pearson Correlation - China', fontsize=14, fontweight=\"bold\", pad=20)\n",
        "plt.xticks(rotation=45, ha='right')\n",
        "plt.yticks(rotation=0)\n",
        "plt.tight_layout()\n",
        "plt.show()"
      ]
    },
    {
      "cell_type": "code",
      "execution_count": null,
      "metadata": {
        "id": "JWNBnqZ8sk1L"
      },
      "outputs": [],
      "source": [
        "selected_indicators = china_data[\n",
        "    china_data['Indicator Name'].isin([\n",
        "        'Wage and salaried workers, female (% of female employment)',\n",
        "        'Vulnerable employment, female (% of female employment)'\n",
        "    ])\n",
        "]\n",
        "\n",
        "# Pivot the data to prepare for the scatter plot\n",
        "pivot_data = selected_indicators.pivot_table(\n",
        "    index=['Year', 'Country'],\n",
        "    columns='Indicator Name',\n",
        "    values='Indicator Value'\n",
        ").dropna()  # Drop rows with missing values\n",
        "\n",
        "# Plot the relationship between the two indicators\n",
        "plt.figure(figsize=(10, 6))\n",
        "plt.scatter(\n",
        "    pivot_data['Wage and salaried workers, female (% of female employment)'],\n",
        "    pivot_data['Vulnerable employment, female (% of female employment)'],\n",
        "    alpha=0.7,\n",
        "    c='blue',\n",
        "    edgecolors='k'\n",
        ")\n",
        "plt.title('Relationship Between Self-employed and Contributing family workers', fontsize=14)\n",
        "plt.xlabel('Wage and salaried workers, Female (% of Female Employment)', fontsize=12)\n",
        "plt.ylabel('Vulnerable employment', fontsize=12)\n",
        "plt.grid(alpha=0.3)\n",
        "plt.tight_layout()\n",
        "plt.show()"
      ]
    },
    {
      "cell_type": "markdown",
      "metadata": {
        "id": "nRxm8jU6NIDt"
      },
      "source": [
        "### Correlation in European Union"
      ]
    },
    {
      "cell_type": "code",
      "execution_count": null,
      "metadata": {
        "id": "s2_BJ4_5WccZ"
      },
      "outputs": [],
      "source": [
        "eu_data = female_indicators[female_indicators['Country'] == 'European Union']\n",
        "\n",
        "# Pivot the data to prepare it for correlation calculation\n",
        "pivot_data = eu_data.pivot_table(\n",
        "    index=['Year', 'Country'],\n",
        "    columns='Indicator Name',\n",
        "    values='Indicator Value',\n",
        "    aggfunc=np.mean\n",
        ").reset_index()\n",
        "\n",
        "correlation_matrix_eu = pivot_data.drop(columns=['Year']).select_dtypes(include=[np.number]).corr(method=\"pearson\")\n",
        "\n",
        "# Plot the heatmap using seaborn\n",
        "plt.figure(figsize=(20, 10))\n",
        "sns.heatmap(correlation_matrix_eu, annot=True, fmt=\".2f\", cmap='coolwarm', cbar=True)\n",
        "plt.title('Pearson Correlation - European Union', fontsize=14, fontweight=\"bold\", pad=20)\n",
        "plt.xticks(rotation=45, ha='right')\n",
        "plt.yticks(rotation=0)\n",
        "plt.tight_layout()\n",
        "plt.show()"
      ]
    },
    {
      "cell_type": "markdown",
      "metadata": {
        "id": "A2pAe_wvNevv"
      },
      "source": [
        "### Correlation in India"
      ]
    },
    {
      "cell_type": "code",
      "execution_count": null,
      "metadata": {
        "id": "WRfzpStPWccZ"
      },
      "outputs": [],
      "source": [
        "india_data = female_indicators[female_indicators['Country'] == 'India']\n",
        "\n",
        "# Pivot the data to prepare it for correlation calculation\n",
        "pivot_data = india_data.pivot_table(\n",
        "    index=['Year', 'Country'],\n",
        "    columns='Indicator Name',\n",
        "    values='Indicator Value',\n",
        "    aggfunc=np.mean\n",
        ").reset_index()\n",
        "\n",
        "correlation_matrix_india = pivot_data.drop(columns=['Year']).select_dtypes(include=[np.number]).corr(method=\"pearson\")\n",
        "\n",
        "# Plot the heatmap using seaborn\n",
        "plt.figure(figsize=(20, 10))\n",
        "sns.heatmap(correlation_matrix_india, annot=True, fmt=\".2f\", cmap='coolwarm', cbar=True)\n",
        "plt.title('Pearson Correlation - India', fontsize=14, fontweight=\"bold\", pad=20)\n",
        "plt.xticks(rotation=45, ha='right')\n",
        "plt.yticks(rotation=0)\n",
        "plt.tight_layout()\n",
        "plt.show()"
      ]
    },
    {
      "cell_type": "markdown",
      "metadata": {
        "collapsed": false,
        "id": "5J_SXiMKWcca"
      },
      "source": [
        "## ARIMA Predictions"
      ]
    },
    {
      "cell_type": "markdown",
      "metadata": {
        "collapsed": false,
        "id": "EBC4ogOaWcca"
      },
      "source": [
        "### Employment in Agriculture, Industries and Services in China"
      ]
    },
    {
      "cell_type": "markdown",
      "metadata": {
        "collapsed": false,
        "id": "mWm5ri7OWcca"
      },
      "source": [
        "#### Employment in agriculture, female (% of female employment) (modeled ILO estimate) - China"
      ]
    },
    {
      "cell_type": "code",
      "execution_count": null,
      "metadata": {
        "id": "nUgmdvWeWcca"
      },
      "outputs": [],
      "source": [
        "empl_agr_china = female_indicators[\n",
        "    (female_indicators[\"Country\"] == \"China\") &\n",
        "    (female_indicators[\"Indicator Name\"] == \"Employment in agriculture, female (% of female employment)\")\n",
        "]\n",
        "\n",
        "# Prepare the time series\n",
        "ts = empl_agr_china[[\"Year\", \"Indicator Value\"]].dropna()\n",
        "ts[\"Year\"] = ts[\"Year\"].astype(int)\n",
        "ts[\"Year\"] = pd.to_datetime(ts[\"Year\"], format='%Y').dt.year\n",
        "ts.set_index(\"Year\", inplace=True)\n",
        "\n",
        "\n",
        "ts.index = pd.RangeIndex(start=ts.index.min(), stop=ts.index.max() + 1, step=1)"
      ]
    },
    {
      "cell_type": "code",
      "execution_count": null,
      "metadata": {
        "id": "GNMb4RZRWcca"
      },
      "outputs": [],
      "source": [
        "# Check for stationarity in the data\n",
        "def adf_test(series):\n",
        "    result = adfuller(series)\n",
        "    print('ADF Statistic:', result[0])\n",
        "    print('p-value:', result[1])\n",
        "    for key, value in result[4].items():\n",
        "        print('Critical Value ({}): {:.3f}'.format(key, value))\n",
        "\n",
        "print(\"ADF Test for Original Series:\")\n",
        "adf_test(ts['Indicator Value'])"
      ]
    },
    {
      "cell_type": "markdown",
      "metadata": {
        "collapsed": false,
        "id": "AVv-9luoWcca"
      },
      "source": [
        "The results indicate that the null hypothesis cannot be rejected.\n",
        "The ADF statistic is -0.797, which is greater than the critical values (-3.670, -2.964, -2.621), indicating that it fails to reject the null hypothesis. The same is confirmed with the p-value, much higher than the significance level of 0.05.\n",
        "This confirms that differencing is needed before fitting an ARIMA model."
      ]
    },
    {
      "cell_type": "markdown",
      "metadata": {
        "collapsed": false,
        "id": "byWlMotfWcca"
      },
      "source": [
        "An autocorrelation and the differencing plots are therefore shown below."
      ]
    },
    {
      "cell_type": "code",
      "execution_count": null,
      "metadata": {
        "id": "cyGgrBpQWcca"
      },
      "outputs": [],
      "source": [
        "# Autocorrelation\n",
        "first_year = ts.index.min()\n",
        "last_year = ts.index.max()\n",
        "\n",
        "fig, axes = plt.subplots(3, 2, figsize=(12, 8))\n",
        "\n",
        "# Original Series\n",
        "axes[0, 0].plot(ts.index, ts['Indicator Value'], marker='o')\n",
        "axes[0, 0].set_title('Original Series')\n",
        "axes[0, 0].set_xlim([first_year, last_year])\n",
        "\n",
        "# Autocorrelation for Original Series\n",
        "plot_acf(ts['Indicator Value'].dropna(), ax=axes[0, 1])\n",
        "\n",
        "# 1st Differencing\n",
        "ts_diff = ts['Indicator Value'].diff().dropna()\n",
        "axes[1, 0].plot(ts_diff.index, ts_diff, marker='o')\n",
        "axes[1, 0].set_title('1st Order Differencing')\n",
        "axes[1, 0].set_xlim([first_year, last_year])\n",
        "\n",
        "# Autocorrelation for 1st Differencing\n",
        "plot_acf(ts_diff, ax=axes[1, 1])\n",
        "\n",
        "# 2nd Differencing\n",
        "ts_diff2 = ts_diff.diff().dropna()\n",
        "axes[2, 0].plot(ts_diff2.index, ts_diff2, marker='o')\n",
        "axes[2, 0].set_title('2nd Order Differencing')\n",
        "axes[2, 0].set_xlim([first_year, last_year])\n",
        "\n",
        "# Autocorrelation for 2nd Differencing\n",
        "plot_acf(ts_diff2, ax=axes[2, 1])\n",
        "\n",
        "# Rotate x-axis labels for better readability\n",
        "for ax in axes[:, 0]:\n",
        "    ax.tick_params(axis='x', rotation=45)\n",
        "\n",
        "# Make sure ACF plots do not share x-axis settings with time series plots\n",
        "for ax in axes[:, 1]:\n",
        "    ax.set_xlim(auto=True)  # Let the ACF plots use their own scaling\n",
        "\n",
        "# Adjust layout\n",
        "plt.tight_layout()\n",
        "plt.show()"
      ]
    },
    {
      "cell_type": "markdown",
      "metadata": {
        "collapsed": false,
        "id": "JsoFOOoUWcca"
      },
      "source": [
        "It seems that the time series reaches for stationarity with two orders of differencing.\n",
        "The original series plot shows that there is a clear downward trend over time, and the autocorrelation plot decays very slowly, confirming that the series is non-stationary. Moreover, the high autocorrelation at multiple lags suggests strong dependence of the data over time.\n",
        "\n",
        "Therefore, the first differencing is done to remove the trend. It is shown in the graph that there is no downward trend anymore, and the autocorrelation plot shows that while the first lag has a strong positive correlation, the others drop quicly, suggesting that the series is getting closer to stationarity.\n",
        "\n",
        "A second order differencing is thus computed. It is clear in the graph that no trend has remained, and the autocorrelation shows that all lags now have very low autocorrelation values.\n",
        "Although the second differencing has improved the situation, it might not be as necessary; indeed, the first-order differencing series was very close to stationarity, suggesting that the d parameter should be d=1 instead of d=2. However, in order to confirm it, another ADF test will be computed on the first and second order of differencing."
      ]
    },
    {
      "cell_type": "code",
      "execution_count": null,
      "metadata": {
        "id": "tmhqb3oZWcca"
      },
      "outputs": [],
      "source": [
        "result = adfuller(ts_diff)\n",
        "print(\"First order of differencing:\")\n",
        "print(f\"ADF Statistic: {result[0]}\")\n",
        "print(f\"p-value: {result[1]}\")\n",
        "for key, value in result[4].items():\n",
        "    print(f\"Critical Value ({key}%): {value:.3f}\")\n",
        "\n",
        "result_2 = adfuller(ts_diff2)\n",
        "print(\"\\nSecond order of differencing:\")\n",
        "print(f\"ADF Statistic: {result_2[0]}\")\n",
        "print(f\"p-value: {result_2[1]}\")\n",
        "for key, value in result_2[4].items():\n",
        "    print(f\"Critical Value ({key}%): {value:.3f}\")"
      ]
    },
    {
      "cell_type": "markdown",
      "metadata": {
        "collapsed": false,
        "id": "551Q81enWcca"
      },
      "source": [
        "It seems that the second differencing was, indeed, needed, since the p-value was not lower than the significance value. Moreover, the ADF statistics is much lower than the critical values. It is then confirmed that the second differencing is needed and that d=2."
      ]
    },
    {
      "cell_type": "markdown",
      "metadata": {
        "collapsed": false,
        "id": "YUqF22EMWccb"
      },
      "source": [
        "#### AR (p)"
      ]
    },
    {
      "cell_type": "markdown",
      "metadata": {
        "collapsed": false,
        "id": "iuE1fM6qWccb"
      },
      "source": [
        "The model now requires the order of the AR term (p).\n",
        "The partial autocorrelation plot of the differenced series is therefore shown below."
      ]
    },
    {
      "cell_type": "code",
      "execution_count": null,
      "metadata": {
        "id": "LB-QdojjWccb"
      },
      "outputs": [],
      "source": [
        "# Update plot settings for better readability\n",
        "first_year = ts.index.min()\n",
        "last_year = ts.index.max()\n",
        "plt.rcParams.update({'figure.figsize': (9, 3), 'figure.dpi': 120})\n",
        "\n",
        "# Create subplots\n",
        "fig, axes = plt.subplots(1, 2, sharex=False)\n",
        "\n",
        "# 1st Order Differencing\n",
        "axes[0].plot(ts_diff.index, ts_diff, marker='o')\n",
        "axes[0].set_title('1st Differencing')\n",
        "axes[0].set_xlim([first_year, last_year])\n",
        "\n",
        "# PACF Plot for First-Order Differencing\n",
        "axes[1].set(ylim=(-1, 1))\n",
        "plot_pacf(ts_diff, ax=axes[1])\n",
        "\n",
        "plt.show()"
      ]
    },
    {
      "cell_type": "markdown",
      "metadata": {
        "collapsed": false,
        "id": "B0M-55ozWccb"
      },
      "source": [
        "It is observed that lag one is high above the significance line, while most of the others are below. The p is therefore fixed at p=1."
      ]
    },
    {
      "cell_type": "markdown",
      "metadata": {
        "collapsed": false,
        "id": "eaNsPYmRWccb"
      },
      "source": [
        "#### MA (q)"
      ]
    },
    {
      "cell_type": "markdown",
      "metadata": {
        "collapsed": false,
        "id": "jFzn4PAsWccb"
      },
      "source": [
        "As with the partial autocorrelation, the MA term can be derived from the autocorrelation plot of the differenced series."
      ]
    },
    {
      "cell_type": "code",
      "execution_count": null,
      "metadata": {
        "id": "1lqYlqtuWccb"
      },
      "outputs": [],
      "source": [
        "# Update plot settings for better readability\n",
        "plt.rcParams.update({'figure.figsize': (9, 3), 'figure.dpi': 120})\n",
        "\n",
        "# Create subplots\n",
        "fig, axes = plt.subplots(1, 2, sharex=False)\n",
        "\n",
        "# 1st Order Differencing\n",
        "axes[0].plot(ts_diff.index, ts_diff, marker='o')\n",
        "axes[0].set_title('1st Differencing')\n",
        "axes[0].set_xlim([first_year, last_year])\n",
        "\n",
        "# ACF Plot for First-Order Differencing\n",
        "axes[1].set(ylim=(-1, 1))\n",
        "plot_acf(ts_diff, ax=axes[1])\n",
        "plt.show()"
      ]
    },
    {
      "cell_type": "markdown",
      "metadata": {
        "collapsed": false,
        "id": "6sobwxHJWccb"
      },
      "source": [
        "Again, the first lag is shown to be significantly above the limits. The q parameter is thus fixed at q=1."
      ]
    },
    {
      "cell_type": "markdown",
      "metadata": {
        "collapsed": false,
        "id": "_tfFcopTWccb"
      },
      "source": [
        "#### Building the ARIMA Model ARIMA(p,d,q)"
      ]
    },
    {
      "cell_type": "markdown",
      "metadata": {
        "collapsed": false,
        "id": "mWHtYElmWccb"
      },
      "source": []
    },
    {
      "cell_type": "code",
      "execution_count": null,
      "metadata": {
        "id": "jza__sBTWccb"
      },
      "outputs": [],
      "source": [
        "# Define train-test split size\n",
        "split_ratio = 0.8\n",
        "split_index = int(len(ts) * split_ratio)\n",
        "\n",
        "# Split into training and test sets\n",
        "train, test = ts.iloc[:split_index], ts.iloc[split_index:]\n",
        "\n",
        "model = ARIMA(ts['Indicator Value'], order=(1,2,1))\n",
        "model_fit = model.fit()\n",
        "print(model_fit.summary())"
      ]
    },
    {
      "cell_type": "markdown",
      "metadata": {
        "collapsed": false,
        "id": "bqO7bhwMWccb"
      },
      "source": [
        "From the statistics it seems that all autoregressive (AR) and moving average (MA) terms have high p-values, meaning they are not statistically significant. This suggests that this model might not be the best fit: although the Ljung-Box, JB and H-tests results are not necessarily bad, it is probable that the AR/MA terms might be unnecessary for the model.\n",
        "The next step is to try a model ARIMA(1,1,0)"
      ]
    },
    {
      "cell_type": "code",
      "execution_count": null,
      "metadata": {
        "id": "BZtlSfKpWccb"
      },
      "outputs": [],
      "source": [
        "# Define train-test split size\n",
        "split_ratio = 0.8\n",
        "split_index = int(len(ts) * split_ratio)\n",
        "\n",
        "# Split into training and test sets\n",
        "train, test = ts.iloc[:split_index], ts.iloc[split_index:]\n",
        "\n",
        "model = ARIMA(ts['Indicator Value'], order=(1,1,0))\n",
        "model_fit = model.fit()\n",
        "print(model_fit.summary())"
      ]
    },
    {
      "cell_type": "markdown",
      "metadata": {
        "collapsed": false,
        "id": "CapD4NflWccb"
      },
      "source": [
        "Now, the autoregressive term is actually significant (p-value < 0.05),\n",
        "and the other statistics look just as the previous model, suggesting that this model is preferable to the previous one as it is simpler, thus reduces overfitting and has no loss of predictive power."
      ]
    },
    {
      "cell_type": "markdown",
      "metadata": {
        "collapsed": false,
        "id": "b0avM1UpWccb"
      },
      "source": [
        "The predictions on the test set are then evaluated using the mean absolute error (MAE) and the root mean squared error (RMSE)."
      ]
    },
    {
      "cell_type": "code",
      "execution_count": 3,
      "metadata": {
        "colab": {
          "base_uri": "https://localhost:8080/",
          "height": 207
        },
        "id": "xaWQRC4gWccb",
        "outputId": "46efbd8e-56b0-4e73-a779-4901b974aa77"
      },
      "outputs": [
        {
          "output_type": "error",
          "ename": "NameError",
          "evalue": "name 'model_fit' is not defined",
          "traceback": [
            "\u001b[0;31m---------------------------------------------------------------------------\u001b[0m",
            "\u001b[0;31mNameError\u001b[0m                                 Traceback (most recent call last)",
            "\u001b[0;32m<ipython-input-3-4861cedec10e>\u001b[0m in \u001b[0;36m<cell line: 0>\u001b[0;34m()\u001b[0m\n\u001b[1;32m      1\u001b[0m \u001b[0;31m# Forecast the same length as the test set\u001b[0m\u001b[0;34m\u001b[0m\u001b[0;34m\u001b[0m\u001b[0m\n\u001b[0;32m----> 2\u001b[0;31m \u001b[0mtest_forecast\u001b[0m \u001b[0;34m=\u001b[0m \u001b[0mmodel_fit\u001b[0m\u001b[0;34m.\u001b[0m\u001b[0mforecast\u001b[0m\u001b[0;34m(\u001b[0m\u001b[0msteps\u001b[0m\u001b[0;34m=\u001b[0m\u001b[0mlen\u001b[0m\u001b[0;34m(\u001b[0m\u001b[0mtest\u001b[0m\u001b[0;34m)\u001b[0m\u001b[0;34m)\u001b[0m\u001b[0;34m\u001b[0m\u001b[0;34m\u001b[0m\u001b[0m\n\u001b[0m\u001b[1;32m      3\u001b[0m \u001b[0;34m\u001b[0m\u001b[0m\n\u001b[1;32m      4\u001b[0m \u001b[0;31m# Evaluate predictions\u001b[0m\u001b[0;34m\u001b[0m\u001b[0;34m\u001b[0m\u001b[0m\n\u001b[1;32m      5\u001b[0m \u001b[0mmae\u001b[0m \u001b[0;34m=\u001b[0m \u001b[0mmean_absolute_error\u001b[0m\u001b[0;34m(\u001b[0m\u001b[0mtest\u001b[0m\u001b[0;34m[\u001b[0m\u001b[0;34m'Indicator Value'\u001b[0m\u001b[0;34m]\u001b[0m\u001b[0;34m,\u001b[0m \u001b[0mtest_forecast\u001b[0m\u001b[0;34m)\u001b[0m\u001b[0;34m\u001b[0m\u001b[0;34m\u001b[0m\u001b[0m\n",
            "\u001b[0;31mNameError\u001b[0m: name 'model_fit' is not defined"
          ]
        }
      ],
      "source": [
        "# Forecast the same length as the test set\n",
        "test_forecast = model_fit.forecast(steps=len(test))\n",
        "\n",
        "# Evaluate predictions\n",
        "mae = mean_absolute_error(test['Indicator Value'], test_forecast)\n",
        "mse = mean_squared_error(test['Indicator Value'], test_forecast)\n",
        "rmse = mse ** 0.5\n",
        "\n",
        "# Print evaluation metrics\n",
        "print(f\"Mean Absolute Error (MAE): {mae:.4f}\")\n",
        "print(f\"Root Mean Squared Error (RMSE): {rmse:.4f}\")"
      ]
    },
    {
      "cell_type": "markdown",
      "metadata": {
        "collapsed": false,
        "id": "U7i0hHSbWccc"
      },
      "source": [
        "From the MAE it seems that on average, the predictions are 4,31 percentage points away from the actual values, which is confirmed by the RMSE. This suggests that some predictions deviate significantly form the actual values.\n",
        "Therefore, the residuals now need to be checked to understand the patterns."
      ]
    },
    {
      "cell_type": "code",
      "execution_count": 4,
      "metadata": {
        "colab": {
          "base_uri": "https://localhost:8080/",
          "height": 207
        },
        "id": "TCeCzriOWccc",
        "outputId": "72890bd4-e297-4e0f-a204-666cd1e161c4"
      },
      "outputs": [
        {
          "output_type": "error",
          "ename": "NameError",
          "evalue": "name 'model_fit' is not defined",
          "traceback": [
            "\u001b[0;31m---------------------------------------------------------------------------\u001b[0m",
            "\u001b[0;31mNameError\u001b[0m                                 Traceback (most recent call last)",
            "\u001b[0;32m<ipython-input-4-17f2494ffdb8>\u001b[0m in \u001b[0;36m<cell line: 0>\u001b[0;34m()\u001b[0m\n\u001b[0;32m----> 1\u001b[0;31m \u001b[0mresiduals\u001b[0m \u001b[0;34m=\u001b[0m \u001b[0mmodel_fit\u001b[0m\u001b[0;34m.\u001b[0m\u001b[0mresid\u001b[0m\u001b[0;34m\u001b[0m\u001b[0;34m\u001b[0m\u001b[0m\n\u001b[0m\u001b[1;32m      2\u001b[0m \u001b[0mplt\u001b[0m\u001b[0;34m.\u001b[0m\u001b[0mplot\u001b[0m\u001b[0;34m(\u001b[0m\u001b[0mresiduals\u001b[0m\u001b[0;34m)\u001b[0m\u001b[0;34m\u001b[0m\u001b[0;34m\u001b[0m\u001b[0m\n\u001b[1;32m      3\u001b[0m \u001b[0mplt\u001b[0m\u001b[0;34m.\u001b[0m\u001b[0mtitle\u001b[0m\u001b[0;34m(\u001b[0m\u001b[0;34m\"Residuals Over Time\"\u001b[0m\u001b[0;34m)\u001b[0m\u001b[0;34m\u001b[0m\u001b[0;34m\u001b[0m\u001b[0m\n\u001b[1;32m      4\u001b[0m \u001b[0mplt\u001b[0m\u001b[0;34m.\u001b[0m\u001b[0maxhline\u001b[0m\u001b[0;34m(\u001b[0m\u001b[0my\u001b[0m\u001b[0;34m=\u001b[0m\u001b[0;36m0\u001b[0m\u001b[0;34m,\u001b[0m \u001b[0mcolor\u001b[0m\u001b[0;34m=\u001b[0m\u001b[0;34m'black'\u001b[0m\u001b[0;34m,\u001b[0m \u001b[0mlinestyle\u001b[0m\u001b[0;34m=\u001b[0m\u001b[0;34m'dashed'\u001b[0m\u001b[0;34m)\u001b[0m\u001b[0;34m\u001b[0m\u001b[0;34m\u001b[0m\u001b[0m\n\u001b[1;32m      5\u001b[0m \u001b[0mplt\u001b[0m\u001b[0;34m.\u001b[0m\u001b[0mshow\u001b[0m\u001b[0;34m(\u001b[0m\u001b[0;34m)\u001b[0m\u001b[0;34m\u001b[0m\u001b[0;34m\u001b[0m\u001b[0m\n",
            "\u001b[0;31mNameError\u001b[0m: name 'model_fit' is not defined"
          ]
        }
      ],
      "source": [
        "residuals = model_fit.resid\n",
        "plt.plot(residuals)\n",
        "plt.title(\"Residuals Over Time\")\n",
        "plt.axhline(y=0, color='black', linestyle='dashed')\n",
        "plt.show()"
      ]
    },
    {
      "cell_type": "markdown",
      "metadata": {
        "collapsed": false,
        "id": "5d31N0-UWccc"
      },
      "source": [
        "There is a large residal at the beginning, during the years 1990-1995, which suggests that the model struggled to fit the first few observations. However, in the later years the residuals keep close to zero and there is no clear pattern, meaning the model fits the data well and has captured its structure.\n",
        "Finally, the model is used to forecast the next 10 years from the end of the data."
      ]
    },
    {
      "cell_type": "code",
      "execution_count": 5,
      "metadata": {
        "colab": {
          "base_uri": "https://localhost:8080/",
          "height": 207
        },
        "id": "RA8hfJuqWccc",
        "outputId": "1687a24c-7cbb-4fd6-f197-ad24895b90f3"
      },
      "outputs": [
        {
          "output_type": "error",
          "ename": "NameError",
          "evalue": "name 'model_fit' is not defined",
          "traceback": [
            "\u001b[0;31m---------------------------------------------------------------------------\u001b[0m",
            "\u001b[0;31mNameError\u001b[0m                                 Traceback (most recent call last)",
            "\u001b[0;32m<ipython-input-5-6597ebd55f5a>\u001b[0m in \u001b[0;36m<cell line: 0>\u001b[0;34m()\u001b[0m\n\u001b[1;32m      1\u001b[0m \u001b[0;31m# Forecast the next 10 years\u001b[0m\u001b[0;34m\u001b[0m\u001b[0;34m\u001b[0m\u001b[0m\n\u001b[1;32m      2\u001b[0m \u001b[0mforecast_steps\u001b[0m \u001b[0;34m=\u001b[0m \u001b[0;36m10\u001b[0m\u001b[0;34m\u001b[0m\u001b[0;34m\u001b[0m\u001b[0m\n\u001b[0;32m----> 3\u001b[0;31m \u001b[0mforecast\u001b[0m \u001b[0;34m=\u001b[0m \u001b[0mmodel_fit\u001b[0m\u001b[0;34m.\u001b[0m\u001b[0mforecast\u001b[0m\u001b[0;34m(\u001b[0m\u001b[0msteps\u001b[0m\u001b[0;34m=\u001b[0m\u001b[0mforecast_steps\u001b[0m\u001b[0;34m)\u001b[0m\u001b[0;34m\u001b[0m\u001b[0;34m\u001b[0m\u001b[0m\n\u001b[0m\u001b[1;32m      4\u001b[0m \u001b[0;34m\u001b[0m\u001b[0m\n\u001b[1;32m      5\u001b[0m \u001b[0;31m# Create a forecast index starting from the next available year\u001b[0m\u001b[0;34m\u001b[0m\u001b[0;34m\u001b[0m\u001b[0m\n",
            "\u001b[0;31mNameError\u001b[0m: name 'model_fit' is not defined"
          ]
        }
      ],
      "source": [
        "# Forecast the next 10 years\n",
        "forecast_steps = 10\n",
        "forecast = model_fit.forecast(steps=forecast_steps)\n",
        "\n",
        "# Create a forecast index starting from the next available year\n",
        "forecast_index = list(range(ts.index[-1] + 1, ts.index[-1] + 1 + forecast_steps))\n",
        "\n",
        "# Convert to Series for plotting\n",
        "forecast_series = pd.Series(forecast.values, index=forecast_index)\n",
        "\n",
        "# Plot historical data and forecasted values\n",
        "plt.figure(figsize=(10, 5))\n",
        "plt.plot(ts.index, ts['Indicator Value'], label=\"Historical Data\")\n",
        "plt.plot(forecast_series.index, forecast_series.values, label=\"Forecast\", color=\"red\", marker='o')\n",
        "plt.title(\"Female Employment in agriculture - China\")\n",
        "plt.xlabel(\"Year\")\n",
        "plt.ylabel(\"Growth Rate (%)\")\n",
        "plt.legend()\n",
        "plt.grid()\n",
        "plt.show()"
      ]
    },
    {
      "cell_type": "markdown",
      "metadata": {
        "collapsed": false,
        "id": "KXRFjvNIWccc"
      },
      "source": [
        "The historical data presents a decline from the 1990 to the present of the percentage of women employed in agriculture out of all employed women in China. Despite some fluctuations, the trend is mostly smooth.\n",
        "According to the forecasted data, this trend is set to continue in the next 10 years, and the forecasted values appear smooth, suggesting that the model is predicting a steady decline; it seems, however, that the rate of decline slows down as the years progress.\n",
        "The model, therefore, seems to have captured the downward movement of the data correctly.\n",
        "It is to be noted that the model is fitted without incorporating external factors and exogenous variables, which might improve its accuracy as possible policy changes, economic shifts or technological advancements could alter the trend."
      ]
    },
    {
      "cell_type": "markdown",
      "metadata": {
        "collapsed": false,
        "id": "9LV16AeaWccc"
      },
      "source": [
        "### Employment in industry, female (% of female employment) - China"
      ]
    },
    {
      "cell_type": "code",
      "execution_count": null,
      "metadata": {
        "id": "e7NM3RxMWccc"
      },
      "outputs": [],
      "source": [
        "empl_ind_china = female_indicators[\n",
        "    (female_indicators[\"Country\"] == \"China\") &\n",
        "    (female_indicators[\"Indicator Name\"] == \"Employment in industry, female (% of female employment)\")\n",
        "    ]\n",
        "\n",
        "# Prepare the time series\n",
        "ts = empl_ind_china[[\"Year\", \"Indicator Value\"]].dropna()\n",
        "ts[\"Year\"] = ts[\"Year\"].astype(int)\n",
        "ts[\"Year\"] = pd.to_datetime(ts[\"Year\"], format='%Y').dt.year\n",
        "ts.set_index(\"Year\", inplace=True)\n",
        "ts.index = pd.RangeIndex(start=ts.index.min(), stop=ts.index.max() + 1, step=1)"
      ]
    },
    {
      "cell_type": "code",
      "execution_count": 6,
      "metadata": {
        "colab": {
          "base_uri": "https://localhost:8080/",
          "height": 190
        },
        "id": "uzmAzBpqWccc",
        "outputId": "cbf4f528-fe95-4b28-de20-f60e2add60d7"
      },
      "outputs": [
        {
          "output_type": "stream",
          "name": "stdout",
          "text": [
            "ADF Test for Original Series:\n"
          ]
        },
        {
          "output_type": "error",
          "ename": "NameError",
          "evalue": "name 'ts' is not defined",
          "traceback": [
            "\u001b[0;31m---------------------------------------------------------------------------\u001b[0m",
            "\u001b[0;31mNameError\u001b[0m                                 Traceback (most recent call last)",
            "\u001b[0;32m<ipython-input-6-53a3e33ffd7e>\u001b[0m in \u001b[0;36m<cell line: 0>\u001b[0;34m()\u001b[0m\n\u001b[1;32m      8\u001b[0m \u001b[0;34m\u001b[0m\u001b[0m\n\u001b[1;32m      9\u001b[0m \u001b[0mprint\u001b[0m\u001b[0;34m(\u001b[0m\u001b[0;34m\"ADF Test for Original Series:\"\u001b[0m\u001b[0;34m)\u001b[0m\u001b[0;34m\u001b[0m\u001b[0;34m\u001b[0m\u001b[0m\n\u001b[0;32m---> 10\u001b[0;31m \u001b[0madf_test\u001b[0m\u001b[0;34m(\u001b[0m\u001b[0mts\u001b[0m\u001b[0;34m[\u001b[0m\u001b[0;34m'Indicator Value'\u001b[0m\u001b[0;34m]\u001b[0m\u001b[0;34m)\u001b[0m\u001b[0;34m\u001b[0m\u001b[0;34m\u001b[0m\u001b[0m\n\u001b[0m",
            "\u001b[0;31mNameError\u001b[0m: name 'ts' is not defined"
          ]
        }
      ],
      "source": [
        "# Check for stationarity in the data\n",
        "def adf_test(series):\n",
        "    result = adfuller(series)\n",
        "    print('ADF Statistic:', result[0])\n",
        "    print('p-value:', result[1])\n",
        "    for key, value in result[4].items():\n",
        "        print('Critical Value ({}): {:.3f}'.format(key, value))\n",
        "\n",
        "print(\"ADF Test for Original Series:\")\n",
        "adf_test(ts['Indicator Value'])"
      ]
    },
    {
      "cell_type": "markdown",
      "metadata": {
        "collapsed": false,
        "id": "_Dp4y1CqWccc"
      },
      "source": [
        "Again, both the ADF statistic higher than the critical values and the p-value higher than the significance level show that the data is not stationary. Below the differencing is computed."
      ]
    },
    {
      "cell_type": "code",
      "execution_count": 7,
      "metadata": {
        "colab": {
          "base_uri": "https://localhost:8080/",
          "height": 207
        },
        "id": "pTPyj_-8Wccc",
        "outputId": "cb200969-4d29-41bd-b89c-0bf7346c2cd7"
      },
      "outputs": [
        {
          "output_type": "error",
          "ename": "NameError",
          "evalue": "name 'ts' is not defined",
          "traceback": [
            "\u001b[0;31m---------------------------------------------------------------------------\u001b[0m",
            "\u001b[0;31mNameError\u001b[0m                                 Traceback (most recent call last)",
            "\u001b[0;32m<ipython-input-7-fd70cc6ab41d>\u001b[0m in \u001b[0;36m<cell line: 0>\u001b[0;34m()\u001b[0m\n\u001b[1;32m      1\u001b[0m \u001b[0;31m# Autocorrelation\u001b[0m\u001b[0;34m\u001b[0m\u001b[0;34m\u001b[0m\u001b[0m\n\u001b[0;32m----> 2\u001b[0;31m \u001b[0mfirst_year\u001b[0m \u001b[0;34m=\u001b[0m \u001b[0mts\u001b[0m\u001b[0;34m.\u001b[0m\u001b[0mindex\u001b[0m\u001b[0;34m.\u001b[0m\u001b[0mmin\u001b[0m\u001b[0;34m(\u001b[0m\u001b[0;34m)\u001b[0m\u001b[0;34m\u001b[0m\u001b[0;34m\u001b[0m\u001b[0m\n\u001b[0m\u001b[1;32m      3\u001b[0m \u001b[0mlast_year\u001b[0m \u001b[0;34m=\u001b[0m \u001b[0mts\u001b[0m\u001b[0;34m.\u001b[0m\u001b[0mindex\u001b[0m\u001b[0;34m.\u001b[0m\u001b[0mmax\u001b[0m\u001b[0;34m(\u001b[0m\u001b[0;34m)\u001b[0m\u001b[0;34m\u001b[0m\u001b[0;34m\u001b[0m\u001b[0m\n\u001b[1;32m      4\u001b[0m \u001b[0;34m\u001b[0m\u001b[0m\n\u001b[1;32m      5\u001b[0m \u001b[0mfig\u001b[0m\u001b[0;34m,\u001b[0m \u001b[0maxes\u001b[0m \u001b[0;34m=\u001b[0m \u001b[0mplt\u001b[0m\u001b[0;34m.\u001b[0m\u001b[0msubplots\u001b[0m\u001b[0;34m(\u001b[0m\u001b[0;36m3\u001b[0m\u001b[0;34m,\u001b[0m \u001b[0;36m2\u001b[0m\u001b[0;34m,\u001b[0m \u001b[0mfigsize\u001b[0m\u001b[0;34m=\u001b[0m\u001b[0;34m(\u001b[0m\u001b[0;36m12\u001b[0m\u001b[0;34m,\u001b[0m \u001b[0;36m8\u001b[0m\u001b[0;34m)\u001b[0m\u001b[0;34m)\u001b[0m\u001b[0;34m\u001b[0m\u001b[0;34m\u001b[0m\u001b[0m\n",
            "\u001b[0;31mNameError\u001b[0m: name 'ts' is not defined"
          ]
        }
      ],
      "source": [
        "# Autocorrelation\n",
        "first_year = ts.index.min()\n",
        "last_year = ts.index.max()\n",
        "\n",
        "fig, axes = plt.subplots(3, 2, figsize=(12, 8))\n",
        "\n",
        "# Original Series\n",
        "axes[0, 0].plot(ts.index, ts['Indicator Value'], marker='o')\n",
        "axes[0, 0].set_title('Original Series')\n",
        "axes[0, 0].set_xlim([first_year, last_year])\n",
        "\n",
        "# Autocorrelation for Original Series\n",
        "plot_acf(ts['Indicator Value'].dropna(), ax=axes[0, 1])\n",
        "\n",
        "# 1st Differencing\n",
        "ts_diff = ts['Indicator Value'].diff().dropna()\n",
        "axes[1, 0].plot(ts_diff.index, ts_diff, marker='o')\n",
        "axes[1, 0].set_title('1st Order Differencing')\n",
        "axes[1, 0].set_xlim([first_year, last_year])\n",
        "\n",
        "# Autocorrelation for 1st Differencing\n",
        "plot_acf(ts_diff, ax=axes[1, 1])\n",
        "\n",
        "# 2nd Differencing\n",
        "ts_diff2 = ts_diff.diff().dropna()\n",
        "axes[2, 0].plot(ts_diff2.index, ts_diff2, marker='o')\n",
        "axes[2, 0].set_title('2nd Order Differencing')\n",
        "axes[2, 0].set_xlim([first_year, last_year])\n",
        "\n",
        "# Autocorrelation for 2nd Differencing\n",
        "plot_acf(ts_diff2, ax=axes[2, 1])\n",
        "\n",
        "# Rotate x-axis labels for better readability\n",
        "for ax in axes[:, 0]:\n",
        "    ax.tick_params(axis='x', rotation=45)\n",
        "\n",
        "# Make sure ACF plots do not share x-axis settings with time series plots\n",
        "for ax in axes[:, 1]:\n",
        "    ax.set_xlim(auto=True)\n",
        "\n",
        "# Adjust layout\n",
        "plt.tight_layout()\n",
        "plt.show()"
      ]
    },
    {
      "cell_type": "markdown",
      "metadata": {
        "collapsed": false,
        "id": "Y41IGmD8Wccd"
      },
      "source": [
        "It seems that, although the first differencing already gave good results, the second differencing might be needed. The statistics on the differencings are therefore calcualted to check the need for a second differencing."
      ]
    },
    {
      "cell_type": "code",
      "execution_count": 8,
      "metadata": {
        "colab": {
          "base_uri": "https://localhost:8080/",
          "height": 207
        },
        "id": "ZS_eY3DNWccd",
        "outputId": "9abded77-47f7-4756-b451-ed1fddabf83f"
      },
      "outputs": [
        {
          "output_type": "error",
          "ename": "NameError",
          "evalue": "name 'ts_diff' is not defined",
          "traceback": [
            "\u001b[0;31m---------------------------------------------------------------------------\u001b[0m",
            "\u001b[0;31mNameError\u001b[0m                                 Traceback (most recent call last)",
            "\u001b[0;32m<ipython-input-8-a881cab5682a>\u001b[0m in \u001b[0;36m<cell line: 0>\u001b[0;34m()\u001b[0m\n\u001b[0;32m----> 1\u001b[0;31m \u001b[0mresult\u001b[0m \u001b[0;34m=\u001b[0m \u001b[0madfuller\u001b[0m\u001b[0;34m(\u001b[0m\u001b[0mts_diff\u001b[0m\u001b[0;34m)\u001b[0m\u001b[0;34m\u001b[0m\u001b[0;34m\u001b[0m\u001b[0m\n\u001b[0m\u001b[1;32m      2\u001b[0m \u001b[0mprint\u001b[0m\u001b[0;34m(\u001b[0m\u001b[0;34m\"First order of differencing:\"\u001b[0m\u001b[0;34m)\u001b[0m\u001b[0;34m\u001b[0m\u001b[0;34m\u001b[0m\u001b[0m\n\u001b[1;32m      3\u001b[0m \u001b[0mprint\u001b[0m\u001b[0;34m(\u001b[0m\u001b[0;34mf\"ADF Statistic: {result[0]}\"\u001b[0m\u001b[0;34m)\u001b[0m\u001b[0;34m\u001b[0m\u001b[0;34m\u001b[0m\u001b[0m\n\u001b[1;32m      4\u001b[0m \u001b[0mprint\u001b[0m\u001b[0;34m(\u001b[0m\u001b[0;34mf\"p-value: {result[1]}\"\u001b[0m\u001b[0;34m)\u001b[0m\u001b[0;34m\u001b[0m\u001b[0;34m\u001b[0m\u001b[0m\n\u001b[1;32m      5\u001b[0m \u001b[0;32mfor\u001b[0m \u001b[0mkey\u001b[0m\u001b[0;34m,\u001b[0m \u001b[0mvalue\u001b[0m \u001b[0;32min\u001b[0m \u001b[0mresult\u001b[0m\u001b[0;34m[\u001b[0m\u001b[0;36m4\u001b[0m\u001b[0;34m]\u001b[0m\u001b[0;34m.\u001b[0m\u001b[0mitems\u001b[0m\u001b[0;34m(\u001b[0m\u001b[0;34m)\u001b[0m\u001b[0;34m:\u001b[0m\u001b[0;34m\u001b[0m\u001b[0;34m\u001b[0m\u001b[0m\n",
            "\u001b[0;31mNameError\u001b[0m: name 'ts_diff' is not defined"
          ]
        }
      ],
      "source": [
        "result = adfuller(ts_diff)\n",
        "print(\"First order of differencing:\")\n",
        "print(f\"ADF Statistic: {result[0]}\")\n",
        "print(f\"p-value: {result[1]}\")\n",
        "for key, value in result[4].items():\n",
        "    print(f\"Critical Value ({key}%): {value:.3f}\")\n",
        "\n",
        "result_2 = adfuller(ts_diff2)\n",
        "print(\"\\nSecond order of differencing:\")\n",
        "print(f\"ADF Statistic: {result_2[0]}\")\n",
        "print(f\"p-value: {result_2[1]}\")\n",
        "for key, value in result_2[4].items():\n",
        "    print(f\"Critical Value ({key}%): {value:.3f}\")"
      ]
    },
    {
      "cell_type": "markdown",
      "metadata": {
        "collapsed": false,
        "id": "8Ug-01zGWccd"
      },
      "source": [
        "Since the first differencing did not give significant results, the second differencing is needed."
      ]
    },
    {
      "cell_type": "markdown",
      "metadata": {
        "collapsed": false,
        "id": "iWjvNjD-Wccd"
      },
      "source": [
        "#### AR (p)"
      ]
    },
    {
      "cell_type": "code",
      "execution_count": 9,
      "metadata": {
        "colab": {
          "base_uri": "https://localhost:8080/",
          "height": 207
        },
        "id": "NqMhIW53Wccd",
        "outputId": "bd6873f5-b244-4b4b-ce84-edb240d24057"
      },
      "outputs": [
        {
          "output_type": "error",
          "ename": "NameError",
          "evalue": "name 'ts' is not defined",
          "traceback": [
            "\u001b[0;31m---------------------------------------------------------------------------\u001b[0m",
            "\u001b[0;31mNameError\u001b[0m                                 Traceback (most recent call last)",
            "\u001b[0;32m<ipython-input-9-035770078e23>\u001b[0m in \u001b[0;36m<cell line: 0>\u001b[0;34m()\u001b[0m\n\u001b[1;32m      1\u001b[0m \u001b[0;31m# Update plot settings for better readability\u001b[0m\u001b[0;34m\u001b[0m\u001b[0;34m\u001b[0m\u001b[0m\n\u001b[0;32m----> 2\u001b[0;31m \u001b[0mfirst_year\u001b[0m \u001b[0;34m=\u001b[0m \u001b[0mts\u001b[0m\u001b[0;34m.\u001b[0m\u001b[0mindex\u001b[0m\u001b[0;34m.\u001b[0m\u001b[0mmin\u001b[0m\u001b[0;34m(\u001b[0m\u001b[0;34m)\u001b[0m\u001b[0;34m\u001b[0m\u001b[0;34m\u001b[0m\u001b[0m\n\u001b[0m\u001b[1;32m      3\u001b[0m \u001b[0mlast_year\u001b[0m \u001b[0;34m=\u001b[0m \u001b[0mts\u001b[0m\u001b[0;34m.\u001b[0m\u001b[0mindex\u001b[0m\u001b[0;34m.\u001b[0m\u001b[0mmax\u001b[0m\u001b[0;34m(\u001b[0m\u001b[0;34m)\u001b[0m\u001b[0;34m\u001b[0m\u001b[0;34m\u001b[0m\u001b[0m\n\u001b[1;32m      4\u001b[0m \u001b[0mplt\u001b[0m\u001b[0;34m.\u001b[0m\u001b[0mrcParams\u001b[0m\u001b[0;34m.\u001b[0m\u001b[0mupdate\u001b[0m\u001b[0;34m(\u001b[0m\u001b[0;34m{\u001b[0m\u001b[0;34m'figure.figsize'\u001b[0m\u001b[0;34m:\u001b[0m \u001b[0;34m(\u001b[0m\u001b[0;36m9\u001b[0m\u001b[0;34m,\u001b[0m \u001b[0;36m3\u001b[0m\u001b[0;34m)\u001b[0m\u001b[0;34m,\u001b[0m \u001b[0;34m'figure.dpi'\u001b[0m\u001b[0;34m:\u001b[0m \u001b[0;36m120\u001b[0m\u001b[0;34m}\u001b[0m\u001b[0;34m)\u001b[0m\u001b[0;34m\u001b[0m\u001b[0;34m\u001b[0m\u001b[0m\n\u001b[1;32m      5\u001b[0m \u001b[0;34m\u001b[0m\u001b[0m\n",
            "\u001b[0;31mNameError\u001b[0m: name 'ts' is not defined"
          ]
        }
      ],
      "source": [
        "# Update plot settings for better readability\n",
        "first_year = ts.index.min()\n",
        "last_year = ts.index.max()\n",
        "plt.rcParams.update({'figure.figsize': (9, 3), 'figure.dpi': 120})\n",
        "\n",
        "# Create subplots\n",
        "fig, axes = plt.subplots(1, 2, sharex=False)\n",
        "\n",
        "# 1st Order Differencing\n",
        "axes[0].plot(ts_diff.index, ts_diff, marker='o')\n",
        "axes[0].set_title('1st Differencing')\n",
        "axes[0].set_xlim([first_year, last_year])\n",
        "\n",
        "# PACF Plot for First-Order Differencing\n",
        "axes[1].set(ylim=(-1, 1))\n",
        "plot_pacf(ts_diff, ax=axes[1])\n",
        "\n",
        "plt.show()"
      ]
    },
    {
      "cell_type": "markdown",
      "metadata": {
        "collapsed": false,
        "id": "5XW5IRnyWccd"
      },
      "source": [
        "Partial autocorrelation shows that the first two lags are above the limit. The parameter is however set to 1 for the moment: q=1."
      ]
    },
    {
      "cell_type": "markdown",
      "metadata": {
        "collapsed": false,
        "id": "2LzD-RBLWccd"
      },
      "source": [
        "#### MA (p)"
      ]
    },
    {
      "cell_type": "code",
      "execution_count": 10,
      "metadata": {
        "colab": {
          "base_uri": "https://localhost:8080/",
          "height": 544
        },
        "id": "YW7y_hpvWccd",
        "outputId": "ae06455b-5695-4a8f-abf6-a61d101b3ddf"
      },
      "outputs": [
        {
          "output_type": "error",
          "ename": "NameError",
          "evalue": "name 'ts_diff' is not defined",
          "traceback": [
            "\u001b[0;31m---------------------------------------------------------------------------\u001b[0m",
            "\u001b[0;31mNameError\u001b[0m                                 Traceback (most recent call last)",
            "\u001b[0;32m<ipython-input-10-08f808a0f39d>\u001b[0m in \u001b[0;36m<cell line: 0>\u001b[0;34m()\u001b[0m\n\u001b[1;32m      6\u001b[0m \u001b[0;34m\u001b[0m\u001b[0m\n\u001b[1;32m      7\u001b[0m \u001b[0;31m# 1st Order Differencing\u001b[0m\u001b[0;34m\u001b[0m\u001b[0;34m\u001b[0m\u001b[0m\n\u001b[0;32m----> 8\u001b[0;31m \u001b[0maxes\u001b[0m\u001b[0;34m[\u001b[0m\u001b[0;36m0\u001b[0m\u001b[0;34m]\u001b[0m\u001b[0;34m.\u001b[0m\u001b[0mplot\u001b[0m\u001b[0;34m(\u001b[0m\u001b[0mts_diff\u001b[0m\u001b[0;34m.\u001b[0m\u001b[0mindex\u001b[0m\u001b[0;34m,\u001b[0m \u001b[0mts_diff\u001b[0m\u001b[0;34m,\u001b[0m \u001b[0mmarker\u001b[0m\u001b[0;34m=\u001b[0m\u001b[0;34m'o'\u001b[0m\u001b[0;34m)\u001b[0m\u001b[0;34m\u001b[0m\u001b[0;34m\u001b[0m\u001b[0m\n\u001b[0m\u001b[1;32m      9\u001b[0m \u001b[0maxes\u001b[0m\u001b[0;34m[\u001b[0m\u001b[0;36m0\u001b[0m\u001b[0;34m]\u001b[0m\u001b[0;34m.\u001b[0m\u001b[0mset_title\u001b[0m\u001b[0;34m(\u001b[0m\u001b[0;34m'1st Differencing'\u001b[0m\u001b[0;34m)\u001b[0m\u001b[0;34m\u001b[0m\u001b[0;34m\u001b[0m\u001b[0m\n\u001b[1;32m     10\u001b[0m \u001b[0maxes\u001b[0m\u001b[0;34m[\u001b[0m\u001b[0;36m0\u001b[0m\u001b[0;34m]\u001b[0m\u001b[0;34m.\u001b[0m\u001b[0mset_xlim\u001b[0m\u001b[0;34m(\u001b[0m\u001b[0;34m[\u001b[0m\u001b[0mfirst_year\u001b[0m\u001b[0;34m,\u001b[0m \u001b[0mlast_year\u001b[0m\u001b[0;34m]\u001b[0m\u001b[0;34m)\u001b[0m\u001b[0;34m\u001b[0m\u001b[0;34m\u001b[0m\u001b[0m\n",
            "\u001b[0;31mNameError\u001b[0m: name 'ts_diff' is not defined"
          ]
        },
        {
          "output_type": "display_data",
          "data": {
            "text/plain": [
              "<Figure size 1080x360 with 2 Axes>"
            ],
            "image/png": "[encoded data removed]"
          },
          "metadata": {}
        }
      ],
      "source": [
        "# Update plot settings for better readability\n",
        "plt.rcParams.update({'figure.figsize': (9, 3), 'figure.dpi': 120})\n",
        "\n",
        "# Create subplots\n",
        "fig, axes = plt.subplots(1, 2, sharex=False)\n",
        "\n",
        "# 1st Order Differencing\n",
        "axes[0].plot(ts_diff.index, ts_diff, marker='o')\n",
        "axes[0].set_title('1st Differencing')\n",
        "axes[0].set_xlim([first_year, last_year])\n",
        "\n",
        "# ACF Plot for First-Order Differencing\n",
        "axes[1].set(ylim=(-1, 1))\n",
        "plot_acf(ts_diff, ax=axes[1])\n",
        "plt.show()"
      ]
    },
    {
      "cell_type": "markdown",
      "metadata": {
        "collapsed": false,
        "id": "x-yPuRDMWccd"
      },
      "source": [
        "As before, the parameter p is set to 1: p=1"
      ]
    },
    {
      "cell_type": "markdown",
      "metadata": {
        "collapsed": false,
        "id": "ipEKR4f3Wccd"
      },
      "source": [
        "#### Building the ARIMA Model"
      ]
    },
    {
      "cell_type": "code",
      "execution_count": null,
      "metadata": {
        "id": "_lP4UU0iWccd"
      },
      "outputs": [],
      "source": [
        "# Define train-test split size\n",
        "split_ratio = 0.8\n",
        "split_index = int(len(ts) * split_ratio)\n",
        "\n",
        "# Split into training and test sets\n",
        "train, test = ts.iloc[:split_index], ts.iloc[split_index:]\n",
        "\n",
        "initial_model = ARIMA(ts['Indicator Value'], order=(1,2,1))\n",
        "initial_model_fit = initial_model.fit()\n",
        "print(\"Initial Model Summary:\")\n",
        "print(initial_model_fit.summary())\n",
        "\n",
        "simple_model = ARIMA(ts['Indicator Value'], order=(1,1,0))\n",
        "simple_model_fit = simple_model.fit()\n",
        "print(\"\\nSimpler Model Summary:\")\n",
        "print(simple_model_fit.summary())"
      ]
    },
    {
      "cell_type": "code",
      "execution_count": null,
      "metadata": {
        "id": "lNkb_-gQWccd"
      },
      "outputs": [],
      "source": [
        "# Forecast the same length as the test set\n",
        "initial_test_forecast = initial_model_fit.forecast(steps=len(test))\n",
        "\n",
        "# Evaluate predictions\n",
        "mae = mean_absolute_error(test['Indicator Value'], initial_test_forecast)\n",
        "mse = mean_squared_error(test['Indicator Value'], initial_test_forecast)\n",
        "rmse = mse ** 0.5\n",
        "\n",
        "# Print evaluation metrics\n",
        "print(\"Initial Model Statistics\")\n",
        "print(f\"Mean Absolute Error (MAE): {mae:.4f}\")\n",
        "print(f\"Root Mean Squared Error (RMSE): {rmse:.4f}\")\n",
        "\n",
        "# Forecast the same length as the test set\n",
        "simple_test_forecast = simple_model_fit.forecast(steps=len(test))\n",
        "\n",
        "# Evaluate predictions\n",
        "mae = mean_absolute_error(test['Indicator Value'], simple_test_forecast)\n",
        "mse = mean_squared_error(test['Indicator Value'], simple_test_forecast)\n",
        "rmse = mse ** 0.5\n",
        "\n",
        "# Print evaluation metrics\n",
        "print(\"\\nSimple Model Statistics\")\n",
        "print(f\"Mean Absolute Error (MAE): {mae:.4f}\")\n",
        "print(f\"Root Mean Squared Error (RMSE): {rmse:.4f}\")"
      ]
    },
    {
      "cell_type": "code",
      "execution_count": null,
      "metadata": {
        "id": "K-RPZC82Wccd"
      },
      "outputs": [],
      "source": [
        "residuals = simple_model_fit.resid\n",
        "plt.plot(residuals)\n",
        "plt.title(\"Residuals Over Time\")\n",
        "plt.axhline(y=0, color='black', linestyle='dashed')\n",
        "plt.show()"
      ]
    },
    {
      "cell_type": "code",
      "execution_count": null,
      "metadata": {
        "id": "_udwtK8-Wccd"
      },
      "outputs": [],
      "source": [
        "# Forecast the next 10 years\n",
        "forecast_steps = 10\n",
        "forecast = simple_model_fit.forecast(steps=forecast_steps)\n",
        "\n",
        "# Create a forecast index starting from the next available year\n",
        "forecast_index = list(range(ts.index[-1] + 1, ts.index[-1] + 1 + forecast_steps))\n",
        "\n",
        "# Convert to Series for plotting\n",
        "forecast_series = pd.Series(forecast.values, index=forecast_index)\n",
        "\n",
        "# Plot historical data and forecasted values\n",
        "plt.figure(figsize=(10, 5))\n",
        "plt.plot(ts.index, ts['Indicator Value'], label=\"Historical Data\")\n",
        "plt.plot(forecast_series.index, forecast_series.values, label=\"Forecast\", color=\"red\", marker='o')\n",
        "plt.title(\"Female Employment in industry (% of female employment) - China\")\n",
        "plt.xlabel(\"Year\")\n",
        "plt.ylabel(\"Growth Rate (%)\")\n",
        "plt.legend()\n",
        "plt.grid()\n",
        "plt.show()"
      ]
    },
    {
      "cell_type": "markdown",
      "metadata": {
        "collapsed": false,
        "id": "2qoCZiDIWcce"
      },
      "source": []
    },
    {
      "cell_type": "markdown",
      "metadata": {
        "collapsed": false,
        "id": "P-ofG5EHWcce"
      },
      "source": [
        "### Employment in services, female (% of female employment) (modeled ILO estimate) - China"
      ]
    },
    {
      "cell_type": "code",
      "execution_count": null,
      "metadata": {
        "id": "P4vlLYrpWcce"
      },
      "outputs": [],
      "source": [
        "empl_serv_china = female_indicators[\n",
        "    (female_indicators[\"Country\"] == \"China\") &\n",
        "    (female_indicators[\"Indicator Name\"] == \"Employment in services, female (% of female employment)\")\n",
        "]\n",
        "\n",
        "# Prepare the time series\n",
        "ts = empl_serv_china[[\"Year\", \"Indicator Value\"]].dropna()\n",
        "ts[\"Year\"] = ts[\"Year\"].astype(int)\n",
        "ts[\"Year\"] = pd.to_datetime(ts[\"Year\"], format='%Y').dt.year\n",
        "ts.set_index(\"Year\", inplace=True)\n",
        "ts.index = pd.RangeIndex(start=ts.index.min(), stop=ts.index.max() + 1, step=1)"
      ]
    },
    {
      "cell_type": "code",
      "execution_count": null,
      "metadata": {
        "id": "iB6qDKBhWcce"
      },
      "outputs": [],
      "source": [
        "# Check for stationarity in the data\n",
        "def adf_test(series):\n",
        "    result = adfuller(series)\n",
        "    print('ADF Statistic:', result[0])\n",
        "    print('p-value:', result[1])\n",
        "    for key, value in result[4].items():\n",
        "        print('Critical Value ({}): {:.3f}'.format(key, value))\n",
        "\n",
        "print(\"ADF Test for Original Series:\")\n",
        "adf_test(ts['Indicator Value'])"
      ]
    },
    {
      "cell_type": "code",
      "execution_count": null,
      "metadata": {
        "id": "wedh01FqWcce"
      },
      "outputs": [],
      "source": [
        "# Autocorrelation\n",
        "first_year = ts.index.min()\n",
        "last_year = ts.index.max()\n",
        "\n",
        "fig, axes = plt.subplots(3, 2, figsize=(12, 8))\n",
        "\n",
        "# Original Series\n",
        "axes[0, 0].plot(ts.index, ts['Indicator Value'], marker='o')\n",
        "axes[0, 0].set_title('Original Series')\n",
        "axes[0, 0].set_xlim([first_year, last_year])\n",
        "\n",
        "# Autocorrelation for Original Series\n",
        "plot_acf(ts['Indicator Value'].dropna(), ax=axes[0, 1])\n",
        "\n",
        "# 1st Differencing\n",
        "ts_diff = ts['Indicator Value'].diff().dropna()\n",
        "axes[1, 0].plot(ts_diff.index, ts_diff, marker='o')\n",
        "axes[1, 0].set_title('1st Order Differencing')\n",
        "axes[1, 0].set_xlim([first_year, last_year])\n",
        "\n",
        "# Autocorrelation for 1st Differencing\n",
        "plot_acf(ts_diff, ax=axes[1, 1])\n",
        "\n",
        "# 2nd Differencing\n",
        "ts_diff2 = ts_diff.diff().dropna()\n",
        "axes[2, 0].plot(ts_diff2.index, ts_diff2, marker='o')\n",
        "axes[2, 0].set_title('2nd Order Differencing')\n",
        "axes[2, 0].set_xlim([first_year, last_year])\n",
        "\n",
        "# Autocorrelation for 2nd Differencing\n",
        "plot_acf(ts_diff2, ax=axes[2, 1])\n",
        "\n",
        "# Rotate x-axis labels for better readability\n",
        "for ax in axes[:, 0]:\n",
        "    ax.tick_params(axis='x', rotation=45)\n",
        "\n",
        "# Make sure ACF plots do not share x-axis settings with time series plots\n",
        "for ax in axes[:, 1]:\n",
        "    ax.set_xlim(auto=True)  # Let the ACF plots use their own scaling\n",
        "\n",
        "# Adjust layout\n",
        "plt.tight_layout()\n",
        "plt.show()"
      ]
    },
    {
      "cell_type": "markdown",
      "metadata": {
        "collapsed": false,
        "id": "XSy0AE8nWcce"
      },
      "source": [
        "Since in the second order differencing there is a lag quickly going below zero, it is probably due to over differencing. Therefore, the p will be set to p=1.\n",
        "It can be checked by calculating the statistics on the differencings."
      ]
    },
    {
      "cell_type": "code",
      "execution_count": 11,
      "metadata": {
        "colab": {
          "base_uri": "https://localhost:8080/",
          "height": 207
        },
        "id": "cIg1C5MhWcce",
        "outputId": "ffcca6c7-8f01-4edc-9266-f3feb141f18c"
      },
      "outputs": [
        {
          "output_type": "error",
          "ename": "NameError",
          "evalue": "name 'ts_diff' is not defined",
          "traceback": [
            "\u001b[0;31m---------------------------------------------------------------------------\u001b[0m",
            "\u001b[0;31mNameError\u001b[0m                                 Traceback (most recent call last)",
            "\u001b[0;32m<ipython-input-11-a881cab5682a>\u001b[0m in \u001b[0;36m<cell line: 0>\u001b[0;34m()\u001b[0m\n\u001b[0;32m----> 1\u001b[0;31m \u001b[0mresult\u001b[0m \u001b[0;34m=\u001b[0m \u001b[0madfuller\u001b[0m\u001b[0;34m(\u001b[0m\u001b[0mts_diff\u001b[0m\u001b[0;34m)\u001b[0m\u001b[0;34m\u001b[0m\u001b[0;34m\u001b[0m\u001b[0m\n\u001b[0m\u001b[1;32m      2\u001b[0m \u001b[0mprint\u001b[0m\u001b[0;34m(\u001b[0m\u001b[0;34m\"First order of differencing:\"\u001b[0m\u001b[0;34m)\u001b[0m\u001b[0;34m\u001b[0m\u001b[0;34m\u001b[0m\u001b[0m\n\u001b[1;32m      3\u001b[0m \u001b[0mprint\u001b[0m\u001b[0;34m(\u001b[0m\u001b[0;34mf\"ADF Statistic: {result[0]}\"\u001b[0m\u001b[0;34m)\u001b[0m\u001b[0;34m\u001b[0m\u001b[0;34m\u001b[0m\u001b[0m\n\u001b[1;32m      4\u001b[0m \u001b[0mprint\u001b[0m\u001b[0;34m(\u001b[0m\u001b[0;34mf\"p-value: {result[1]}\"\u001b[0m\u001b[0;34m)\u001b[0m\u001b[0;34m\u001b[0m\u001b[0;34m\u001b[0m\u001b[0m\n\u001b[1;32m      5\u001b[0m \u001b[0;32mfor\u001b[0m \u001b[0mkey\u001b[0m\u001b[0;34m,\u001b[0m \u001b[0mvalue\u001b[0m \u001b[0;32min\u001b[0m \u001b[0mresult\u001b[0m\u001b[0;34m[\u001b[0m\u001b[0;36m4\u001b[0m\u001b[0;34m]\u001b[0m\u001b[0;34m.\u001b[0m\u001b[0mitems\u001b[0m\u001b[0;34m(\u001b[0m\u001b[0;34m)\u001b[0m\u001b[0;34m:\u001b[0m\u001b[0;34m\u001b[0m\u001b[0;34m\u001b[0m\u001b[0m\n",
            "\u001b[0;31mNameError\u001b[0m: name 'ts_diff' is not defined"
          ]
        }
      ],
      "source": [
        "result = adfuller(ts_diff)\n",
        "print(\"First order of differencing:\")\n",
        "print(f\"ADF Statistic: {result[0]}\")\n",
        "print(f\"p-value: {result[1]}\")\n",
        "for key, value in result[4].items():\n",
        "    print(f\"Critical Value ({key}%): {value:.3f}\")\n",
        "\n",
        "result_2 = adfuller(ts_diff2)\n",
        "print(\"\\nSecond order of differencing:\")\n",
        "print(f\"ADF Statistic: {result_2[0]}\")\n",
        "print(f\"p-value: {result_2[1]}\")\n",
        "for key, value in result_2[4].items():\n",
        "    print(f\"Critical Value ({key}%): {value:.3f}\")"
      ]
    },
    {
      "cell_type": "markdown",
      "metadata": {
        "collapsed": false,
        "id": "dOglO81SWcce"
      },
      "source": [
        "They clearly show that there is no need for a second differencing, as the ADF is lower than the critical values and the p-value is lower than the significance level when computing the first order differencing."
      ]
    },
    {
      "cell_type": "markdown",
      "metadata": {
        "collapsed": false,
        "id": "YzsQpstjWcce"
      },
      "source": [
        "#### AR (p)"
      ]
    },
    {
      "cell_type": "code",
      "execution_count": 12,
      "metadata": {
        "colab": {
          "base_uri": "https://localhost:8080/",
          "height": 207
        },
        "id": "eiO9Pn1fWcce",
        "outputId": "06934297-578f-41ce-a987-252d18efc6d5"
      },
      "outputs": [
        {
          "output_type": "error",
          "ename": "NameError",
          "evalue": "name 'ts' is not defined",
          "traceback": [
            "\u001b[0;31m---------------------------------------------------------------------------\u001b[0m",
            "\u001b[0;31mNameError\u001b[0m                                 Traceback (most recent call last)",
            "\u001b[0;32m<ipython-input-12-035770078e23>\u001b[0m in \u001b[0;36m<cell line: 0>\u001b[0;34m()\u001b[0m\n\u001b[1;32m      1\u001b[0m \u001b[0;31m# Update plot settings for better readability\u001b[0m\u001b[0;34m\u001b[0m\u001b[0;34m\u001b[0m\u001b[0m\n\u001b[0;32m----> 2\u001b[0;31m \u001b[0mfirst_year\u001b[0m \u001b[0;34m=\u001b[0m \u001b[0mts\u001b[0m\u001b[0;34m.\u001b[0m\u001b[0mindex\u001b[0m\u001b[0;34m.\u001b[0m\u001b[0mmin\u001b[0m\u001b[0;34m(\u001b[0m\u001b[0;34m)\u001b[0m\u001b[0;34m\u001b[0m\u001b[0;34m\u001b[0m\u001b[0m\n\u001b[0m\u001b[1;32m      3\u001b[0m \u001b[0mlast_year\u001b[0m \u001b[0;34m=\u001b[0m \u001b[0mts\u001b[0m\u001b[0;34m.\u001b[0m\u001b[0mindex\u001b[0m\u001b[0;34m.\u001b[0m\u001b[0mmax\u001b[0m\u001b[0;34m(\u001b[0m\u001b[0;34m)\u001b[0m\u001b[0;34m\u001b[0m\u001b[0;34m\u001b[0m\u001b[0m\n\u001b[1;32m      4\u001b[0m \u001b[0mplt\u001b[0m\u001b[0;34m.\u001b[0m\u001b[0mrcParams\u001b[0m\u001b[0;34m.\u001b[0m\u001b[0mupdate\u001b[0m\u001b[0;34m(\u001b[0m\u001b[0;34m{\u001b[0m\u001b[0;34m'figure.figsize'\u001b[0m\u001b[0;34m:\u001b[0m \u001b[0;34m(\u001b[0m\u001b[0;36m9\u001b[0m\u001b[0;34m,\u001b[0m \u001b[0;36m3\u001b[0m\u001b[0;34m)\u001b[0m\u001b[0;34m,\u001b[0m \u001b[0;34m'figure.dpi'\u001b[0m\u001b[0;34m:\u001b[0m \u001b[0;36m120\u001b[0m\u001b[0;34m}\u001b[0m\u001b[0;34m)\u001b[0m\u001b[0;34m\u001b[0m\u001b[0;34m\u001b[0m\u001b[0m\n\u001b[1;32m      5\u001b[0m \u001b[0;34m\u001b[0m\u001b[0m\n",
            "\u001b[0;31mNameError\u001b[0m: name 'ts' is not defined"
          ]
        }
      ],
      "source": [
        "# Update plot settings for better readability\n",
        "first_year = ts.index.min()\n",
        "last_year = ts.index.max()\n",
        "plt.rcParams.update({'figure.figsize': (9, 3), 'figure.dpi': 120})\n",
        "\n",
        "# Create subplots\n",
        "fig, axes = plt.subplots(1, 2, sharex=False)\n",
        "\n",
        "# 1st Order Differencing\n",
        "axes[0].plot(ts_diff.index, ts_diff, marker='o')\n",
        "axes[0].set_title('1st Differencing')\n",
        "axes[0].set_xlim([first_year, last_year])\n",
        "\n",
        "# PACF Plot for First-Order Differencing\n",
        "axes[1].set(ylim=(-1, 1))\n",
        "plot_pacf(ts_diff, ax=axes[1])\n",
        "\n",
        "plt.show()"
      ]
    },
    {
      "cell_type": "markdown",
      "metadata": {
        "collapsed": false,
        "id": "3sllf0ziWcce"
      },
      "source": []
    },
    {
      "cell_type": "markdown",
      "metadata": {
        "collapsed": false,
        "id": "Mx2wbYDDWcce"
      },
      "source": [
        "#### MA (q)"
      ]
    },
    {
      "cell_type": "code",
      "execution_count": 13,
      "metadata": {
        "colab": {
          "base_uri": "https://localhost:8080/",
          "height": 544
        },
        "id": "lACkAT78Wcce",
        "outputId": "95d4c4be-5af6-4fee-bb99-032fa34267b5"
      },
      "outputs": [
        {
          "output_type": "error",
          "ename": "NameError",
          "evalue": "name 'ts_diff' is not defined",
          "traceback": [
            "\u001b[0;31m---------------------------------------------------------------------------\u001b[0m",
            "\u001b[0;31mNameError\u001b[0m                                 Traceback (most recent call last)",
            "\u001b[0;32m<ipython-input-13-08f808a0f39d>\u001b[0m in \u001b[0;36m<cell line: 0>\u001b[0;34m()\u001b[0m\n\u001b[1;32m      6\u001b[0m \u001b[0;34m\u001b[0m\u001b[0m\n\u001b[1;32m      7\u001b[0m \u001b[0;31m# 1st Order Differencing\u001b[0m\u001b[0;34m\u001b[0m\u001b[0;34m\u001b[0m\u001b[0m\n\u001b[0;32m----> 8\u001b[0;31m \u001b[0maxes\u001b[0m\u001b[0;34m[\u001b[0m\u001b[0;36m0\u001b[0m\u001b[0;34m]\u001b[0m\u001b[0;34m.\u001b[0m\u001b[0mplot\u001b[0m\u001b[0;34m(\u001b[0m\u001b[0mts_diff\u001b[0m\u001b[0;34m.\u001b[0m\u001b[0mindex\u001b[0m\u001b[0;34m,\u001b[0m \u001b[0mts_diff\u001b[0m\u001b[0;34m,\u001b[0m \u001b[0mmarker\u001b[0m\u001b[0;34m=\u001b[0m\u001b[0;34m'o'\u001b[0m\u001b[0;34m)\u001b[0m\u001b[0;34m\u001b[0m\u001b[0;34m\u001b[0m\u001b[0m\n\u001b[0m\u001b[1;32m      9\u001b[0m \u001b[0maxes\u001b[0m\u001b[0;34m[\u001b[0m\u001b[0;36m0\u001b[0m\u001b[0;34m]\u001b[0m\u001b[0;34m.\u001b[0m\u001b[0mset_title\u001b[0m\u001b[0;34m(\u001b[0m\u001b[0;34m'1st Differencing'\u001b[0m\u001b[0;34m)\u001b[0m\u001b[0;34m\u001b[0m\u001b[0;34m\u001b[0m\u001b[0m\n\u001b[1;32m     10\u001b[0m \u001b[0maxes\u001b[0m\u001b[0;34m[\u001b[0m\u001b[0;36m0\u001b[0m\u001b[0;34m]\u001b[0m\u001b[0;34m.\u001b[0m\u001b[0mset_xlim\u001b[0m\u001b[0;34m(\u001b[0m\u001b[0;34m[\u001b[0m\u001b[0mfirst_year\u001b[0m\u001b[0;34m,\u001b[0m \u001b[0mlast_year\u001b[0m\u001b[0;34m]\u001b[0m\u001b[0;34m)\u001b[0m\u001b[0;34m\u001b[0m\u001b[0;34m\u001b[0m\u001b[0m\n",
            "\u001b[0;31mNameError\u001b[0m: name 'ts_diff' is not defined"
          ]
        },
        {
          "output_type": "display_data",
          "data": {
            "text/plain": [
              "<Figure size 1080x360 with 2 Axes>"
            ],
            "image/png": "[encoded data removed]"
          },
          "metadata": {}
        }
      ],
      "source": [
        "# Update plot settings for better readability\n",
        "plt.rcParams.update({'figure.figsize': (9, 3), 'figure.dpi': 120})\n",
        "\n",
        "# Create subplots\n",
        "fig, axes = plt.subplots(1, 2, sharex=False)\n",
        "\n",
        "# 1st Order Differencing\n",
        "axes[0].plot(ts_diff.index, ts_diff, marker='o')\n",
        "axes[0].set_title('1st Differencing')\n",
        "axes[0].set_xlim([first_year, last_year])\n",
        "\n",
        "# ACF Plot for First-Order Differencing\n",
        "axes[1].set(ylim=(-1, 1))\n",
        "plot_acf(ts_diff, ax=axes[1])\n",
        "plt.show()"
      ]
    },
    {
      "cell_type": "markdown",
      "metadata": {
        "collapsed": false,
        "id": "3190fdqnWcce"
      },
      "source": [
        "Despite the first two lags being out of the significance line, in order to have a less complicated model, the q will be set to q=1."
      ]
    },
    {
      "cell_type": "markdown",
      "metadata": {
        "collapsed": false,
        "id": "15JQZMV9Wcce"
      },
      "source": [
        "#### Building the ARIMA Model"
      ]
    },
    {
      "cell_type": "code",
      "execution_count": null,
      "metadata": {
        "id": "EAPZWcCoWcce"
      },
      "outputs": [],
      "source": [
        "# Define train-test split size\n",
        "split_ratio = 0.8\n",
        "split_index = int(len(ts) * split_ratio)\n",
        "\n",
        "# Split into training and test sets\n",
        "train, test = ts.iloc[:split_index], ts.iloc[split_index:]\n",
        "\n",
        "initial_model = ARIMA(ts['Indicator Value'], order=(1,1,1))\n",
        "initial_model_fit = initial_model.fit()\n",
        "print(\"Initial Model Summary:\")\n",
        "print(initial_model_fit.summary())\n",
        "\n",
        "simple_model = ARIMA(ts['Indicator Value'], order=(1,1,0))\n",
        "simple_model_fit = simple_model.fit()\n",
        "print(\"\\nSimpler Model Summary:\")\n",
        "print(simple_model_fit.summary())"
      ]
    },
    {
      "cell_type": "code",
      "execution_count": null,
      "metadata": {
        "id": "eJkdLBDYWcce"
      },
      "outputs": [],
      "source": [
        "# Forecast the same length as the test set\n",
        "initial_test_forecast = initial_model_fit.forecast(steps=len(test))\n",
        "\n",
        "# Evaluate predictions\n",
        "mae = mean_absolute_error(test['Indicator Value'], initial_test_forecast)\n",
        "mse = mean_squared_error(test['Indicator Value'], initial_test_forecast)\n",
        "rmse = mse ** 0.5\n",
        "\n",
        "# Print evaluation metrics\n",
        "print(\"Initial Model Statistics\")\n",
        "print(f\"Mean Absolute Error (MAE): {mae:.4f}\")\n",
        "print(f\"Root Mean Squared Error (RMSE): {rmse:.4f}\")\n",
        "\n",
        "# Forecast the same length as the test set\n",
        "simple_test_forecast = simple_model_fit.forecast(steps=len(test))\n",
        "\n",
        "# Evaluate predictions\n",
        "mae = mean_absolute_error(test['Indicator Value'], simple_test_forecast)\n",
        "mse = mean_squared_error(test['Indicator Value'], simple_test_forecast)\n",
        "rmse = mse ** 0.5\n",
        "\n",
        "# Print evaluation metrics\n",
        "print(\"\\nSimple Model Statistics\")\n",
        "print(f\"Mean Absolute Error (MAE): {mae:.4f}\")\n",
        "print(f\"Root Mean Squared Error (RMSE): {rmse:.4f}\")"
      ]
    },
    {
      "cell_type": "code",
      "execution_count": null,
      "metadata": {
        "id": "BrBmIkH4Wccf"
      },
      "outputs": [],
      "source": [
        "residuals = initial_model_fit.resid\n",
        "plt.plot(residuals)\n",
        "plt.title(\"Residuals Over Time\")\n",
        "plt.axhline(y=0, color='black', linestyle='dashed')\n",
        "plt.show()"
      ]
    },
    {
      "cell_type": "code",
      "execution_count": null,
      "metadata": {
        "id": "vrAaWkbzWccf"
      },
      "outputs": [],
      "source": [
        "# Forecast the next 10 years\n",
        "forecast_steps = 10\n",
        "forecast = initial_model_fit.forecast(steps=forecast_steps)\n",
        "\n",
        "# Create a forecast index starting from the next available year\n",
        "forecast_index = list(range(ts.index[-1] + 1, ts.index[-1] + 1 + forecast_steps))\n",
        "\n",
        "# Convert to Series for plotting\n",
        "forecast_series = pd.Series(forecast.values, index=forecast_index)\n",
        "\n",
        "# Plot historical data and forecasted values\n",
        "plt.figure(figsize=(10, 5))\n",
        "plt.plot(ts.index, ts['Indicator Value'], label=\"Historical Data\")\n",
        "plt.plot(forecast_series.index, forecast_series.values, label=\"Forecast\", color=\"red\", marker='o')\n",
        "plt.title(\"Female Employment in services (% of female employment) - China\")\n",
        "plt.xlabel(\"Year\")\n",
        "plt.ylabel(\"Growth Rate (%)\")\n",
        "plt.legend()\n",
        "plt.grid()\n",
        "plt.show()"
      ]
    },
    {
      "cell_type": "markdown",
      "metadata": {
        "collapsed": false,
        "id": "9dbpItzGWccf"
      },
      "source": []
    },
    {
      "cell_type": "markdown",
      "metadata": {
        "collapsed": false,
        "id": "gCWhKIGOWccf"
      },
      "source": [
        "### Employment in Agriculture, Industries and Services in India"
      ]
    },
    {
      "cell_type": "markdown",
      "metadata": {
        "collapsed": false,
        "id": "6Oq_mNwNWccf"
      },
      "source": [
        "#### Employment in agriculture, female (% of female employment) (modeled ILO estimate) - India"
      ]
    },
    {
      "cell_type": "code",
      "execution_count": null,
      "metadata": {
        "id": "JDnSmVq7Wccf"
      },
      "outputs": [],
      "source": [
        "empl_agr_india = female_indicators[\n",
        "    (female_indicators[\"Country\"] == \"India\") &\n",
        "    (female_indicators[\"Indicator Name\"] == \"Employment in agriculture, female (% of female employment)\")\n",
        "]\n",
        "\n",
        "# Prepare the time series\n",
        "ts = empl_agr_india[[\"Year\", \"Indicator Value\"]].dropna()\n",
        "ts[\"Year\"] = ts[\"Year\"].astype(int)\n",
        "ts[\"Year\"] = pd.to_datetime(ts[\"Year\"], format='%Y').dt.year\n",
        "ts.set_index(\"Year\", inplace=True)\n",
        "ts.index = pd.RangeIndex(start=ts.index.min(), stop=ts.index.max() + 1, step=1)"
      ]
    },
    {
      "cell_type": "code",
      "execution_count": null,
      "metadata": {
        "id": "RIqI1z-SWccf"
      },
      "outputs": [],
      "source": [
        "# Check for stationarity in the data\n",
        "def adf_test(series):\n",
        "    result = adfuller(series)\n",
        "    print('ADF Statistic:', result[0])\n",
        "    print('p-value:', result[1])\n",
        "    for key, value in result[4].items():\n",
        "        print('Critical Value ({}): {:.3f}'.format(key, value))\n",
        "\n",
        "print(\"ADF Test for Original Series:\")\n",
        "adf_test(ts['Indicator Value'])"
      ]
    },
    {
      "cell_type": "markdown",
      "metadata": {
        "collapsed": false,
        "id": "e8WU8w83Wccf"
      },
      "source": [
        "As the ADF test results cannot reject the null hypotheses, differencing is needed to make the series stationary."
      ]
    },
    {
      "cell_type": "code",
      "execution_count": 14,
      "metadata": {
        "colab": {
          "base_uri": "https://localhost:8080/",
          "height": 207
        },
        "id": "20ERk3-6Wccf",
        "outputId": "008a1237-cf51-4b7a-9898-307c4d58edc1"
      },
      "outputs": [
        {
          "output_type": "error",
          "ename": "NameError",
          "evalue": "name 'ts' is not defined",
          "traceback": [
            "\u001b[0;31m---------------------------------------------------------------------------\u001b[0m",
            "\u001b[0;31mNameError\u001b[0m                                 Traceback (most recent call last)",
            "\u001b[0;32m<ipython-input-14-3d411d993367>\u001b[0m in \u001b[0;36m<cell line: 0>\u001b[0;34m()\u001b[0m\n\u001b[1;32m      1\u001b[0m \u001b[0;31m# Autocorrelation\u001b[0m\u001b[0;34m\u001b[0m\u001b[0;34m\u001b[0m\u001b[0m\n\u001b[0;32m----> 2\u001b[0;31m \u001b[0mfirst_year\u001b[0m \u001b[0;34m=\u001b[0m \u001b[0mts\u001b[0m\u001b[0;34m.\u001b[0m\u001b[0mindex\u001b[0m\u001b[0;34m.\u001b[0m\u001b[0mmin\u001b[0m\u001b[0;34m(\u001b[0m\u001b[0;34m)\u001b[0m\u001b[0;34m\u001b[0m\u001b[0;34m\u001b[0m\u001b[0m\n\u001b[0m\u001b[1;32m      3\u001b[0m \u001b[0mlast_year\u001b[0m \u001b[0;34m=\u001b[0m \u001b[0mts\u001b[0m\u001b[0;34m.\u001b[0m\u001b[0mindex\u001b[0m\u001b[0;34m.\u001b[0m\u001b[0mmax\u001b[0m\u001b[0;34m(\u001b[0m\u001b[0;34m)\u001b[0m\u001b[0;34m\u001b[0m\u001b[0;34m\u001b[0m\u001b[0m\n\u001b[1;32m      4\u001b[0m \u001b[0;34m\u001b[0m\u001b[0m\n\u001b[1;32m      5\u001b[0m \u001b[0mfig\u001b[0m\u001b[0;34m,\u001b[0m \u001b[0maxes\u001b[0m \u001b[0;34m=\u001b[0m \u001b[0mplt\u001b[0m\u001b[0;34m.\u001b[0m\u001b[0msubplots\u001b[0m\u001b[0;34m(\u001b[0m\u001b[0;36m3\u001b[0m\u001b[0;34m,\u001b[0m \u001b[0;36m2\u001b[0m\u001b[0;34m,\u001b[0m \u001b[0mfigsize\u001b[0m\u001b[0;34m=\u001b[0m\u001b[0;34m(\u001b[0m\u001b[0;36m12\u001b[0m\u001b[0;34m,\u001b[0m \u001b[0;36m8\u001b[0m\u001b[0;34m)\u001b[0m\u001b[0;34m)\u001b[0m\u001b[0;34m\u001b[0m\u001b[0;34m\u001b[0m\u001b[0m\n",
            "\u001b[0;31mNameError\u001b[0m: name 'ts' is not defined"
          ]
        }
      ],
      "source": [
        "# Autocorrelation\n",
        "first_year = ts.index.min()\n",
        "last_year = ts.index.max()\n",
        "\n",
        "fig, axes = plt.subplots(3, 2, figsize=(12, 8))\n",
        "\n",
        "# Original Series\n",
        "axes[0, 0].plot(ts.index, ts['Indicator Value'], marker='o')\n",
        "axes[0, 0].set_title('Original Series')\n",
        "axes[0, 0].set_xlim([first_year, last_year])\n",
        "\n",
        "# Autocorrelation for Original Series\n",
        "plot_acf(ts['Indicator Value'].dropna(), ax=axes[0, 1])\n",
        "\n",
        "# 1st Differencing\n",
        "ts_diff = ts['Indicator Value'].diff().dropna()\n",
        "axes[1, 0].plot(ts_diff.index, ts_diff, marker='o')\n",
        "axes[1, 0].set_title('1st Order Differencing')\n",
        "axes[1, 0].set_xlim([first_year, last_year])\n",
        "\n",
        "# Autocorrelation for 1st Differencing\n",
        "plot_acf(ts_diff, ax=axes[1, 1])\n",
        "\n",
        "# 2nd Differencing\n",
        "ts_diff2 = ts_diff.diff().dropna()\n",
        "axes[2, 0].plot(ts_diff2.index, ts_diff2, marker='o')\n",
        "axes[2, 0].set_title('2nd Order Differencing')\n",
        "axes[2, 0].set_xlim([first_year, last_year])\n",
        "\n",
        "# Autocorrelation for 2nd Differencing\n",
        "plot_acf(ts_diff2, ax=axes[2, 1])\n",
        "\n",
        "# Rotate x-axis labels for better readability\n",
        "for ax in axes[:, 0]:\n",
        "    ax.tick_params(axis='x', rotation=45)\n",
        "\n",
        "# Make sure ACF plots do not share x-axis settings with time series plots\n",
        "for ax in axes[:, 1]:\n",
        "    ax.set_xlim(auto=True)  # Let the ACF plots use their own scaling\n",
        "\n",
        "# Adjust layout\n",
        "plt.tight_layout()\n",
        "plt.show()"
      ]
    },
    {
      "cell_type": "markdown",
      "metadata": {
        "collapsed": false,
        "id": "HGE6HCYmWccf"
      },
      "source": [
        "It looks like the series only needed differencing once to be made stationary. Below the results of the new ADF test."
      ]
    },
    {
      "cell_type": "code",
      "execution_count": 15,
      "metadata": {
        "colab": {
          "base_uri": "https://localhost:8080/",
          "height": 207
        },
        "id": "vzCvu_q_Wccg",
        "outputId": "7531b333-1337-45f3-bcc8-552ce7637a2c"
      },
      "outputs": [
        {
          "output_type": "error",
          "ename": "NameError",
          "evalue": "name 'ts_diff' is not defined",
          "traceback": [
            "\u001b[0;31m---------------------------------------------------------------------------\u001b[0m",
            "\u001b[0;31mNameError\u001b[0m                                 Traceback (most recent call last)",
            "\u001b[0;32m<ipython-input-15-a881cab5682a>\u001b[0m in \u001b[0;36m<cell line: 0>\u001b[0;34m()\u001b[0m\n\u001b[0;32m----> 1\u001b[0;31m \u001b[0mresult\u001b[0m \u001b[0;34m=\u001b[0m \u001b[0madfuller\u001b[0m\u001b[0;34m(\u001b[0m\u001b[0mts_diff\u001b[0m\u001b[0;34m)\u001b[0m\u001b[0;34m\u001b[0m\u001b[0;34m\u001b[0m\u001b[0m\n\u001b[0m\u001b[1;32m      2\u001b[0m \u001b[0mprint\u001b[0m\u001b[0;34m(\u001b[0m\u001b[0;34m\"First order of differencing:\"\u001b[0m\u001b[0;34m)\u001b[0m\u001b[0;34m\u001b[0m\u001b[0;34m\u001b[0m\u001b[0m\n\u001b[1;32m      3\u001b[0m \u001b[0mprint\u001b[0m\u001b[0;34m(\u001b[0m\u001b[0;34mf\"ADF Statistic: {result[0]}\"\u001b[0m\u001b[0;34m)\u001b[0m\u001b[0;34m\u001b[0m\u001b[0;34m\u001b[0m\u001b[0m\n\u001b[1;32m      4\u001b[0m \u001b[0mprint\u001b[0m\u001b[0;34m(\u001b[0m\u001b[0;34mf\"p-value: {result[1]}\"\u001b[0m\u001b[0;34m)\u001b[0m\u001b[0;34m\u001b[0m\u001b[0;34m\u001b[0m\u001b[0m\n\u001b[1;32m      5\u001b[0m \u001b[0;32mfor\u001b[0m \u001b[0mkey\u001b[0m\u001b[0;34m,\u001b[0m \u001b[0mvalue\u001b[0m \u001b[0;32min\u001b[0m \u001b[0mresult\u001b[0m\u001b[0;34m[\u001b[0m\u001b[0;36m4\u001b[0m\u001b[0;34m]\u001b[0m\u001b[0;34m.\u001b[0m\u001b[0mitems\u001b[0m\u001b[0;34m(\u001b[0m\u001b[0;34m)\u001b[0m\u001b[0;34m:\u001b[0m\u001b[0;34m\u001b[0m\u001b[0;34m\u001b[0m\u001b[0m\n",
            "\u001b[0;31mNameError\u001b[0m: name 'ts_diff' is not defined"
          ]
        }
      ],
      "source": [
        "result = adfuller(ts_diff)\n",
        "print(\"First order of differencing:\")\n",
        "print(f\"ADF Statistic: {result[0]}\")\n",
        "print(f\"p-value: {result[1]}\")\n",
        "for key, value in result[4].items():\n",
        "    print(f\"Critical Value ({key}%): {value:.3f}\")\n",
        "\n",
        "result_2 = adfuller(ts_diff2)\n",
        "print(\"\\nSecond order of differencing:\")\n",
        "print(f\"ADF Statistic: {result_2[0]}\")\n",
        "print(f\"p-value: {result_2[1]}\")\n",
        "for key, value in result_2[4].items():\n",
        "    print(f\"Critical Value ({key}%): {value:.3f}\")"
      ]
    },
    {
      "cell_type": "markdown",
      "metadata": {
        "collapsed": false,
        "id": "UofNn3XXWccg"
      },
      "source": [
        "Despite what seen above, apparently two differencings were needed to make the series stationary."
      ]
    },
    {
      "cell_type": "markdown",
      "metadata": {
        "collapsed": false,
        "id": "BK8KD8VMWccg"
      },
      "source": [
        "#### AR (p)"
      ]
    },
    {
      "cell_type": "code",
      "execution_count": 16,
      "metadata": {
        "colab": {
          "base_uri": "https://localhost:8080/",
          "height": 207
        },
        "id": "NwY6eXgbWccg",
        "outputId": "60c6968e-c09f-49be-eb2c-f059ac1eb411"
      },
      "outputs": [
        {
          "output_type": "error",
          "ename": "NameError",
          "evalue": "name 'ts' is not defined",
          "traceback": [
            "\u001b[0;31m---------------------------------------------------------------------------\u001b[0m",
            "\u001b[0;31mNameError\u001b[0m                                 Traceback (most recent call last)",
            "\u001b[0;32m<ipython-input-16-035770078e23>\u001b[0m in \u001b[0;36m<cell line: 0>\u001b[0;34m()\u001b[0m\n\u001b[1;32m      1\u001b[0m \u001b[0;31m# Update plot settings for better readability\u001b[0m\u001b[0;34m\u001b[0m\u001b[0;34m\u001b[0m\u001b[0m\n\u001b[0;32m----> 2\u001b[0;31m \u001b[0mfirst_year\u001b[0m \u001b[0;34m=\u001b[0m \u001b[0mts\u001b[0m\u001b[0;34m.\u001b[0m\u001b[0mindex\u001b[0m\u001b[0;34m.\u001b[0m\u001b[0mmin\u001b[0m\u001b[0;34m(\u001b[0m\u001b[0;34m)\u001b[0m\u001b[0;34m\u001b[0m\u001b[0;34m\u001b[0m\u001b[0m\n\u001b[0m\u001b[1;32m      3\u001b[0m \u001b[0mlast_year\u001b[0m \u001b[0;34m=\u001b[0m \u001b[0mts\u001b[0m\u001b[0;34m.\u001b[0m\u001b[0mindex\u001b[0m\u001b[0;34m.\u001b[0m\u001b[0mmax\u001b[0m\u001b[0;34m(\u001b[0m\u001b[0;34m)\u001b[0m\u001b[0;34m\u001b[0m\u001b[0;34m\u001b[0m\u001b[0m\n\u001b[1;32m      4\u001b[0m \u001b[0mplt\u001b[0m\u001b[0;34m.\u001b[0m\u001b[0mrcParams\u001b[0m\u001b[0;34m.\u001b[0m\u001b[0mupdate\u001b[0m\u001b[0;34m(\u001b[0m\u001b[0;34m{\u001b[0m\u001b[0;34m'figure.figsize'\u001b[0m\u001b[0;34m:\u001b[0m \u001b[0;34m(\u001b[0m\u001b[0;36m9\u001b[0m\u001b[0;34m,\u001b[0m \u001b[0;36m3\u001b[0m\u001b[0;34m)\u001b[0m\u001b[0;34m,\u001b[0m \u001b[0;34m'figure.dpi'\u001b[0m\u001b[0;34m:\u001b[0m \u001b[0;36m120\u001b[0m\u001b[0;34m}\u001b[0m\u001b[0;34m)\u001b[0m\u001b[0;34m\u001b[0m\u001b[0;34m\u001b[0m\u001b[0m\n\u001b[1;32m      5\u001b[0m \u001b[0;34m\u001b[0m\u001b[0m\n",
            "\u001b[0;31mNameError\u001b[0m: name 'ts' is not defined"
          ]
        }
      ],
      "source": [
        "# Update plot settings for better readability\n",
        "first_year = ts.index.min()\n",
        "last_year = ts.index.max()\n",
        "plt.rcParams.update({'figure.figsize': (9, 3), 'figure.dpi': 120})\n",
        "\n",
        "# Create subplots\n",
        "fig, axes = plt.subplots(1, 2, sharex=False)\n",
        "\n",
        "# 1st Order Differencing\n",
        "axes[0].plot(ts_diff.index, ts_diff, marker='o')\n",
        "axes[0].set_title('1st Differencing')\n",
        "axes[0].set_xlim([first_year, last_year])\n",
        "\n",
        "# PACF Plot for First-Order Differencing\n",
        "axes[1].set(ylim=(-1, 1))\n",
        "plot_pacf(ts_diff, ax=axes[1])\n",
        "\n",
        "plt.show()"
      ]
    },
    {
      "cell_type": "markdown",
      "metadata": {
        "collapsed": false,
        "id": "LqMnhxYgWccg"
      },
      "source": [
        "Lag 1 is significantly over the significance line. Lag 2 is also above, but let us be more conservative and set p=1."
      ]
    },
    {
      "cell_type": "markdown",
      "metadata": {
        "collapsed": false,
        "id": "Q0clYybkWccg"
      },
      "source": [
        "#### MA (q)"
      ]
    },
    {
      "cell_type": "code",
      "execution_count": 17,
      "metadata": {
        "colab": {
          "base_uri": "https://localhost:8080/",
          "height": 544
        },
        "id": "z0VppEETWccg",
        "outputId": "cde05792-91b9-4a97-95b3-352626da6d0a"
      },
      "outputs": [
        {
          "output_type": "error",
          "ename": "NameError",
          "evalue": "name 'ts_diff' is not defined",
          "traceback": [
            "\u001b[0;31m---------------------------------------------------------------------------\u001b[0m",
            "\u001b[0;31mNameError\u001b[0m                                 Traceback (most recent call last)",
            "\u001b[0;32m<ipython-input-17-08f808a0f39d>\u001b[0m in \u001b[0;36m<cell line: 0>\u001b[0;34m()\u001b[0m\n\u001b[1;32m      6\u001b[0m \u001b[0;34m\u001b[0m\u001b[0m\n\u001b[1;32m      7\u001b[0m \u001b[0;31m# 1st Order Differencing\u001b[0m\u001b[0;34m\u001b[0m\u001b[0;34m\u001b[0m\u001b[0m\n\u001b[0;32m----> 8\u001b[0;31m \u001b[0maxes\u001b[0m\u001b[0;34m[\u001b[0m\u001b[0;36m0\u001b[0m\u001b[0;34m]\u001b[0m\u001b[0;34m.\u001b[0m\u001b[0mplot\u001b[0m\u001b[0;34m(\u001b[0m\u001b[0mts_diff\u001b[0m\u001b[0;34m.\u001b[0m\u001b[0mindex\u001b[0m\u001b[0;34m,\u001b[0m \u001b[0mts_diff\u001b[0m\u001b[0;34m,\u001b[0m \u001b[0mmarker\u001b[0m\u001b[0;34m=\u001b[0m\u001b[0;34m'o'\u001b[0m\u001b[0;34m)\u001b[0m\u001b[0;34m\u001b[0m\u001b[0;34m\u001b[0m\u001b[0m\n\u001b[0m\u001b[1;32m      9\u001b[0m \u001b[0maxes\u001b[0m\u001b[0;34m[\u001b[0m\u001b[0;36m0\u001b[0m\u001b[0;34m]\u001b[0m\u001b[0;34m.\u001b[0m\u001b[0mset_title\u001b[0m\u001b[0;34m(\u001b[0m\u001b[0;34m'1st Differencing'\u001b[0m\u001b[0;34m)\u001b[0m\u001b[0;34m\u001b[0m\u001b[0;34m\u001b[0m\u001b[0m\n\u001b[1;32m     10\u001b[0m \u001b[0maxes\u001b[0m\u001b[0;34m[\u001b[0m\u001b[0;36m0\u001b[0m\u001b[0;34m]\u001b[0m\u001b[0;34m.\u001b[0m\u001b[0mset_xlim\u001b[0m\u001b[0;34m(\u001b[0m\u001b[0;34m[\u001b[0m\u001b[0mfirst_year\u001b[0m\u001b[0;34m,\u001b[0m \u001b[0mlast_year\u001b[0m\u001b[0;34m]\u001b[0m\u001b[0;34m)\u001b[0m\u001b[0;34m\u001b[0m\u001b[0;34m\u001b[0m\u001b[0m\n",
            "\u001b[0;31mNameError\u001b[0m: name 'ts_diff' is not defined"
          ]
        },
        {
          "output_type": "display_data",
          "data": {
            "text/plain": [
              "<Figure size 1080x360 with 2 Axes>"
            ],
            "image/png": "[encoded data removed]"
          },
          "metadata": {}
        }
      ],
      "source": [
        "# Update plot settings for better readability\n",
        "plt.rcParams.update({'figure.figsize': (9, 3), 'figure.dpi': 120})\n",
        "\n",
        "# Create subplots\n",
        "fig, axes = plt.subplots(1, 2, sharex=False)\n",
        "\n",
        "# 1st Order Differencing\n",
        "axes[0].plot(ts_diff.index, ts_diff, marker='o')\n",
        "axes[0].set_title('1st Differencing')\n",
        "axes[0].set_xlim([first_year, last_year])\n",
        "\n",
        "# ACF Plot for First-Order Differencing\n",
        "axes[1].set(ylim=(-1, 1))\n",
        "plot_acf(ts_diff, ax=axes[1])\n",
        "plt.show()"
      ]
    },
    {
      "cell_type": "markdown",
      "metadata": {
        "collapsed": false,
        "id": "dPPQ1GAjWccg"
      },
      "source": [
        "Again, lag 1 is significantly above the limit, thus setting the q=1."
      ]
    },
    {
      "cell_type": "markdown",
      "metadata": {
        "collapsed": false,
        "id": "4VFSP65XWccg"
      },
      "source": [
        "#### Building the ARIMA model ARIMA(p,d,q)"
      ]
    },
    {
      "cell_type": "code",
      "execution_count": null,
      "metadata": {
        "id": "QckJtKY1Wccg"
      },
      "outputs": [],
      "source": [
        "# Define train-test split size\n",
        "split_ratio = 0.8\n",
        "split_index = int(len(ts) * split_ratio)\n",
        "\n",
        "# Split into training and test sets\n",
        "train, test = ts.iloc[:split_index], ts.iloc[split_index:]\n",
        "\n",
        "initial_model = ARIMA(ts['Indicator Value'], order=(1,1,1))\n",
        "initial_model_fit = initial_model.fit()\n",
        "print(\"Initial Model Summary:\")\n",
        "print(initial_model_fit.summary())\n",
        "\n",
        "simple_model = ARIMA(ts['Indicator Value'], order=(1,1,0))\n",
        "simple_model_fit = simple_model.fit()\n",
        "print(\"\\nSimpler Model Summary:\")\n",
        "print(simple_model_fit.summary())"
      ]
    },
    {
      "cell_type": "code",
      "execution_count": null,
      "metadata": {
        "id": "9Sr8sHwTWccg"
      },
      "outputs": [],
      "source": [
        "# Forecast the same length as the test set\n",
        "initial_test_forecast = initial_model_fit.forecast(steps=len(test))\n",
        "\n",
        "# Evaluate predictions\n",
        "mae = mean_absolute_error(test['Indicator Value'], initial_test_forecast)\n",
        "mse = mean_squared_error(test['Indicator Value'], initial_test_forecast)\n",
        "rmse = mse ** 0.5\n",
        "\n",
        "# Print evaluation metrics\n",
        "print(\"Initial Model Statistics\")\n",
        "print(f\"Mean Absolute Error (MAE): {mae:.4f}\")\n",
        "print(f\"Root Mean Squared Error (RMSE): {rmse:.4f}\")\n",
        "\n",
        "# Forecast the same length as the test set\n",
        "simple_test_forecast = simple_model_fit.forecast(steps=len(test))\n",
        "\n",
        "# Evaluate predictions\n",
        "mae = mean_absolute_error(test['Indicator Value'], simple_test_forecast)\n",
        "mse = mean_squared_error(test['Indicator Value'], simple_test_forecast)\n",
        "rmse = mse ** 0.5\n",
        "\n",
        "# Print evaluation metrics\n",
        "print(\"\\nSimple Model Statistics\")\n",
        "print(f\"Mean Absolute Error (MAE): {mae:.4f}\")\n",
        "print(f\"Root Mean Squared Error (RMSE): {rmse:.4f}\")"
      ]
    },
    {
      "cell_type": "code",
      "execution_count": null,
      "metadata": {
        "id": "ECkwl9CSWccg"
      },
      "outputs": [],
      "source": [
        "residuals = initial_model_fit.resid\n",
        "plt.plot(residuals)\n",
        "plt.title(\"Residuals Over Time\")\n",
        "plt.axhline(y=0, color='black', linestyle='dashed')\n",
        "plt.show()"
      ]
    },
    {
      "cell_type": "code",
      "execution_count": 18,
      "metadata": {
        "colab": {
          "base_uri": "https://localhost:8080/",
          "height": 207
        },
        "id": "DlvWnSEmWccg",
        "outputId": "da523a69-6c51-4aa7-d0e2-801c8c1dffee"
      },
      "outputs": [
        {
          "output_type": "error",
          "ename": "NameError",
          "evalue": "name 'initial_model_fit' is not defined",
          "traceback": [
            "\u001b[0;31m---------------------------------------------------------------------------\u001b[0m",
            "\u001b[0;31mNameError\u001b[0m                                 Traceback (most recent call last)",
            "\u001b[0;32m<ipython-input-18-09b204e6e50a>\u001b[0m in \u001b[0;36m<cell line: 0>\u001b[0;34m()\u001b[0m\n\u001b[1;32m      1\u001b[0m \u001b[0;31m# Forecast the next 10 years\u001b[0m\u001b[0;34m\u001b[0m\u001b[0;34m\u001b[0m\u001b[0m\n\u001b[1;32m      2\u001b[0m \u001b[0mforecast_steps\u001b[0m \u001b[0;34m=\u001b[0m \u001b[0;36m10\u001b[0m\u001b[0;34m\u001b[0m\u001b[0;34m\u001b[0m\u001b[0m\n\u001b[0;32m----> 3\u001b[0;31m \u001b[0mforecast\u001b[0m \u001b[0;34m=\u001b[0m \u001b[0minitial_model_fit\u001b[0m\u001b[0;34m.\u001b[0m\u001b[0mforecast\u001b[0m\u001b[0;34m(\u001b[0m\u001b[0msteps\u001b[0m\u001b[0;34m=\u001b[0m\u001b[0mforecast_steps\u001b[0m\u001b[0;34m)\u001b[0m\u001b[0;34m\u001b[0m\u001b[0;34m\u001b[0m\u001b[0m\n\u001b[0m\u001b[1;32m      4\u001b[0m \u001b[0;34m\u001b[0m\u001b[0m\n\u001b[1;32m      5\u001b[0m \u001b[0;31m# Create a forecast index starting from the next available year\u001b[0m\u001b[0;34m\u001b[0m\u001b[0;34m\u001b[0m\u001b[0m\n",
            "\u001b[0;31mNameError\u001b[0m: name 'initial_model_fit' is not defined"
          ]
        }
      ],
      "source": [
        "# Forecast the next 10 years\n",
        "forecast_steps = 10\n",
        "forecast = initial_model_fit.forecast(steps=forecast_steps)\n",
        "\n",
        "# Create a forecast index starting from the next available year\n",
        "forecast_index = list(range(ts.index[-1] + 1, ts.index[-1] + 1 + forecast_steps))\n",
        "\n",
        "# Convert to Series for plotting\n",
        "forecast_series = pd.Series(forecast.values, index=forecast_index)\n",
        "\n",
        "# Plot historical data and forecasted values\n",
        "plt.figure(figsize=(10, 5))\n",
        "plt.plot(ts.index, ts['Indicator Value'], label=\"Historical Data\")\n",
        "plt.plot(forecast_series.index, forecast_series.values, label=\"Forecast\", color=\"red\", marker='o')\n",
        "plt.title(\"Female Employment in agriculture (% of female employment) - India\")\n",
        "plt.xlabel(\"Year\")\n",
        "plt.ylabel(\"Growth Rate (%)\")\n",
        "plt.legend()\n",
        "plt.grid()\n",
        "plt.show()"
      ]
    },
    {
      "cell_type": "markdown",
      "metadata": {
        "collapsed": false,
        "id": "JRsDi5uNWccg"
      },
      "source": [
        "#### Employment in industry, female (% of female employment) (modeled ILO estimate) - India"
      ]
    },
    {
      "cell_type": "code",
      "execution_count": null,
      "metadata": {
        "id": "z5OQ54CdWccg"
      },
      "outputs": [],
      "source": [
        "empl_ind_india = female_indicators[\n",
        "    (female_indicators[\"Country\"] == \"India\") &\n",
        "    (female_indicators[\"Indicator Name\"] == \"Employment in industry, female (% of female employment)\")\n",
        "]\n",
        "\n",
        "# Prepare the time series\n",
        "ts = empl_ind_india[[\"Year\", \"Indicator Value\"]].dropna()\n",
        "ts[\"Year\"] = ts[\"Year\"].astype(int)\n",
        "ts[\"Year\"] = pd.to_datetime(ts[\"Year\"], format='%Y').dt.year\n",
        "ts.set_index(\"Year\", inplace=True)\n",
        "ts.index = pd.RangeIndex(start=ts.index.min(), stop=ts.index.max() + 1, step=1)"
      ]
    },
    {
      "cell_type": "code",
      "execution_count": 19,
      "metadata": {
        "colab": {
          "base_uri": "https://localhost:8080/",
          "height": 190
        },
        "id": "nCPtRD6CWccg",
        "outputId": "3a768f5b-2e4b-45f9-8b93-77a8ff125e84"
      },
      "outputs": [
        {
          "output_type": "stream",
          "name": "stdout",
          "text": [
            "ADF Test for Original Series:\n"
          ]
        },
        {
          "output_type": "error",
          "ename": "NameError",
          "evalue": "name 'ts' is not defined",
          "traceback": [
            "\u001b[0;31m---------------------------------------------------------------------------\u001b[0m",
            "\u001b[0;31mNameError\u001b[0m                                 Traceback (most recent call last)",
            "\u001b[0;32m<ipython-input-19-53a3e33ffd7e>\u001b[0m in \u001b[0;36m<cell line: 0>\u001b[0;34m()\u001b[0m\n\u001b[1;32m      8\u001b[0m \u001b[0;34m\u001b[0m\u001b[0m\n\u001b[1;32m      9\u001b[0m \u001b[0mprint\u001b[0m\u001b[0;34m(\u001b[0m\u001b[0;34m\"ADF Test for Original Series:\"\u001b[0m\u001b[0;34m)\u001b[0m\u001b[0;34m\u001b[0m\u001b[0;34m\u001b[0m\u001b[0m\n\u001b[0;32m---> 10\u001b[0;31m \u001b[0madf_test\u001b[0m\u001b[0;34m(\u001b[0m\u001b[0mts\u001b[0m\u001b[0;34m[\u001b[0m\u001b[0;34m'Indicator Value'\u001b[0m\u001b[0;34m]\u001b[0m\u001b[0;34m)\u001b[0m\u001b[0;34m\u001b[0m\u001b[0;34m\u001b[0m\u001b[0m\n\u001b[0m",
            "\u001b[0;31mNameError\u001b[0m: name 'ts' is not defined"
          ]
        }
      ],
      "source": [
        "# Check for stationarity in the data\n",
        "def adf_test(series):\n",
        "    result = adfuller(series)\n",
        "    print('ADF Statistic:', result[0])\n",
        "    print('p-value:', result[1])\n",
        "    for key, value in result[4].items():\n",
        "        print('Critical Value ({}): {:.3f}'.format(key, value))\n",
        "\n",
        "print(\"ADF Test for Original Series:\")\n",
        "adf_test(ts['Indicator Value'])"
      ]
    },
    {
      "cell_type": "code",
      "execution_count": 20,
      "metadata": {
        "colab": {
          "base_uri": "https://localhost:8080/",
          "height": 207
        },
        "id": "DN1tKqYNWccg",
        "outputId": "d2aa4f31-53e4-4fce-86e5-b56a1d475cd3"
      },
      "outputs": [
        {
          "output_type": "error",
          "ename": "NameError",
          "evalue": "name 'ts' is not defined",
          "traceback": [
            "\u001b[0;31m---------------------------------------------------------------------------\u001b[0m",
            "\u001b[0;31mNameError\u001b[0m                                 Traceback (most recent call last)",
            "\u001b[0;32m<ipython-input-20-3d411d993367>\u001b[0m in \u001b[0;36m<cell line: 0>\u001b[0;34m()\u001b[0m\n\u001b[1;32m      1\u001b[0m \u001b[0;31m# Autocorrelation\u001b[0m\u001b[0;34m\u001b[0m\u001b[0;34m\u001b[0m\u001b[0m\n\u001b[0;32m----> 2\u001b[0;31m \u001b[0mfirst_year\u001b[0m \u001b[0;34m=\u001b[0m \u001b[0mts\u001b[0m\u001b[0;34m.\u001b[0m\u001b[0mindex\u001b[0m\u001b[0;34m.\u001b[0m\u001b[0mmin\u001b[0m\u001b[0;34m(\u001b[0m\u001b[0;34m)\u001b[0m\u001b[0;34m\u001b[0m\u001b[0;34m\u001b[0m\u001b[0m\n\u001b[0m\u001b[1;32m      3\u001b[0m \u001b[0mlast_year\u001b[0m \u001b[0;34m=\u001b[0m \u001b[0mts\u001b[0m\u001b[0;34m.\u001b[0m\u001b[0mindex\u001b[0m\u001b[0;34m.\u001b[0m\u001b[0mmax\u001b[0m\u001b[0;34m(\u001b[0m\u001b[0;34m)\u001b[0m\u001b[0;34m\u001b[0m\u001b[0;34m\u001b[0m\u001b[0m\n\u001b[1;32m      4\u001b[0m \u001b[0;34m\u001b[0m\u001b[0m\n\u001b[1;32m      5\u001b[0m \u001b[0mfig\u001b[0m\u001b[0;34m,\u001b[0m \u001b[0maxes\u001b[0m \u001b[0;34m=\u001b[0m \u001b[0mplt\u001b[0m\u001b[0;34m.\u001b[0m\u001b[0msubplots\u001b[0m\u001b[0;34m(\u001b[0m\u001b[0;36m3\u001b[0m\u001b[0;34m,\u001b[0m \u001b[0;36m2\u001b[0m\u001b[0;34m,\u001b[0m \u001b[0mfigsize\u001b[0m\u001b[0;34m=\u001b[0m\u001b[0;34m(\u001b[0m\u001b[0;36m12\u001b[0m\u001b[0;34m,\u001b[0m \u001b[0;36m8\u001b[0m\u001b[0;34m)\u001b[0m\u001b[0;34m)\u001b[0m\u001b[0;34m\u001b[0m\u001b[0;34m\u001b[0m\u001b[0m\n",
            "\u001b[0;31mNameError\u001b[0m: name 'ts' is not defined"
          ]
        }
      ],
      "source": [
        "# Autocorrelation\n",
        "first_year = ts.index.min()\n",
        "last_year = ts.index.max()\n",
        "\n",
        "fig, axes = plt.subplots(3, 2, figsize=(12, 8))\n",
        "\n",
        "# Original Series\n",
        "axes[0, 0].plot(ts.index, ts['Indicator Value'], marker='o')\n",
        "axes[0, 0].set_title('Original Series')\n",
        "axes[0, 0].set_xlim([first_year, last_year])\n",
        "\n",
        "# Autocorrelation for Original Series\n",
        "plot_acf(ts['Indicator Value'].dropna(), ax=axes[0, 1])\n",
        "\n",
        "# 1st Differencing\n",
        "ts_diff = ts['Indicator Value'].diff().dropna()\n",
        "axes[1, 0].plot(ts_diff.index, ts_diff, marker='o')\n",
        "axes[1, 0].set_title('1st Order Differencing')\n",
        "axes[1, 0].set_xlim([first_year, last_year])\n",
        "\n",
        "# Autocorrelation for 1st Differencing\n",
        "plot_acf(ts_diff, ax=axes[1, 1])\n",
        "\n",
        "# 2nd Differencing\n",
        "ts_diff2 = ts_diff.diff().dropna()\n",
        "axes[2, 0].plot(ts_diff2.index, ts_diff2, marker='o')\n",
        "axes[2, 0].set_title('2nd Order Differencing')\n",
        "axes[2, 0].set_xlim([first_year, last_year])\n",
        "\n",
        "# Autocorrelation for 2nd Differencing\n",
        "plot_acf(ts_diff2, ax=axes[2, 1])\n",
        "\n",
        "# Rotate x-axis labels for better readability\n",
        "for ax in axes[:, 0]:\n",
        "    ax.tick_params(axis='x', rotation=45)\n",
        "\n",
        "# Make sure ACF plots do not share x-axis settings with time series plots\n",
        "for ax in axes[:, 1]:\n",
        "    ax.set_xlim(auto=True)  # Let the ACF plots use their own scaling\n",
        "\n",
        "# Adjust layout\n",
        "plt.tight_layout()\n",
        "plt.show()"
      ]
    },
    {
      "cell_type": "code",
      "execution_count": 21,
      "metadata": {
        "colab": {
          "base_uri": "https://localhost:8080/",
          "height": 207
        },
        "id": "VKgnrF63Wcch",
        "outputId": "49689f91-1f53-43d8-95b8-88cf477ed049"
      },
      "outputs": [
        {
          "output_type": "error",
          "ename": "NameError",
          "evalue": "name 'ts_diff' is not defined",
          "traceback": [
            "\u001b[0;31m---------------------------------------------------------------------------\u001b[0m",
            "\u001b[0;31mNameError\u001b[0m                                 Traceback (most recent call last)",
            "\u001b[0;32m<ipython-input-21-a881cab5682a>\u001b[0m in \u001b[0;36m<cell line: 0>\u001b[0;34m()\u001b[0m\n\u001b[0;32m----> 1\u001b[0;31m \u001b[0mresult\u001b[0m \u001b[0;34m=\u001b[0m \u001b[0madfuller\u001b[0m\u001b[0;34m(\u001b[0m\u001b[0mts_diff\u001b[0m\u001b[0;34m)\u001b[0m\u001b[0;34m\u001b[0m\u001b[0;34m\u001b[0m\u001b[0m\n\u001b[0m\u001b[1;32m      2\u001b[0m \u001b[0mprint\u001b[0m\u001b[0;34m(\u001b[0m\u001b[0;34m\"First order of differencing:\"\u001b[0m\u001b[0;34m)\u001b[0m\u001b[0;34m\u001b[0m\u001b[0;34m\u001b[0m\u001b[0m\n\u001b[1;32m      3\u001b[0m \u001b[0mprint\u001b[0m\u001b[0;34m(\u001b[0m\u001b[0;34mf\"ADF Statistic: {result[0]}\"\u001b[0m\u001b[0;34m)\u001b[0m\u001b[0;34m\u001b[0m\u001b[0;34m\u001b[0m\u001b[0m\n\u001b[1;32m      4\u001b[0m \u001b[0mprint\u001b[0m\u001b[0;34m(\u001b[0m\u001b[0;34mf\"p-value: {result[1]}\"\u001b[0m\u001b[0;34m)\u001b[0m\u001b[0;34m\u001b[0m\u001b[0;34m\u001b[0m\u001b[0m\n\u001b[1;32m      5\u001b[0m \u001b[0;32mfor\u001b[0m \u001b[0mkey\u001b[0m\u001b[0;34m,\u001b[0m \u001b[0mvalue\u001b[0m \u001b[0;32min\u001b[0m \u001b[0mresult\u001b[0m\u001b[0;34m[\u001b[0m\u001b[0;36m4\u001b[0m\u001b[0;34m]\u001b[0m\u001b[0;34m.\u001b[0m\u001b[0mitems\u001b[0m\u001b[0;34m(\u001b[0m\u001b[0;34m)\u001b[0m\u001b[0;34m:\u001b[0m\u001b[0;34m\u001b[0m\u001b[0;34m\u001b[0m\u001b[0m\n",
            "\u001b[0;31mNameError\u001b[0m: name 'ts_diff' is not defined"
          ]
        }
      ],
      "source": [
        "result = adfuller(ts_diff)\n",
        "print(\"First order of differencing:\")\n",
        "print(f\"ADF Statistic: {result[0]}\")\n",
        "print(f\"p-value: {result[1]}\")\n",
        "for key, value in result[4].items():\n",
        "    print(f\"Critical Value ({key}%): {value:.3f}\")\n",
        "\n",
        "result_2 = adfuller(ts_diff2)\n",
        "print(\"\\nSecond order of differencing:\")\n",
        "print(f\"ADF Statistic: {result_2[0]}\")\n",
        "print(f\"p-value: {result_2[1]}\")\n",
        "for key, value in result_2[4].items():\n",
        "    print(f\"Critical Value ({key}%): {value:.3f}\")"
      ]
    },
    {
      "cell_type": "markdown",
      "metadata": {
        "collapsed": false,
        "id": "bADHIVWYWcch"
      },
      "source": [
        "#### AR (p)"
      ]
    },
    {
      "cell_type": "code",
      "execution_count": 22,
      "metadata": {
        "colab": {
          "base_uri": "https://localhost:8080/",
          "height": 207
        },
        "id": "3aAZyxSqWcch",
        "outputId": "fd590beb-2ae7-4c50-ef4f-4b0a0446cdc0"
      },
      "outputs": [
        {
          "output_type": "error",
          "ename": "NameError",
          "evalue": "name 'ts' is not defined",
          "traceback": [
            "\u001b[0;31m---------------------------------------------------------------------------\u001b[0m",
            "\u001b[0;31mNameError\u001b[0m                                 Traceback (most recent call last)",
            "\u001b[0;32m<ipython-input-22-035770078e23>\u001b[0m in \u001b[0;36m<cell line: 0>\u001b[0;34m()\u001b[0m\n\u001b[1;32m      1\u001b[0m \u001b[0;31m# Update plot settings for better readability\u001b[0m\u001b[0;34m\u001b[0m\u001b[0;34m\u001b[0m\u001b[0m\n\u001b[0;32m----> 2\u001b[0;31m \u001b[0mfirst_year\u001b[0m \u001b[0;34m=\u001b[0m \u001b[0mts\u001b[0m\u001b[0;34m.\u001b[0m\u001b[0mindex\u001b[0m\u001b[0;34m.\u001b[0m\u001b[0mmin\u001b[0m\u001b[0;34m(\u001b[0m\u001b[0;34m)\u001b[0m\u001b[0;34m\u001b[0m\u001b[0;34m\u001b[0m\u001b[0m\n\u001b[0m\u001b[1;32m      3\u001b[0m \u001b[0mlast_year\u001b[0m \u001b[0;34m=\u001b[0m \u001b[0mts\u001b[0m\u001b[0;34m.\u001b[0m\u001b[0mindex\u001b[0m\u001b[0;34m.\u001b[0m\u001b[0mmax\u001b[0m\u001b[0;34m(\u001b[0m\u001b[0;34m)\u001b[0m\u001b[0;34m\u001b[0m\u001b[0;34m\u001b[0m\u001b[0m\n\u001b[1;32m      4\u001b[0m \u001b[0mplt\u001b[0m\u001b[0;34m.\u001b[0m\u001b[0mrcParams\u001b[0m\u001b[0;34m.\u001b[0m\u001b[0mupdate\u001b[0m\u001b[0;34m(\u001b[0m\u001b[0;34m{\u001b[0m\u001b[0;34m'figure.figsize'\u001b[0m\u001b[0;34m:\u001b[0m \u001b[0;34m(\u001b[0m\u001b[0;36m9\u001b[0m\u001b[0;34m,\u001b[0m \u001b[0;36m3\u001b[0m\u001b[0;34m)\u001b[0m\u001b[0;34m,\u001b[0m \u001b[0;34m'figure.dpi'\u001b[0m\u001b[0;34m:\u001b[0m \u001b[0;36m120\u001b[0m\u001b[0;34m}\u001b[0m\u001b[0;34m)\u001b[0m\u001b[0;34m\u001b[0m\u001b[0;34m\u001b[0m\u001b[0m\n\u001b[1;32m      5\u001b[0m \u001b[0;34m\u001b[0m\u001b[0m\n",
            "\u001b[0;31mNameError\u001b[0m: name 'ts' is not defined"
          ]
        }
      ],
      "source": [
        "# Update plot settings for better readability\n",
        "first_year = ts.index.min()\n",
        "last_year = ts.index.max()\n",
        "plt.rcParams.update({'figure.figsize': (9, 3), 'figure.dpi': 120})\n",
        "\n",
        "# Create subplots\n",
        "fig, axes = plt.subplots(1, 2, sharex=False)\n",
        "\n",
        "# 1st Order Differencing\n",
        "axes[0].plot(ts_diff.index, ts_diff, marker='o')\n",
        "axes[0].set_title('1st Differencing')\n",
        "axes[0].set_xlim([first_year, last_year])\n",
        "\n",
        "# PACF Plot for First-Order Differencing\n",
        "axes[1].set(ylim=(-1, 1))\n",
        "plot_pacf(ts_diff, ax=axes[1])\n",
        "\n",
        "plt.show()"
      ]
    },
    {
      "cell_type": "markdown",
      "metadata": {
        "collapsed": false,
        "id": "XzpPCg35Wcch"
      },
      "source": [
        "#### MA (q)"
      ]
    },
    {
      "cell_type": "code",
      "execution_count": 23,
      "metadata": {
        "colab": {
          "base_uri": "https://localhost:8080/",
          "height": 544
        },
        "id": "nKIXh351Wcch",
        "outputId": "616b7fe5-6556-4123-d65d-0a8441ebe856"
      },
      "outputs": [
        {
          "output_type": "error",
          "ename": "NameError",
          "evalue": "name 'ts_diff' is not defined",
          "traceback": [
            "\u001b[0;31m---------------------------------------------------------------------------\u001b[0m",
            "\u001b[0;31mNameError\u001b[0m                                 Traceback (most recent call last)",
            "\u001b[0;32m<ipython-input-23-08f808a0f39d>\u001b[0m in \u001b[0;36m<cell line: 0>\u001b[0;34m()\u001b[0m\n\u001b[1;32m      6\u001b[0m \u001b[0;34m\u001b[0m\u001b[0m\n\u001b[1;32m      7\u001b[0m \u001b[0;31m# 1st Order Differencing\u001b[0m\u001b[0;34m\u001b[0m\u001b[0;34m\u001b[0m\u001b[0m\n\u001b[0;32m----> 8\u001b[0;31m \u001b[0maxes\u001b[0m\u001b[0;34m[\u001b[0m\u001b[0;36m0\u001b[0m\u001b[0;34m]\u001b[0m\u001b[0;34m.\u001b[0m\u001b[0mplot\u001b[0m\u001b[0;34m(\u001b[0m\u001b[0mts_diff\u001b[0m\u001b[0;34m.\u001b[0m\u001b[0mindex\u001b[0m\u001b[0;34m,\u001b[0m \u001b[0mts_diff\u001b[0m\u001b[0;34m,\u001b[0m \u001b[0mmarker\u001b[0m\u001b[0;34m=\u001b[0m\u001b[0;34m'o'\u001b[0m\u001b[0;34m)\u001b[0m\u001b[0;34m\u001b[0m\u001b[0;34m\u001b[0m\u001b[0m\n\u001b[0m\u001b[1;32m      9\u001b[0m \u001b[0maxes\u001b[0m\u001b[0;34m[\u001b[0m\u001b[0;36m0\u001b[0m\u001b[0;34m]\u001b[0m\u001b[0;34m.\u001b[0m\u001b[0mset_title\u001b[0m\u001b[0;34m(\u001b[0m\u001b[0;34m'1st Differencing'\u001b[0m\u001b[0;34m)\u001b[0m\u001b[0;34m\u001b[0m\u001b[0;34m\u001b[0m\u001b[0m\n\u001b[1;32m     10\u001b[0m \u001b[0maxes\u001b[0m\u001b[0;34m[\u001b[0m\u001b[0;36m0\u001b[0m\u001b[0;34m]\u001b[0m\u001b[0;34m.\u001b[0m\u001b[0mset_xlim\u001b[0m\u001b[0;34m(\u001b[0m\u001b[0;34m[\u001b[0m\u001b[0mfirst_year\u001b[0m\u001b[0;34m,\u001b[0m \u001b[0mlast_year\u001b[0m\u001b[0;34m]\u001b[0m\u001b[0;34m)\u001b[0m\u001b[0;34m\u001b[0m\u001b[0;34m\u001b[0m\u001b[0m\n",
            "\u001b[0;31mNameError\u001b[0m: name 'ts_diff' is not defined"
          ]
        },
        {
          "output_type": "display_data",
          "data": {
            "text/plain": [
              "<Figure size 1080x360 with 2 Axes>"
            ],
            "image/png": "[encoded data removed]"
          },
          "metadata": {}
        }
      ],
      "source": [
        "# Update plot settings for better readability\n",
        "plt.rcParams.update({'figure.figsize': (9, 3), 'figure.dpi': 120})\n",
        "\n",
        "# Create subplots\n",
        "fig, axes = plt.subplots(1, 2, sharex=False)\n",
        "\n",
        "# 1st Order Differencing\n",
        "axes[0].plot(ts_diff.index, ts_diff, marker='o')\n",
        "axes[0].set_title('1st Differencing')\n",
        "axes[0].set_xlim([first_year, last_year])\n",
        "\n",
        "# ACF Plot for First-Order Differencing\n",
        "axes[1].set(ylim=(-1, 1))\n",
        "plot_acf(ts_diff, ax=axes[1])\n",
        "plt.show()"
      ]
    },
    {
      "cell_type": "markdown",
      "metadata": {
        "collapsed": false,
        "id": "15kJvPcUWcch"
      },
      "source": [
        "#### Building the ARIMA model ARIMA(p,d,q)"
      ]
    },
    {
      "cell_type": "code",
      "execution_count": null,
      "metadata": {
        "id": "SmQhVERrWcch"
      },
      "outputs": [],
      "source": [
        "# Define train-test split size\n",
        "split_ratio = 0.8\n",
        "split_index = int(len(ts) * split_ratio)\n",
        "\n",
        "# Split into training and test sets\n",
        "train, test = ts.iloc[:split_index], ts.iloc[split_index:]\n",
        "\n",
        "initial_model = ARIMA(ts['Indicator Value'], order=(1,1,1))\n",
        "initial_model_fit = initial_model.fit()\n",
        "print(\"Initial Model Summary:\")\n",
        "print(initial_model_fit.summary())\n",
        "\n",
        "simple_model = ARIMA(ts['Indicator Value'], order=(1,1,0))\n",
        "simple_model_fit = simple_model.fit()\n",
        "print(\"\\nSimpler Model Summary:\")\n",
        "print(simple_model_fit.summary())"
      ]
    },
    {
      "cell_type": "code",
      "execution_count": null,
      "metadata": {
        "id": "wupY7d6FWcch"
      },
      "outputs": [],
      "source": [
        "# Forecast the same length as the test set\n",
        "initial_test_forecast = initial_model_fit.forecast(steps=len(test))\n",
        "\n",
        "# Evaluate predictions\n",
        "mae = mean_absolute_error(test['Indicator Value'], initial_test_forecast)\n",
        "mse = mean_squared_error(test['Indicator Value'], initial_test_forecast)\n",
        "rmse = mse ** 0.5\n",
        "\n",
        "# Print evaluation metrics\n",
        "print(\"Initial Model Statistics\")\n",
        "print(f\"Mean Absolute Error (MAE): {mae:.4f}\")\n",
        "print(f\"Root Mean Squared Error (RMSE): {rmse:.4f}\")\n",
        "\n",
        "# Forecast the same length as the test set\n",
        "simple_test_forecast = simple_model_fit.forecast(steps=len(test))\n",
        "\n",
        "# Evaluate predictions\n",
        "mae = mean_absolute_error(test['Indicator Value'], simple_test_forecast)\n",
        "mse = mean_squared_error(test['Indicator Value'], simple_test_forecast)\n",
        "rmse = mse ** 0.5\n",
        "\n",
        "# Print evaluation metrics\n",
        "print(\"\\nSimple Model Statistics\")\n",
        "print(f\"Mean Absolute Error (MAE): {mae:.4f}\")\n",
        "print(f\"Root Mean Squared Error (RMSE): {rmse:.4f}\")"
      ]
    },
    {
      "cell_type": "code",
      "execution_count": null,
      "metadata": {
        "id": "EDZ6h53bWcch"
      },
      "outputs": [],
      "source": [
        "residuals = simple_model_fit.resid\n",
        "plt.plot(residuals)\n",
        "plt.title(\"Residuals Over Time\")\n",
        "plt.axhline(y=0, color='black', linestyle='dashed')\n",
        "plt.show()"
      ]
    },
    {
      "cell_type": "code",
      "execution_count": null,
      "metadata": {
        "id": "pu-_89PkWcch"
      },
      "outputs": [],
      "source": [
        "# Forecast the next 10 years\n",
        "forecast_steps = 10\n",
        "forecast = initial_model_fit.forecast(steps=forecast_steps)\n",
        "\n",
        "# Create a forecast index starting from the next available year\n",
        "forecast_index = list(range(ts.index[-1] + 1, ts.index[-1] + 1 + forecast_steps))\n",
        "\n",
        "# Convert to Series for plotting\n",
        "forecast_series = pd.Series(forecast.values, index=forecast_index)\n",
        "\n",
        "# Plot historical data and forecasted values\n",
        "plt.figure(figsize=(10, 5))\n",
        "plt.plot(ts.index, ts['Indicator Value'], label=\"Historical Data\")\n",
        "plt.plot(forecast_series.index, forecast_series.values, label=\"Forecast\", color=\"red\", marker='o')\n",
        "plt.title(\"Female Employment in industry (% of female employment) - India\")\n",
        "plt.xlabel(\"Year\")\n",
        "plt.ylabel(\"Growth Rate (%)\")\n",
        "plt.legend()\n",
        "plt.grid()\n",
        "plt.show()"
      ]
    },
    {
      "cell_type": "markdown",
      "metadata": {
        "collapsed": false,
        "id": "rTzMSn55Wcch"
      },
      "source": [
        "### Employment in services, female (% of female employment) (modeled ILO estimate) - India"
      ]
    },
    {
      "cell_type": "code",
      "execution_count": null,
      "metadata": {
        "id": "Xb5YbjpiWcch"
      },
      "outputs": [],
      "source": [
        "empl_serv_india = female_indicators[\n",
        "    (female_indicators[\"Country\"] == \"India\") &\n",
        "    (female_indicators[\"Indicator Name\"] == \"Employment in services, female (% of female employment)\")\n",
        "]\n",
        "\n",
        "# Prepare the time series\n",
        "ts = empl_serv_india[[\"Year\", \"Indicator Value\"]].dropna()\n",
        "ts[\"Year\"] = ts[\"Year\"].astype(int)\n",
        "ts[\"Year\"] = pd.to_datetime(ts[\"Year\"], format='%Y').dt.year\n",
        "ts.set_index(\"Year\", inplace=True)\n",
        "ts.index = pd.RangeIndex(start=ts.index.min(), stop=ts.index.max() + 1, step=1)"
      ]
    },
    {
      "cell_type": "code",
      "execution_count": null,
      "metadata": {
        "id": "DLhsZAr3Wcch"
      },
      "outputs": [],
      "source": [
        "# Check for stationarity in the data\n",
        "def adf_test(series):\n",
        "    result = adfuller(series)\n",
        "    print('ADF Statistic:', result[0])\n",
        "    print('p-value:', result[1])\n",
        "    for key, value in result[4].items():\n",
        "        print('Critical Value ({}): {:.3f}'.format(key, value))\n",
        "\n",
        "print(\"ADF Test for Original Series:\")\n",
        "adf_test(ts['Indicator Value'])"
      ]
    },
    {
      "cell_type": "code",
      "execution_count": 24,
      "metadata": {
        "colab": {
          "base_uri": "https://localhost:8080/",
          "height": 207
        },
        "id": "d6GD4iQuWcch",
        "outputId": "f776809b-9187-4ed3-f89b-9fa5a639f2aa"
      },
      "outputs": [
        {
          "output_type": "error",
          "ename": "NameError",
          "evalue": "name 'ts' is not defined",
          "traceback": [
            "\u001b[0;31m---------------------------------------------------------------------------\u001b[0m",
            "\u001b[0;31mNameError\u001b[0m                                 Traceback (most recent call last)",
            "\u001b[0;32m<ipython-input-24-3d411d993367>\u001b[0m in \u001b[0;36m<cell line: 0>\u001b[0;34m()\u001b[0m\n\u001b[1;32m      1\u001b[0m \u001b[0;31m# Autocorrelation\u001b[0m\u001b[0;34m\u001b[0m\u001b[0;34m\u001b[0m\u001b[0m\n\u001b[0;32m----> 2\u001b[0;31m \u001b[0mfirst_year\u001b[0m \u001b[0;34m=\u001b[0m \u001b[0mts\u001b[0m\u001b[0;34m.\u001b[0m\u001b[0mindex\u001b[0m\u001b[0;34m.\u001b[0m\u001b[0mmin\u001b[0m\u001b[0;34m(\u001b[0m\u001b[0;34m)\u001b[0m\u001b[0;34m\u001b[0m\u001b[0;34m\u001b[0m\u001b[0m\n\u001b[0m\u001b[1;32m      3\u001b[0m \u001b[0mlast_year\u001b[0m \u001b[0;34m=\u001b[0m \u001b[0mts\u001b[0m\u001b[0;34m.\u001b[0m\u001b[0mindex\u001b[0m\u001b[0;34m.\u001b[0m\u001b[0mmax\u001b[0m\u001b[0;34m(\u001b[0m\u001b[0;34m)\u001b[0m\u001b[0;34m\u001b[0m\u001b[0;34m\u001b[0m\u001b[0m\n\u001b[1;32m      4\u001b[0m \u001b[0;34m\u001b[0m\u001b[0m\n\u001b[1;32m      5\u001b[0m \u001b[0mfig\u001b[0m\u001b[0;34m,\u001b[0m \u001b[0maxes\u001b[0m \u001b[0;34m=\u001b[0m \u001b[0mplt\u001b[0m\u001b[0;34m.\u001b[0m\u001b[0msubplots\u001b[0m\u001b[0;34m(\u001b[0m\u001b[0;36m3\u001b[0m\u001b[0;34m,\u001b[0m \u001b[0;36m2\u001b[0m\u001b[0;34m,\u001b[0m \u001b[0mfigsize\u001b[0m\u001b[0;34m=\u001b[0m\u001b[0;34m(\u001b[0m\u001b[0;36m12\u001b[0m\u001b[0;34m,\u001b[0m \u001b[0;36m8\u001b[0m\u001b[0;34m)\u001b[0m\u001b[0;34m)\u001b[0m\u001b[0;34m\u001b[0m\u001b[0;34m\u001b[0m\u001b[0m\n",
            "\u001b[0;31mNameError\u001b[0m: name 'ts' is not defined"
          ]
        }
      ],
      "source": [
        "# Autocorrelation\n",
        "first_year = ts.index.min()\n",
        "last_year = ts.index.max()\n",
        "\n",
        "fig, axes = plt.subplots(3, 2, figsize=(12, 8))\n",
        "\n",
        "# Original Series\n",
        "axes[0, 0].plot(ts.index, ts['Indicator Value'], marker='o')\n",
        "axes[0, 0].set_title('Original Series')\n",
        "axes[0, 0].set_xlim([first_year, last_year])\n",
        "\n",
        "# Autocorrelation for Original Series\n",
        "plot_acf(ts['Indicator Value'].dropna(), ax=axes[0, 1])\n",
        "\n",
        "# 1st Differencing\n",
        "ts_diff = ts['Indicator Value'].diff().dropna()\n",
        "axes[1, 0].plot(ts_diff.index, ts_diff, marker='o')\n",
        "axes[1, 0].set_title('1st Order Differencing')\n",
        "axes[1, 0].set_xlim([first_year, last_year])\n",
        "\n",
        "# Autocorrelation for 1st Differencing\n",
        "plot_acf(ts_diff, ax=axes[1, 1])\n",
        "\n",
        "# 2nd Differencing\n",
        "ts_diff2 = ts_diff.diff().dropna()\n",
        "axes[2, 0].plot(ts_diff2.index, ts_diff2, marker='o')\n",
        "axes[2, 0].set_title('2nd Order Differencing')\n",
        "axes[2, 0].set_xlim([first_year, last_year])\n",
        "\n",
        "# Autocorrelation for 2nd Differencing\n",
        "plot_acf(ts_diff2, ax=axes[2, 1])\n",
        "\n",
        "# Rotate x-axis labels for better readability\n",
        "for ax in axes[:, 0]:\n",
        "    ax.tick_params(axis='x', rotation=45)\n",
        "\n",
        "# Make sure ACF plots do not share x-axis settings with time series plots\n",
        "for ax in axes[:, 1]:\n",
        "    ax.set_xlim(auto=True)  # Let the ACF plots use their own scaling\n",
        "\n",
        "# Adjust layout\n",
        "plt.tight_layout()\n",
        "plt.show()"
      ]
    },
    {
      "cell_type": "code",
      "execution_count": 25,
      "metadata": {
        "colab": {
          "base_uri": "https://localhost:8080/",
          "height": 207
        },
        "id": "ZoNfxtk1Wcci",
        "outputId": "e5370550-6c8f-470a-e92c-89c28cc304ff"
      },
      "outputs": [
        {
          "output_type": "error",
          "ename": "NameError",
          "evalue": "name 'ts_diff' is not defined",
          "traceback": [
            "\u001b[0;31m---------------------------------------------------------------------------\u001b[0m",
            "\u001b[0;31mNameError\u001b[0m                                 Traceback (most recent call last)",
            "\u001b[0;32m<ipython-input-25-a881cab5682a>\u001b[0m in \u001b[0;36m<cell line: 0>\u001b[0;34m()\u001b[0m\n\u001b[0;32m----> 1\u001b[0;31m \u001b[0mresult\u001b[0m \u001b[0;34m=\u001b[0m \u001b[0madfuller\u001b[0m\u001b[0;34m(\u001b[0m\u001b[0mts_diff\u001b[0m\u001b[0;34m)\u001b[0m\u001b[0;34m\u001b[0m\u001b[0;34m\u001b[0m\u001b[0m\n\u001b[0m\u001b[1;32m      2\u001b[0m \u001b[0mprint\u001b[0m\u001b[0;34m(\u001b[0m\u001b[0;34m\"First order of differencing:\"\u001b[0m\u001b[0;34m)\u001b[0m\u001b[0;34m\u001b[0m\u001b[0;34m\u001b[0m\u001b[0m\n\u001b[1;32m      3\u001b[0m \u001b[0mprint\u001b[0m\u001b[0;34m(\u001b[0m\u001b[0;34mf\"ADF Statistic: {result[0]}\"\u001b[0m\u001b[0;34m)\u001b[0m\u001b[0;34m\u001b[0m\u001b[0;34m\u001b[0m\u001b[0m\n\u001b[1;32m      4\u001b[0m \u001b[0mprint\u001b[0m\u001b[0;34m(\u001b[0m\u001b[0;34mf\"p-value: {result[1]}\"\u001b[0m\u001b[0;34m)\u001b[0m\u001b[0;34m\u001b[0m\u001b[0;34m\u001b[0m\u001b[0m\n\u001b[1;32m      5\u001b[0m \u001b[0;32mfor\u001b[0m \u001b[0mkey\u001b[0m\u001b[0;34m,\u001b[0m \u001b[0mvalue\u001b[0m \u001b[0;32min\u001b[0m \u001b[0mresult\u001b[0m\u001b[0;34m[\u001b[0m\u001b[0;36m4\u001b[0m\u001b[0;34m]\u001b[0m\u001b[0;34m.\u001b[0m\u001b[0mitems\u001b[0m\u001b[0;34m(\u001b[0m\u001b[0;34m)\u001b[0m\u001b[0;34m:\u001b[0m\u001b[0;34m\u001b[0m\u001b[0;34m\u001b[0m\u001b[0m\n",
            "\u001b[0;31mNameError\u001b[0m: name 'ts_diff' is not defined"
          ]
        }
      ],
      "source": [
        "result = adfuller(ts_diff)\n",
        "print(\"First order of differencing:\")\n",
        "print(f\"ADF Statistic: {result[0]}\")\n",
        "print(f\"p-value: {result[1]}\")\n",
        "for key, value in result[4].items():\n",
        "    print(f\"Critical Value ({key}%): {value:.3f}\")\n",
        "\n",
        "result_2 = adfuller(ts_diff2)\n",
        "print(\"\\nSecond order of differencing:\")\n",
        "print(f\"ADF Statistic: {result_2[0]}\")\n",
        "print(f\"p-value: {result_2[1]}\")\n",
        "for key, value in result_2[4].items():\n",
        "    print(f\"Critical Value ({key}%): {value:.3f}\")"
      ]
    },
    {
      "cell_type": "markdown",
      "metadata": {
        "collapsed": false,
        "id": "Bb8HyBpNWcci"
      },
      "source": [
        "#### AR (p)"
      ]
    },
    {
      "cell_type": "code",
      "execution_count": 26,
      "metadata": {
        "colab": {
          "base_uri": "https://localhost:8080/",
          "height": 207
        },
        "id": "ztOWPmttWcci",
        "outputId": "29e23393-25a1-4ea5-cb47-1bb44ca6e756"
      },
      "outputs": [
        {
          "output_type": "error",
          "ename": "NameError",
          "evalue": "name 'ts' is not defined",
          "traceback": [
            "\u001b[0;31m---------------------------------------------------------------------------\u001b[0m",
            "\u001b[0;31mNameError\u001b[0m                                 Traceback (most recent call last)",
            "\u001b[0;32m<ipython-input-26-035770078e23>\u001b[0m in \u001b[0;36m<cell line: 0>\u001b[0;34m()\u001b[0m\n\u001b[1;32m      1\u001b[0m \u001b[0;31m# Update plot settings for better readability\u001b[0m\u001b[0;34m\u001b[0m\u001b[0;34m\u001b[0m\u001b[0m\n\u001b[0;32m----> 2\u001b[0;31m \u001b[0mfirst_year\u001b[0m \u001b[0;34m=\u001b[0m \u001b[0mts\u001b[0m\u001b[0;34m.\u001b[0m\u001b[0mindex\u001b[0m\u001b[0;34m.\u001b[0m\u001b[0mmin\u001b[0m\u001b[0;34m(\u001b[0m\u001b[0;34m)\u001b[0m\u001b[0;34m\u001b[0m\u001b[0;34m\u001b[0m\u001b[0m\n\u001b[0m\u001b[1;32m      3\u001b[0m \u001b[0mlast_year\u001b[0m \u001b[0;34m=\u001b[0m \u001b[0mts\u001b[0m\u001b[0;34m.\u001b[0m\u001b[0mindex\u001b[0m\u001b[0;34m.\u001b[0m\u001b[0mmax\u001b[0m\u001b[0;34m(\u001b[0m\u001b[0;34m)\u001b[0m\u001b[0;34m\u001b[0m\u001b[0;34m\u001b[0m\u001b[0m\n\u001b[1;32m      4\u001b[0m \u001b[0mplt\u001b[0m\u001b[0;34m.\u001b[0m\u001b[0mrcParams\u001b[0m\u001b[0;34m.\u001b[0m\u001b[0mupdate\u001b[0m\u001b[0;34m(\u001b[0m\u001b[0;34m{\u001b[0m\u001b[0;34m'figure.figsize'\u001b[0m\u001b[0;34m:\u001b[0m \u001b[0;34m(\u001b[0m\u001b[0;36m9\u001b[0m\u001b[0;34m,\u001b[0m \u001b[0;36m3\u001b[0m\u001b[0;34m)\u001b[0m\u001b[0;34m,\u001b[0m \u001b[0;34m'figure.dpi'\u001b[0m\u001b[0;34m:\u001b[0m \u001b[0;36m120\u001b[0m\u001b[0;34m}\u001b[0m\u001b[0;34m)\u001b[0m\u001b[0;34m\u001b[0m\u001b[0;34m\u001b[0m\u001b[0m\n\u001b[1;32m      5\u001b[0m \u001b[0;34m\u001b[0m\u001b[0m\n",
            "\u001b[0;31mNameError\u001b[0m: name 'ts' is not defined"
          ]
        }
      ],
      "source": [
        "# Update plot settings for better readability\n",
        "first_year = ts.index.min()\n",
        "last_year = ts.index.max()\n",
        "plt.rcParams.update({'figure.figsize': (9, 3), 'figure.dpi': 120})\n",
        "\n",
        "# Create subplots\n",
        "fig, axes = plt.subplots(1, 2, sharex=False)\n",
        "\n",
        "# 1st Order Differencing\n",
        "axes[0].plot(ts_diff.index, ts_diff, marker='o')\n",
        "axes[0].set_title('1st Differencing')\n",
        "axes[0].set_xlim([first_year, last_year])\n",
        "\n",
        "# PACF Plot for First-Order Differencing\n",
        "axes[1].set(ylim=(-1, 1))\n",
        "plot_pacf(ts_diff, ax=axes[1])\n",
        "\n",
        "plt.show()"
      ]
    },
    {
      "cell_type": "markdown",
      "metadata": {
        "collapsed": false,
        "id": "s701d5rnWcci"
      },
      "source": [
        "#### MA (q)"
      ]
    },
    {
      "cell_type": "code",
      "execution_count": 27,
      "metadata": {
        "colab": {
          "base_uri": "https://localhost:8080/",
          "height": 544
        },
        "id": "Ctf_cdGbWcci",
        "outputId": "e32e2d8f-abe1-477f-8879-e7f9415d6284"
      },
      "outputs": [
        {
          "output_type": "error",
          "ename": "NameError",
          "evalue": "name 'ts_diff' is not defined",
          "traceback": [
            "\u001b[0;31m---------------------------------------------------------------------------\u001b[0m",
            "\u001b[0;31mNameError\u001b[0m                                 Traceback (most recent call last)",
            "\u001b[0;32m<ipython-input-27-08f808a0f39d>\u001b[0m in \u001b[0;36m<cell line: 0>\u001b[0;34m()\u001b[0m\n\u001b[1;32m      6\u001b[0m \u001b[0;34m\u001b[0m\u001b[0m\n\u001b[1;32m      7\u001b[0m \u001b[0;31m# 1st Order Differencing\u001b[0m\u001b[0;34m\u001b[0m\u001b[0;34m\u001b[0m\u001b[0m\n\u001b[0;32m----> 8\u001b[0;31m \u001b[0maxes\u001b[0m\u001b[0;34m[\u001b[0m\u001b[0;36m0\u001b[0m\u001b[0;34m]\u001b[0m\u001b[0;34m.\u001b[0m\u001b[0mplot\u001b[0m\u001b[0;34m(\u001b[0m\u001b[0mts_diff\u001b[0m\u001b[0;34m.\u001b[0m\u001b[0mindex\u001b[0m\u001b[0;34m,\u001b[0m \u001b[0mts_diff\u001b[0m\u001b[0;34m,\u001b[0m \u001b[0mmarker\u001b[0m\u001b[0;34m=\u001b[0m\u001b[0;34m'o'\u001b[0m\u001b[0;34m)\u001b[0m\u001b[0;34m\u001b[0m\u001b[0;34m\u001b[0m\u001b[0m\n\u001b[0m\u001b[1;32m      9\u001b[0m \u001b[0maxes\u001b[0m\u001b[0;34m[\u001b[0m\u001b[0;36m0\u001b[0m\u001b[0;34m]\u001b[0m\u001b[0;34m.\u001b[0m\u001b[0mset_title\u001b[0m\u001b[0;34m(\u001b[0m\u001b[0;34m'1st Differencing'\u001b[0m\u001b[0;34m)\u001b[0m\u001b[0;34m\u001b[0m\u001b[0;34m\u001b[0m\u001b[0m\n\u001b[1;32m     10\u001b[0m \u001b[0maxes\u001b[0m\u001b[0;34m[\u001b[0m\u001b[0;36m0\u001b[0m\u001b[0;34m]\u001b[0m\u001b[0;34m.\u001b[0m\u001b[0mset_xlim\u001b[0m\u001b[0;34m(\u001b[0m\u001b[0;34m[\u001b[0m\u001b[0mfirst_year\u001b[0m\u001b[0;34m,\u001b[0m \u001b[0mlast_year\u001b[0m\u001b[0;34m]\u001b[0m\u001b[0;34m)\u001b[0m\u001b[0;34m\u001b[0m\u001b[0;34m\u001b[0m\u001b[0m\n",
            "\u001b[0;31mNameError\u001b[0m: name 'ts_diff' is not defined"
          ]
        },
        {
          "output_type": "display_data",
          "data": {
            "text/plain": [
              "<Figure size 1080x360 with 2 Axes>"
            ],
            "image/png": "[encoded data removed]"
          },
          "metadata": {}
        }
      ],
      "source": [
        "# Update plot settings for better readability\n",
        "plt.rcParams.update({'figure.figsize': (9, 3), 'figure.dpi': 120})\n",
        "\n",
        "# Create subplots\n",
        "fig, axes = plt.subplots(1, 2, sharex=False)\n",
        "\n",
        "# 1st Order Differencing\n",
        "axes[0].plot(ts_diff.index, ts_diff, marker='o')\n",
        "axes[0].set_title('1st Differencing')\n",
        "axes[0].set_xlim([first_year, last_year])\n",
        "\n",
        "# ACF Plot for First-Order Differencing\n",
        "axes[1].set(ylim=(-1, 1))\n",
        "plot_acf(ts_diff, ax=axes[1])\n",
        "plt.show()"
      ]
    },
    {
      "cell_type": "markdown",
      "metadata": {
        "collapsed": false,
        "id": "OKrmNYnZWcci"
      },
      "source": [
        "#### Building the ARIMA model ARIMA(p,d,q)"
      ]
    },
    {
      "cell_type": "code",
      "execution_count": null,
      "metadata": {
        "id": "zyBZWAMRWcci"
      },
      "outputs": [],
      "source": [
        "# Define train-test split size\n",
        "split_ratio = 0.8\n",
        "split_index = int(len(ts) * split_ratio)\n",
        "\n",
        "# Split into training and test sets\n",
        "train, test = ts.iloc[:split_index], ts.iloc[split_index:]\n",
        "\n",
        "initial_model = ARIMA(ts['Indicator Value'], order=(1,1,1))\n",
        "initial_model_fit = initial_model.fit()\n",
        "print(\"Initial Model Summary:\")\n",
        "print(initial_model_fit.summary())\n",
        "\n",
        "simple_model = ARIMA(ts['Indicator Value'], order=(1,1,0))\n",
        "simple_model_fit = simple_model.fit()\n",
        "print(\"\\nSimpler Model Summary:\")\n",
        "print(simple_model_fit.summary())"
      ]
    },
    {
      "cell_type": "code",
      "execution_count": null,
      "metadata": {
        "id": "h5FrUNVXWcci"
      },
      "outputs": [],
      "source": [
        "# Forecast the same length as the test set\n",
        "initial_test_forecast = initial_model_fit.forecast(steps=len(test))\n",
        "\n",
        "# Evaluate predictions\n",
        "mae = mean_absolute_error(test['Indicator Value'], initial_test_forecast)\n",
        "mse = mean_squared_error(test['Indicator Value'], initial_test_forecast)\n",
        "rmse = mse ** 0.5\n",
        "\n",
        "# Print evaluation metrics\n",
        "print(\"Initial Model Statistics\")\n",
        "print(f\"Mean Absolute Error (MAE): {mae:.4f}\")\n",
        "print(f\"Root Mean Squared Error (RMSE): {rmse:.4f}\")\n",
        "\n",
        "# Forecast the same length as the test set\n",
        "simple_test_forecast = simple_model_fit.forecast(steps=len(test))\n",
        "\n",
        "# Evaluate predictions\n",
        "mae = mean_absolute_error(test['Indicator Value'], simple_test_forecast)\n",
        "mse = mean_squared_error(test['Indicator Value'], simple_test_forecast)\n",
        "rmse = mse ** 0.5\n",
        "\n",
        "# Print evaluation metrics\n",
        "print(\"\\nSimple Model Statistics\")\n",
        "print(f\"Mean Absolute Error (MAE): {mae:.4f}\")\n",
        "print(f\"Root Mean Squared Error (RMSE): {rmse:.4f}\")"
      ]
    },
    {
      "cell_type": "code",
      "execution_count": null,
      "metadata": {
        "id": "wjJvLpdYWcci"
      },
      "outputs": [],
      "source": [
        "residuals = initial_model_fit.resid\n",
        "plt.plot(residuals)\n",
        "plt.title(\"Residuals Over Time\")\n",
        "plt.axhline(y=0, color='black', linestyle='dashed')\n",
        "plt.show()"
      ]
    },
    {
      "cell_type": "code",
      "execution_count": null,
      "metadata": {
        "id": "h4BF4YsBWcci"
      },
      "outputs": [],
      "source": [
        "# Forecast the next 10 years\n",
        "forecast_steps = 10\n",
        "forecast = initial_model_fit.forecast(steps=forecast_steps)\n",
        "\n",
        "# Create a forecast index starting from the next available year\n",
        "forecast_index = list(range(ts.index[-1] + 1, ts.index[-1] + 1 + forecast_steps))\n",
        "\n",
        "# Convert to Series for plotting\n",
        "forecast_series = pd.Series(forecast.values, index=forecast_index)\n",
        "\n",
        "# Plot historical data and forecasted values\n",
        "plt.figure(figsize=(10, 5))\n",
        "plt.plot(ts.index, ts['Indicator Value'], label=\"Historical Data\")\n",
        "plt.plot(forecast_series.index, forecast_series.values, label=\"Forecast\", color=\"red\", marker='o')\n",
        "plt.title(\"Female Employment in services (% of female employment) - India\")\n",
        "plt.xlabel(\"Year\")\n",
        "plt.ylabel(\"Growth Rate (%)\")\n",
        "plt.legend()\n",
        "plt.grid()\n",
        "plt.show()"
      ]
    },
    {
      "cell_type": "markdown",
      "metadata": {
        "collapsed": false,
        "id": "WD4jhQlzWcci"
      },
      "source": [
        "### Employment in Agriculture, European Union"
      ]
    },
    {
      "cell_type": "code",
      "execution_count": null,
      "metadata": {
        "id": "ST1QCaCqWcci"
      },
      "outputs": [],
      "source": [
        "empl_agr_eu = female_indicators[\n",
        "    (female_indicators[\"Country\"] == \"European Union\") &\n",
        "    (female_indicators[\"Indicator Name\"] == \"Employment in agriculture, female (% of female employment)\")\n",
        "]\n",
        "\n",
        "# Prepare the time series\n",
        "ts = empl_agr_eu[[\"Year\", \"Indicator Value\"]].dropna()\n",
        "ts[\"Year\"] = ts[\"Year\"].astype(int)\n",
        "ts[\"Year\"] = pd.to_datetime(ts[\"Year\"], format='%Y').dt.year\n",
        "ts.set_index(\"Year\", inplace=True)\n",
        "ts.index = pd.RangeIndex(start=ts.index.min(), stop=ts.index.max() + 1, step=1)"
      ]
    },
    {
      "cell_type": "code",
      "source": [
        "# Check for stationarity in the data\n",
        "def adf_test(series):\n",
        "    result = adfuller(series)\n",
        "    print('ADF Statistic:', result[0])\n",
        "    print('p-value:', result[1])\n",
        "    for key, value in result[4].items():\n",
        "        print('Critical Value ({}): {:.3f}'.format(key, value))\n",
        "\n",
        "print(\"ADF Test for Original Series:\")\n",
        "adf_test(ts['Indicator Value'])"
      ],
      "metadata": {
        "id": "vfpBkUyor1Fa"
      },
      "execution_count": null,
      "outputs": []
    },
    {
      "cell_type": "code",
      "source": [
        "# Autocorrelation\n",
        "first_year = ts.index.min()\n",
        "last_year = ts.index.max()\n",
        "\n",
        "fig, axes = plt.subplots(3, 2, figsize=(12, 8))\n",
        "\n",
        "# Original Series\n",
        "axes[0, 0].plot(ts.index, ts['Indicator Value'], marker='o')\n",
        "axes[0, 0].set_title('Original Series')\n",
        "axes[0, 0].set_xlim([first_year, last_year])\n",
        "\n",
        "# Autocorrelation for Original Series\n",
        "plot_acf(ts['Indicator Value'].dropna(), ax=axes[0, 1])\n",
        "\n",
        "# 1st Differencing\n",
        "ts_diff = ts['Indicator Value'].diff().dropna()\n",
        "axes[1, 0].plot(ts_diff.index, ts_diff, marker='o')\n",
        "axes[1, 0].set_title('1st Order Differencing')\n",
        "axes[1, 0].set_xlim([first_year, last_year])\n",
        "\n",
        "# Autocorrelation for 1st Differencing\n",
        "plot_acf(ts_diff, ax=axes[1, 1])\n",
        "\n",
        "# 2nd Differencing\n",
        "ts_diff2 = ts_diff.diff().dropna()\n",
        "axes[2, 0].plot(ts_diff2.index, ts_diff2, marker='o')\n",
        "axes[2, 0].set_title('2nd Order Differencing')\n",
        "axes[2, 0].set_xlim([first_year, last_year])\n",
        "\n",
        "# Autocorrelation for 2nd Differencing\n",
        "plot_acf(ts_diff2, ax=axes[2, 1])\n",
        "\n",
        "# Rotate x-axis labels for better readability\n",
        "for ax in axes[:, 0]:\n",
        "    ax.tick_params(axis='x', rotation=45)\n",
        "\n",
        "# Make sure ACF plots do not share x-axis settings with time series plots\n",
        "for ax in axes[:, 1]:\n",
        "    ax.set_xlim(auto=True)  # Let the ACF plots use their own scaling\n",
        "\n",
        "# Adjust layout\n",
        "plt.tight_layout()\n",
        "plt.show()"
      ],
      "metadata": {
        "id": "1OHyMkJYr3g5"
      },
      "execution_count": null,
      "outputs": []
    },
    {
      "cell_type": "markdown",
      "source": [
        "### AR (p)"
      ],
      "metadata": {
        "id": "WMm_TkoIr-5e"
      }
    },
    {
      "cell_type": "code",
      "source": [
        "# Update plot settings for better readability\n",
        "first_year = ts.index.min()\n",
        "last_year = ts.index.max()\n",
        "plt.rcParams.update({'figure.figsize': (9, 3), 'figure.dpi': 120})\n",
        "\n",
        "# Create subplots\n",
        "fig, axes = plt.subplots(1, 2, sharex=False)\n",
        "\n",
        "# 1st Order Differencing\n",
        "axes[0].plot(ts_diff.index, ts_diff, marker='o')\n",
        "axes[0].set_title('1st Differencing')\n",
        "axes[0].set_xlim([first_year, last_year])\n",
        "\n",
        "# PACF Plot for First-Order Differencing\n",
        "axes[1].set(ylim=(-1, 1))\n",
        "plot_pacf(ts_diff, ax=axes[1])\n",
        "\n",
        "plt.show()"
      ],
      "metadata": {
        "colab": {
          "base_uri": "https://localhost:8080/",
          "height": 207
        },
        "id": "Hitlx4mlsA61",
        "outputId": "2102f6f9-be21-4670-a874-ec45d56f169e"
      },
      "execution_count": 28,
      "outputs": [
        {
          "output_type": "error",
          "ename": "NameError",
          "evalue": "name 'ts' is not defined",
          "traceback": [
            "\u001b[0;31m---------------------------------------------------------------------------\u001b[0m",
            "\u001b[0;31mNameError\u001b[0m                                 Traceback (most recent call last)",
            "\u001b[0;32m<ipython-input-28-035770078e23>\u001b[0m in \u001b[0;36m<cell line: 0>\u001b[0;34m()\u001b[0m\n\u001b[1;32m      1\u001b[0m \u001b[0;31m# Update plot settings for better readability\u001b[0m\u001b[0;34m\u001b[0m\u001b[0;34m\u001b[0m\u001b[0m\n\u001b[0;32m----> 2\u001b[0;31m \u001b[0mfirst_year\u001b[0m \u001b[0;34m=\u001b[0m \u001b[0mts\u001b[0m\u001b[0;34m.\u001b[0m\u001b[0mindex\u001b[0m\u001b[0;34m.\u001b[0m\u001b[0mmin\u001b[0m\u001b[0;34m(\u001b[0m\u001b[0;34m)\u001b[0m\u001b[0;34m\u001b[0m\u001b[0;34m\u001b[0m\u001b[0m\n\u001b[0m\u001b[1;32m      3\u001b[0m \u001b[0mlast_year\u001b[0m \u001b[0;34m=\u001b[0m \u001b[0mts\u001b[0m\u001b[0;34m.\u001b[0m\u001b[0mindex\u001b[0m\u001b[0;34m.\u001b[0m\u001b[0mmax\u001b[0m\u001b[0;34m(\u001b[0m\u001b[0;34m)\u001b[0m\u001b[0;34m\u001b[0m\u001b[0;34m\u001b[0m\u001b[0m\n\u001b[1;32m      4\u001b[0m \u001b[0mplt\u001b[0m\u001b[0;34m.\u001b[0m\u001b[0mrcParams\u001b[0m\u001b[0;34m.\u001b[0m\u001b[0mupdate\u001b[0m\u001b[0;34m(\u001b[0m\u001b[0;34m{\u001b[0m\u001b[0;34m'figure.figsize'\u001b[0m\u001b[0;34m:\u001b[0m \u001b[0;34m(\u001b[0m\u001b[0;36m9\u001b[0m\u001b[0;34m,\u001b[0m \u001b[0;36m3\u001b[0m\u001b[0;34m)\u001b[0m\u001b[0;34m,\u001b[0m \u001b[0;34m'figure.dpi'\u001b[0m\u001b[0;34m:\u001b[0m \u001b[0;36m120\u001b[0m\u001b[0;34m}\u001b[0m\u001b[0;34m)\u001b[0m\u001b[0;34m\u001b[0m\u001b[0;34m\u001b[0m\u001b[0m\n\u001b[1;32m      5\u001b[0m \u001b[0;34m\u001b[0m\u001b[0m\n",
            "\u001b[0;31mNameError\u001b[0m: name 'ts' is not defined"
          ]
        }
      ]
    },
    {
      "cell_type": "markdown",
      "source": [
        "### MA (q)"
      ],
      "metadata": {
        "id": "7-x-mSOOsDjx"
      }
    },
    {
      "cell_type": "code",
      "source": [
        "# Update plot settings for better readability\n",
        "plt.rcParams.update({'figure.figsize': (9, 3), 'figure.dpi': 120})\n",
        "\n",
        "# Create subplots\n",
        "fig, axes = plt.subplots(1, 2, sharex=False)\n",
        "\n",
        "# 1st Order Differencing\n",
        "axes[0].plot(ts_diff.index, ts_diff, marker='o')\n",
        "axes[0].set_title('1st Differencing')\n",
        "axes[0].set_xlim([first_year, last_year])\n",
        "\n",
        "# ACF Plot for First-Order Differencing\n",
        "axes[1].set(ylim=(-1, 1))\n",
        "plot_acf(ts_diff, ax=axes[1])\n",
        "plt.show()"
      ],
      "metadata": {
        "colab": {
          "base_uri": "https://localhost:8080/",
          "height": 544
        },
        "id": "46u-z2qdsE3O",
        "outputId": "c2c51ee1-5e77-4a38-a40b-11e6d45da5ae"
      },
      "execution_count": 29,
      "outputs": [
        {
          "output_type": "error",
          "ename": "NameError",
          "evalue": "name 'ts_diff' is not defined",
          "traceback": [
            "\u001b[0;31m---------------------------------------------------------------------------\u001b[0m",
            "\u001b[0;31mNameError\u001b[0m                                 Traceback (most recent call last)",
            "\u001b[0;32m<ipython-input-29-08f808a0f39d>\u001b[0m in \u001b[0;36m<cell line: 0>\u001b[0;34m()\u001b[0m\n\u001b[1;32m      6\u001b[0m \u001b[0;34m\u001b[0m\u001b[0m\n\u001b[1;32m      7\u001b[0m \u001b[0;31m# 1st Order Differencing\u001b[0m\u001b[0;34m\u001b[0m\u001b[0;34m\u001b[0m\u001b[0m\n\u001b[0;32m----> 8\u001b[0;31m \u001b[0maxes\u001b[0m\u001b[0;34m[\u001b[0m\u001b[0;36m0\u001b[0m\u001b[0;34m]\u001b[0m\u001b[0;34m.\u001b[0m\u001b[0mplot\u001b[0m\u001b[0;34m(\u001b[0m\u001b[0mts_diff\u001b[0m\u001b[0;34m.\u001b[0m\u001b[0mindex\u001b[0m\u001b[0;34m,\u001b[0m \u001b[0mts_diff\u001b[0m\u001b[0;34m,\u001b[0m \u001b[0mmarker\u001b[0m\u001b[0;34m=\u001b[0m\u001b[0;34m'o'\u001b[0m\u001b[0;34m)\u001b[0m\u001b[0;34m\u001b[0m\u001b[0;34m\u001b[0m\u001b[0m\n\u001b[0m\u001b[1;32m      9\u001b[0m \u001b[0maxes\u001b[0m\u001b[0;34m[\u001b[0m\u001b[0;36m0\u001b[0m\u001b[0;34m]\u001b[0m\u001b[0;34m.\u001b[0m\u001b[0mset_title\u001b[0m\u001b[0;34m(\u001b[0m\u001b[0;34m'1st Differencing'\u001b[0m\u001b[0;34m)\u001b[0m\u001b[0;34m\u001b[0m\u001b[0;34m\u001b[0m\u001b[0m\n\u001b[1;32m     10\u001b[0m \u001b[0maxes\u001b[0m\u001b[0;34m[\u001b[0m\u001b[0;36m0\u001b[0m\u001b[0;34m]\u001b[0m\u001b[0;34m.\u001b[0m\u001b[0mset_xlim\u001b[0m\u001b[0;34m(\u001b[0m\u001b[0;34m[\u001b[0m\u001b[0mfirst_year\u001b[0m\u001b[0;34m,\u001b[0m \u001b[0mlast_year\u001b[0m\u001b[0;34m]\u001b[0m\u001b[0;34m)\u001b[0m\u001b[0;34m\u001b[0m\u001b[0;34m\u001b[0m\u001b[0m\n",
            "\u001b[0;31mNameError\u001b[0m: name 'ts_diff' is not defined"
          ]
        },
        {
          "output_type": "display_data",
          "data": {
            "text/plain": [
              "<Figure size 1080x360 with 2 Axes>"
            ],
            "image/png": "[encoded data removed]"
          },
          "metadata": {}
        }
      ]
    },
    {
      "cell_type": "markdown",
      "source": [
        "### Building the ARIMA model ARIMA(p,d,q)"
      ],
      "metadata": {
        "id": "Zri321Mbsf63"
      }
    },
    {
      "cell_type": "code",
      "source": [
        "# Define train-test split size\n",
        "split_ratio = 0.8\n",
        "split_index = int(len(ts) * split_ratio)\n",
        "\n",
        "# Split into training and test sets\n",
        "train, test = ts.iloc[:split_index], ts.iloc[split_index:]\n",
        "\n",
        "initial_model = ARIMA(ts['Indicator Value'], order=(1,1,1))\n",
        "initial_model_fit = initial_model.fit()\n",
        "print(\"Initial Model Summary:\")\n",
        "print(initial_model_fit.summary())"
      ],
      "metadata": {
        "id": "1c_HM-PWsjKa"
      },
      "execution_count": null,
      "outputs": []
    },
    {
      "cell_type": "code",
      "source": [
        "# Forecast the same length as the test set\n",
        "initial_test_forecast = initial_model_fit.forecast(steps=len(test))\n",
        "\n",
        "# Evaluate predictions\n",
        "mae = mean_absolute_error(test['Indicator Value'], initial_test_forecast)\n",
        "mse = mean_squared_error(test['Indicator Value'], initial_test_forecast)\n",
        "rmse = mse ** 0.5\n",
        "\n",
        "# Print evaluation metrics\n",
        "print(\"Initial Model Statistics\")\n",
        "print(f\"Mean Absolute Error (MAE): {mae:.4f}\")\n",
        "print(f\"Root Mean Squared Error (RMSE): {rmse:.4f}\")"
      ],
      "metadata": {
        "id": "ABXyXszgswbC"
      },
      "execution_count": null,
      "outputs": []
    },
    {
      "cell_type": "code",
      "source": [
        "residuals = initial_model_fit.resid\n",
        "plt.plot(residuals)\n",
        "plt.title(\"Residuals Over Time\")\n",
        "plt.axhline(y=0, color='black', linestyle='dashed')\n",
        "plt.show()"
      ],
      "metadata": {
        "id": "q_5tb94Ns1N-"
      },
      "execution_count": null,
      "outputs": []
    },
    {
      "cell_type": "code",
      "source": [
        "# Forecast the next 10 years\n",
        "forecast_steps = 10\n",
        "forecast = initial_model_fit.forecast(steps=forecast_steps)\n",
        "\n",
        "# Create a forecast index starting from the next available year\n",
        "forecast_index = list(range(ts.index[-1] + 1, ts.index[-1] + 1 + forecast_steps))\n",
        "\n",
        "# Convert to Series for plotting\n",
        "forecast_series = pd.Series(forecast.values, index=forecast_index)\n",
        "\n",
        "# Plot historical data and forecasted values\n",
        "plt.figure(figsize=(10, 5))\n",
        "plt.plot(ts.index, ts['Indicator Value'], label=\"Historical Data\")\n",
        "plt.plot(forecast_series.index, forecast_series.values, label=\"Forecast\", color=\"red\", marker='o')\n",
        "plt.title(\"Female Employment in agriculture (% of female employment) - European Union\")\n",
        "plt.xlabel(\"Year\")\n",
        "plt.ylabel(\"Growth Rate (%)\")\n",
        "plt.legend()\n",
        "plt.grid()\n",
        "plt.show()"
      ],
      "metadata": {
        "colab": {
          "base_uri": "https://localhost:8080/",
          "height": 207
        },
        "id": "Bn27CGDWs3JS",
        "outputId": "7592ab93-8927-42c4-9c6a-fa589f9edfb3"
      },
      "execution_count": 30,
      "outputs": [
        {
          "output_type": "error",
          "ename": "NameError",
          "evalue": "name 'initial_model_fit' is not defined",
          "traceback": [
            "\u001b[0;31m---------------------------------------------------------------------------\u001b[0m",
            "\u001b[0;31mNameError\u001b[0m                                 Traceback (most recent call last)",
            "\u001b[0;32m<ipython-input-30-ca4f5403d2da>\u001b[0m in \u001b[0;36m<cell line: 0>\u001b[0;34m()\u001b[0m\n\u001b[1;32m      1\u001b[0m \u001b[0;31m# Forecast the next 10 years\u001b[0m\u001b[0;34m\u001b[0m\u001b[0;34m\u001b[0m\u001b[0m\n\u001b[1;32m      2\u001b[0m \u001b[0mforecast_steps\u001b[0m \u001b[0;34m=\u001b[0m \u001b[0;36m10\u001b[0m\u001b[0;34m\u001b[0m\u001b[0;34m\u001b[0m\u001b[0m\n\u001b[0;32m----> 3\u001b[0;31m \u001b[0mforecast\u001b[0m \u001b[0;34m=\u001b[0m \u001b[0minitial_model_fit\u001b[0m\u001b[0;34m.\u001b[0m\u001b[0mforecast\u001b[0m\u001b[0;34m(\u001b[0m\u001b[0msteps\u001b[0m\u001b[0;34m=\u001b[0m\u001b[0mforecast_steps\u001b[0m\u001b[0;34m)\u001b[0m\u001b[0;34m\u001b[0m\u001b[0;34m\u001b[0m\u001b[0m\n\u001b[0m\u001b[1;32m      4\u001b[0m \u001b[0;34m\u001b[0m\u001b[0m\n\u001b[1;32m      5\u001b[0m \u001b[0;31m# Create a forecast index starting from the next available year\u001b[0m\u001b[0;34m\u001b[0m\u001b[0;34m\u001b[0m\u001b[0m\n",
            "\u001b[0;31mNameError\u001b[0m: name 'initial_model_fit' is not defined"
          ]
        }
      ]
    },
    {
      "cell_type": "markdown",
      "source": [
        "### Employment in industry, female (% of female employment) - European Union"
      ],
      "metadata": {
        "id": "LeHIeATps_hs"
      }
    },
    {
      "cell_type": "code",
      "source": [
        "empl_ind_eu = female_indicators[\n",
        "    (female_indicators[\"Country\"] == \"European Union\") &\n",
        "    (female_indicators[\"Indicator Name\"] == \"Employment in industry, female (% of female employment)\")\n",
        "]\n",
        "\n",
        "# Prepare the time series\n",
        "ts = empl_ind_eu[[\"Year\", \"Indicator Value\"]].dropna()\n",
        "ts[\"Year\"] = ts[\"Year\"].astype(int)\n",
        "ts[\"Year\"] = pd.to_datetime(ts[\"Year\"], format='%Y').dt.year\n",
        "ts.set_index(\"Year\", inplace=True)\n",
        "ts.index = pd.RangeIndex(start=ts.index.min(), stop=ts.index.max() + 1, step=1)"
      ],
      "metadata": {
        "id": "eLL70VoOtEyj"
      },
      "execution_count": null,
      "outputs": []
    },
    {
      "cell_type": "code",
      "source": [
        "# Check for stationarity in the data\n",
        "def adf_test(series):\n",
        "    result = adfuller(series)\n",
        "    print('ADF Statistic:', result[0])\n",
        "    print('p-value:', result[1])\n",
        "    for key, value in result[4].items():\n",
        "        print('Critical Value ({}): {:.3f}'.format(key, value))\n",
        "\n",
        "print(\"ADF Test for Original Series:\")\n",
        "adf_test(ts['Indicator Value'])"
      ],
      "metadata": {
        "colab": {
          "base_uri": "https://localhost:8080/",
          "height": 190
        },
        "id": "1QGukpIktOSZ",
        "outputId": "45d992be-c99a-4c5a-a130-b5b0d3444702"
      },
      "execution_count": 31,
      "outputs": [
        {
          "output_type": "stream",
          "name": "stdout",
          "text": [
            "ADF Test for Original Series:\n"
          ]
        },
        {
          "output_type": "error",
          "ename": "NameError",
          "evalue": "name 'ts' is not defined",
          "traceback": [
            "\u001b[0;31m---------------------------------------------------------------------------\u001b[0m",
            "\u001b[0;31mNameError\u001b[0m                                 Traceback (most recent call last)",
            "\u001b[0;32m<ipython-input-31-53a3e33ffd7e>\u001b[0m in \u001b[0;36m<cell line: 0>\u001b[0;34m()\u001b[0m\n\u001b[1;32m      8\u001b[0m \u001b[0;34m\u001b[0m\u001b[0m\n\u001b[1;32m      9\u001b[0m \u001b[0mprint\u001b[0m\u001b[0;34m(\u001b[0m\u001b[0;34m\"ADF Test for Original Series:\"\u001b[0m\u001b[0;34m)\u001b[0m\u001b[0;34m\u001b[0m\u001b[0;34m\u001b[0m\u001b[0m\n\u001b[0;32m---> 10\u001b[0;31m \u001b[0madf_test\u001b[0m\u001b[0;34m(\u001b[0m\u001b[0mts\u001b[0m\u001b[0;34m[\u001b[0m\u001b[0;34m'Indicator Value'\u001b[0m\u001b[0;34m]\u001b[0m\u001b[0;34m)\u001b[0m\u001b[0;34m\u001b[0m\u001b[0;34m\u001b[0m\u001b[0m\n\u001b[0m",
            "\u001b[0;31mNameError\u001b[0m: name 'ts' is not defined"
          ]
        }
      ]
    },
    {
      "cell_type": "code",
      "source": [
        "# Autocorrelation\n",
        "first_year = ts.index.min()\n",
        "last_year = ts.index.max()\n",
        "\n",
        "fig, axes = plt.subplots(3, 2, figsize=(12, 8))\n",
        "\n",
        "# Original Series\n",
        "axes[0, 0].plot(ts.index, ts['Indicator Value'], marker='o')\n",
        "axes[0, 0].set_title('Original Series')\n",
        "axes[0, 0].set_xlim([first_year, last_year])\n",
        "\n",
        "# Autocorrelation for Original Series\n",
        "plot_acf(ts['Indicator Value'].dropna(), ax=axes[0, 1])\n",
        "\n",
        "# 1st Differencing\n",
        "ts_diff = ts['Indicator Value'].diff().dropna()\n",
        "axes[1, 0].plot(ts_diff.index, ts_diff, marker='o')\n",
        "axes[1, 0].set_title('1st Order Differencing')\n",
        "axes[1, 0].set_xlim([first_year, last_year])\n",
        "\n",
        "# Autocorrelation for 1st Differencing\n",
        "plot_acf(ts_diff, ax=axes[1, 1])\n",
        "\n",
        "# 2nd Differencing\n",
        "ts_diff2 = ts_diff.diff().dropna()\n",
        "axes[2, 0].plot(ts_diff2.index, ts_diff2, marker='o')\n",
        "axes[2, 0].set_title('2nd Order Differencing')\n",
        "axes[2, 0].set_xlim([first_year, last_year])\n",
        "\n",
        "# Autocorrelation for 2nd Differencing\n",
        "plot_acf(ts_diff2, ax=axes[2, 1])\n",
        "\n",
        "# Rotate x-axis labels for better readability\n",
        "for ax in axes[:, 0]:\n",
        "    ax.tick_params(axis='x', rotation=45)\n",
        "\n",
        "# Make sure ACF plots do not share x-axis settings with time series plots\n",
        "for ax in axes[:, 1]:\n",
        "    ax.set_xlim(auto=True)  # Let the ACF plots use their own scaling\n",
        "\n",
        "# Adjust layout\n",
        "plt.tight_layout()\n",
        "plt.show()"
      ],
      "metadata": {
        "colab": {
          "base_uri": "https://localhost:8080/",
          "height": 207
        },
        "id": "1i2YtuGAtSAv",
        "outputId": "c1b028bf-4ce3-4afc-a404-02914a61b339"
      },
      "execution_count": 32,
      "outputs": [
        {
          "output_type": "error",
          "ename": "NameError",
          "evalue": "name 'ts' is not defined",
          "traceback": [
            "\u001b[0;31m---------------------------------------------------------------------------\u001b[0m",
            "\u001b[0;31mNameError\u001b[0m                                 Traceback (most recent call last)",
            "\u001b[0;32m<ipython-input-32-3d411d993367>\u001b[0m in \u001b[0;36m<cell line: 0>\u001b[0;34m()\u001b[0m\n\u001b[1;32m      1\u001b[0m \u001b[0;31m# Autocorrelation\u001b[0m\u001b[0;34m\u001b[0m\u001b[0;34m\u001b[0m\u001b[0m\n\u001b[0;32m----> 2\u001b[0;31m \u001b[0mfirst_year\u001b[0m \u001b[0;34m=\u001b[0m \u001b[0mts\u001b[0m\u001b[0;34m.\u001b[0m\u001b[0mindex\u001b[0m\u001b[0;34m.\u001b[0m\u001b[0mmin\u001b[0m\u001b[0;34m(\u001b[0m\u001b[0;34m)\u001b[0m\u001b[0;34m\u001b[0m\u001b[0;34m\u001b[0m\u001b[0m\n\u001b[0m\u001b[1;32m      3\u001b[0m \u001b[0mlast_year\u001b[0m \u001b[0;34m=\u001b[0m \u001b[0mts\u001b[0m\u001b[0;34m.\u001b[0m\u001b[0mindex\u001b[0m\u001b[0;34m.\u001b[0m\u001b[0mmax\u001b[0m\u001b[0;34m(\u001b[0m\u001b[0;34m)\u001b[0m\u001b[0;34m\u001b[0m\u001b[0;34m\u001b[0m\u001b[0m\n\u001b[1;32m      4\u001b[0m \u001b[0;34m\u001b[0m\u001b[0m\n\u001b[1;32m      5\u001b[0m \u001b[0mfig\u001b[0m\u001b[0;34m,\u001b[0m \u001b[0maxes\u001b[0m \u001b[0;34m=\u001b[0m \u001b[0mplt\u001b[0m\u001b[0;34m.\u001b[0m\u001b[0msubplots\u001b[0m\u001b[0;34m(\u001b[0m\u001b[0;36m3\u001b[0m\u001b[0;34m,\u001b[0m \u001b[0;36m2\u001b[0m\u001b[0;34m,\u001b[0m \u001b[0mfigsize\u001b[0m\u001b[0;34m=\u001b[0m\u001b[0;34m(\u001b[0m\u001b[0;36m12\u001b[0m\u001b[0;34m,\u001b[0m \u001b[0;36m8\u001b[0m\u001b[0;34m)\u001b[0m\u001b[0;34m)\u001b[0m\u001b[0;34m\u001b[0m\u001b[0;34m\u001b[0m\u001b[0m\n",
            "\u001b[0;31mNameError\u001b[0m: name 'ts' is not defined"
          ]
        }
      ]
    },
    {
      "cell_type": "code",
      "source": [
        "result = adfuller(ts_diff)\n",
        "print(\"First order of differencing:\")\n",
        "print(f\"ADF Statistic: {result[0]}\")\n",
        "print(f\"p-value: {result[1]}\")\n",
        "for key, value in result[4].items():\n",
        "    print(f\"Critical Value ({key}%): {value:.3f}\")\n",
        "\n",
        "result_2 = adfuller(ts_diff2)\n",
        "print(\"\\nSecond order of differencing:\")\n",
        "print(f\"ADF Statistic: {result_2[0]}\")\n",
        "print(f\"p-value: {result_2[1]}\")\n",
        "for key, value in result_2[4].items():\n",
        "    print(f\"Critical Value ({key}%): {value:.3f}\")"
      ],
      "metadata": {
        "colab": {
          "base_uri": "https://localhost:8080/",
          "height": 207
        },
        "id": "O9AwXRDrtV6L",
        "outputId": "8374a5cf-07be-4f22-ea44-53e0c1e72271"
      },
      "execution_count": 33,
      "outputs": [
        {
          "output_type": "error",
          "ename": "NameError",
          "evalue": "name 'ts_diff' is not defined",
          "traceback": [
            "\u001b[0;31m---------------------------------------------------------------------------\u001b[0m",
            "\u001b[0;31mNameError\u001b[0m                                 Traceback (most recent call last)",
            "\u001b[0;32m<ipython-input-33-a881cab5682a>\u001b[0m in \u001b[0;36m<cell line: 0>\u001b[0;34m()\u001b[0m\n\u001b[0;32m----> 1\u001b[0;31m \u001b[0mresult\u001b[0m \u001b[0;34m=\u001b[0m \u001b[0madfuller\u001b[0m\u001b[0;34m(\u001b[0m\u001b[0mts_diff\u001b[0m\u001b[0;34m)\u001b[0m\u001b[0;34m\u001b[0m\u001b[0;34m\u001b[0m\u001b[0m\n\u001b[0m\u001b[1;32m      2\u001b[0m \u001b[0mprint\u001b[0m\u001b[0;34m(\u001b[0m\u001b[0;34m\"First order of differencing:\"\u001b[0m\u001b[0;34m)\u001b[0m\u001b[0;34m\u001b[0m\u001b[0;34m\u001b[0m\u001b[0m\n\u001b[1;32m      3\u001b[0m \u001b[0mprint\u001b[0m\u001b[0;34m(\u001b[0m\u001b[0;34mf\"ADF Statistic: {result[0]}\"\u001b[0m\u001b[0;34m)\u001b[0m\u001b[0;34m\u001b[0m\u001b[0;34m\u001b[0m\u001b[0m\n\u001b[1;32m      4\u001b[0m \u001b[0mprint\u001b[0m\u001b[0;34m(\u001b[0m\u001b[0;34mf\"p-value: {result[1]}\"\u001b[0m\u001b[0;34m)\u001b[0m\u001b[0;34m\u001b[0m\u001b[0;34m\u001b[0m\u001b[0m\n\u001b[1;32m      5\u001b[0m \u001b[0;32mfor\u001b[0m \u001b[0mkey\u001b[0m\u001b[0;34m,\u001b[0m \u001b[0mvalue\u001b[0m \u001b[0;32min\u001b[0m \u001b[0mresult\u001b[0m\u001b[0;34m[\u001b[0m\u001b[0;36m4\u001b[0m\u001b[0;34m]\u001b[0m\u001b[0;34m.\u001b[0m\u001b[0mitems\u001b[0m\u001b[0;34m(\u001b[0m\u001b[0;34m)\u001b[0m\u001b[0;34m:\u001b[0m\u001b[0;34m\u001b[0m\u001b[0;34m\u001b[0m\u001b[0m\n",
            "\u001b[0;31mNameError\u001b[0m: name 'ts_diff' is not defined"
          ]
        }
      ]
    },
    {
      "cell_type": "markdown",
      "source": [
        "#### AR (p)"
      ],
      "metadata": {
        "id": "a8q1ybrotX7C"
      }
    },
    {
      "cell_type": "code",
      "source": [
        "# Update plot settings for better readability\n",
        "first_year = ts.index.min()\n",
        "last_year = ts.index.max()\n",
        "plt.rcParams.update({'figure.figsize': (9, 3), 'figure.dpi': 120})\n",
        "\n",
        "# Create subplots\n",
        "fig, axes = plt.subplots(1, 2, sharex=False)\n",
        "\n",
        "# 1st Order Differencing\n",
        "axes[0].plot(ts_diff.index, ts_diff, marker='o')\n",
        "axes[0].set_title('1st Differencing')\n",
        "axes[0].set_xlim([first_year, last_year])\n",
        "\n",
        "# PACF Plot for First-Order Differencing\n",
        "axes[1].set(ylim=(-1, 1))\n",
        "plot_pacf(ts_diff, ax=axes[1])\n",
        "\n",
        "plt.show()"
      ],
      "metadata": {
        "colab": {
          "base_uri": "https://localhost:8080/",
          "height": 207
        },
        "id": "F0wOeJEBtZNs",
        "outputId": "de696848-a732-4b26-eb59-f4aa56132102"
      },
      "execution_count": 34,
      "outputs": [
        {
          "output_type": "error",
          "ename": "NameError",
          "evalue": "name 'ts' is not defined",
          "traceback": [
            "\u001b[0;31m---------------------------------------------------------------------------\u001b[0m",
            "\u001b[0;31mNameError\u001b[0m                                 Traceback (most recent call last)",
            "\u001b[0;32m<ipython-input-34-035770078e23>\u001b[0m in \u001b[0;36m<cell line: 0>\u001b[0;34m()\u001b[0m\n\u001b[1;32m      1\u001b[0m \u001b[0;31m# Update plot settings for better readability\u001b[0m\u001b[0;34m\u001b[0m\u001b[0;34m\u001b[0m\u001b[0m\n\u001b[0;32m----> 2\u001b[0;31m \u001b[0mfirst_year\u001b[0m \u001b[0;34m=\u001b[0m \u001b[0mts\u001b[0m\u001b[0;34m.\u001b[0m\u001b[0mindex\u001b[0m\u001b[0;34m.\u001b[0m\u001b[0mmin\u001b[0m\u001b[0;34m(\u001b[0m\u001b[0;34m)\u001b[0m\u001b[0;34m\u001b[0m\u001b[0;34m\u001b[0m\u001b[0m\n\u001b[0m\u001b[1;32m      3\u001b[0m \u001b[0mlast_year\u001b[0m \u001b[0;34m=\u001b[0m \u001b[0mts\u001b[0m\u001b[0;34m.\u001b[0m\u001b[0mindex\u001b[0m\u001b[0;34m.\u001b[0m\u001b[0mmax\u001b[0m\u001b[0;34m(\u001b[0m\u001b[0;34m)\u001b[0m\u001b[0;34m\u001b[0m\u001b[0;34m\u001b[0m\u001b[0m\n\u001b[1;32m      4\u001b[0m \u001b[0mplt\u001b[0m\u001b[0;34m.\u001b[0m\u001b[0mrcParams\u001b[0m\u001b[0;34m.\u001b[0m\u001b[0mupdate\u001b[0m\u001b[0;34m(\u001b[0m\u001b[0;34m{\u001b[0m\u001b[0;34m'figure.figsize'\u001b[0m\u001b[0;34m:\u001b[0m \u001b[0;34m(\u001b[0m\u001b[0;36m9\u001b[0m\u001b[0;34m,\u001b[0m \u001b[0;36m3\u001b[0m\u001b[0;34m)\u001b[0m\u001b[0;34m,\u001b[0m \u001b[0;34m'figure.dpi'\u001b[0m\u001b[0;34m:\u001b[0m \u001b[0;36m120\u001b[0m\u001b[0;34m}\u001b[0m\u001b[0;34m)\u001b[0m\u001b[0;34m\u001b[0m\u001b[0;34m\u001b[0m\u001b[0m\n\u001b[1;32m      5\u001b[0m \u001b[0;34m\u001b[0m\u001b[0m\n",
            "\u001b[0;31mNameError\u001b[0m: name 'ts' is not defined"
          ]
        }
      ]
    },
    {
      "cell_type": "markdown",
      "source": [
        "#### MA (q)"
      ],
      "metadata": {
        "id": "lptAq3AVtcU8"
      }
    },
    {
      "cell_type": "code",
      "source": [
        "# Update plot settings for better readability\n",
        "plt.rcParams.update({'figure.figsize': (9, 3), 'figure.dpi': 120})\n",
        "\n",
        "# Create subplots\n",
        "fig, axes = plt.subplots(1, 2, sharex=False)\n",
        "\n",
        "# 1st Order Differencing\n",
        "axes[0].plot(ts_diff.index, ts_diff, marker='o')\n",
        "axes[0].set_title('1st Differencing')\n",
        "axes[0].set_xlim([first_year, last_year])\n",
        "\n",
        "# ACF Plot for First-Order Differencing\n",
        "axes[1].set(ylim=(-1, 1))\n",
        "plot_acf(ts_diff, ax=axes[1])\n",
        "plt.show()"
      ],
      "metadata": {
        "colab": {
          "base_uri": "https://localhost:8080/",
          "height": 544
        },
        "id": "Py6U_u4AtcEf",
        "outputId": "60a680f7-4f31-4dee-e130-6b28f7b2bf7b"
      },
      "execution_count": 35,
      "outputs": [
        {
          "output_type": "error",
          "ename": "NameError",
          "evalue": "name 'ts_diff' is not defined",
          "traceback": [
            "\u001b[0;31m---------------------------------------------------------------------------\u001b[0m",
            "\u001b[0;31mNameError\u001b[0m                                 Traceback (most recent call last)",
            "\u001b[0;32m<ipython-input-35-08f808a0f39d>\u001b[0m in \u001b[0;36m<cell line: 0>\u001b[0;34m()\u001b[0m\n\u001b[1;32m      6\u001b[0m \u001b[0;34m\u001b[0m\u001b[0m\n\u001b[1;32m      7\u001b[0m \u001b[0;31m# 1st Order Differencing\u001b[0m\u001b[0;34m\u001b[0m\u001b[0;34m\u001b[0m\u001b[0m\n\u001b[0;32m----> 8\u001b[0;31m \u001b[0maxes\u001b[0m\u001b[0;34m[\u001b[0m\u001b[0;36m0\u001b[0m\u001b[0;34m]\u001b[0m\u001b[0;34m.\u001b[0m\u001b[0mplot\u001b[0m\u001b[0;34m(\u001b[0m\u001b[0mts_diff\u001b[0m\u001b[0;34m.\u001b[0m\u001b[0mindex\u001b[0m\u001b[0;34m,\u001b[0m \u001b[0mts_diff\u001b[0m\u001b[0;34m,\u001b[0m \u001b[0mmarker\u001b[0m\u001b[0;34m=\u001b[0m\u001b[0;34m'o'\u001b[0m\u001b[0;34m)\u001b[0m\u001b[0;34m\u001b[0m\u001b[0;34m\u001b[0m\u001b[0m\n\u001b[0m\u001b[1;32m      9\u001b[0m \u001b[0maxes\u001b[0m\u001b[0;34m[\u001b[0m\u001b[0;36m0\u001b[0m\u001b[0;34m]\u001b[0m\u001b[0;34m.\u001b[0m\u001b[0mset_title\u001b[0m\u001b[0;34m(\u001b[0m\u001b[0;34m'1st Differencing'\u001b[0m\u001b[0;34m)\u001b[0m\u001b[0;34m\u001b[0m\u001b[0;34m\u001b[0m\u001b[0m\n\u001b[1;32m     10\u001b[0m \u001b[0maxes\u001b[0m\u001b[0;34m[\u001b[0m\u001b[0;36m0\u001b[0m\u001b[0;34m]\u001b[0m\u001b[0;34m.\u001b[0m\u001b[0mset_xlim\u001b[0m\u001b[0;34m(\u001b[0m\u001b[0;34m[\u001b[0m\u001b[0mfirst_year\u001b[0m\u001b[0;34m,\u001b[0m \u001b[0mlast_year\u001b[0m\u001b[0;34m]\u001b[0m\u001b[0;34m)\u001b[0m\u001b[0;34m\u001b[0m\u001b[0;34m\u001b[0m\u001b[0m\n",
            "\u001b[0;31mNameError\u001b[0m: name 'ts_diff' is not defined"
          ]
        },
        {
          "output_type": "display_data",
          "data": {
            "text/plain": [
              "<Figure size 1080x360 with 2 Axes>"
            ],
            "image/png": "[encoded data removed]"
          },
          "metadata": {}
        }
      ]
    },
    {
      "cell_type": "markdown",
      "source": [
        "#### Building the ARIMA model ARIMA(p,d,q)"
      ],
      "metadata": {
        "id": "sD_YptH-thJj"
      }
    },
    {
      "cell_type": "code",
      "source": [
        "# Define train-test split size\n",
        "split_ratio = 0.8\n",
        "split_index = int(len(ts) * split_ratio)\n",
        "\n",
        "# Split into training and test sets\n",
        "train, test = ts.iloc[:split_index], ts.iloc[split_index:]\n",
        "\n",
        "initial_model = ARIMA(ts['Indicator Value'], order=(1,1,1))\n",
        "initial_model_fit = initial_model.fit()\n",
        "print(\"Initial Model Summary:\")\n",
        "print(initial_model_fit.summary())\n",
        "\n",
        "simple_model = ARIMA(ts['Indicator Value'], order=(1,1,0))\n",
        "simple_model_fit = simple_model.fit()\n",
        "print(\"\\nSimpler Model Summary:\")\n",
        "print(simple_model_fit.summary())"
      ],
      "metadata": {
        "id": "OIiWCpOCtg6G"
      },
      "execution_count": null,
      "outputs": []
    },
    {
      "cell_type": "code",
      "source": [
        "# Forecast the same length as the test set\n",
        "initial_test_forecast = initial_model_fit.forecast(steps=len(test))\n",
        "\n",
        "# Evaluate predictions\n",
        "mae = mean_absolute_error(test['Indicator Value'], initial_test_forecast)\n",
        "mse = mean_squared_error(test['Indicator Value'], initial_test_forecast)\n",
        "rmse = mse ** 0.5\n",
        "\n",
        "# Print evaluation metrics\n",
        "print(\"Initial Model Statistics\")\n",
        "print(f\"Mean Absolute Error (MAE): {mae:.4f}\")\n",
        "print(f\"Root Mean Squared Error (RMSE): {rmse:.4f}\")\n",
        "\n",
        "# Forecast the same length as the test set\n",
        "simple_test_forecast = simple_model_fit.forecast(steps=len(test))\n",
        "\n",
        "# Evaluate predictions\n",
        "mae = mean_absolute_error(test['Indicator Value'], simple_test_forecast)\n",
        "mse = mean_squared_error(test['Indicator Value'], simple_test_forecast)\n",
        "rmse = mse ** 0.5\n",
        "\n",
        "# Print evaluation metrics\n",
        "print(\"\\nSimple Model Statistics\")\n",
        "print(f\"Mean Absolute Error (MAE): {mae:.4f}\")\n",
        "print(f\"Root Mean Squared Error (RMSE): {rmse:.4f}\")"
      ],
      "metadata": {
        "id": "6O9dQ3yFty5r"
      },
      "execution_count": null,
      "outputs": []
    },
    {
      "cell_type": "code",
      "source": [
        "residuals = initial_model_fit.resid\n",
        "plt.plot(residuals)\n",
        "plt.title(\"Residuals Over Time\")\n",
        "plt.axhline(y=0, color='black', linestyle='dashed')\n",
        "plt.show()"
      ],
      "metadata": {
        "id": "HsSppacvt3xi"
      },
      "execution_count": null,
      "outputs": []
    },
    {
      "cell_type": "code",
      "source": [
        "# Forecast the next 10 years\n",
        "forecast_steps = 10\n",
        "forecast = initial_model_fit.forecast(steps=forecast_steps)\n",
        "\n",
        "# Create a forecast index starting from the next available year\n",
        "forecast_index = list(range(ts.index[-1] + 1, ts.index[-1] + 1 + forecast_steps))\n",
        "\n",
        "# Convert to Series for plotting\n",
        "forecast_series = pd.Series(forecast.values, index=forecast_index)\n",
        "\n",
        "# Plot historical data and forecasted values\n",
        "plt.figure(figsize=(10, 5))\n",
        "plt.plot(ts.index, ts['Indicator Value'], label=\"Historical Data\")\n",
        "plt.plot(forecast_series.index, forecast_series.values, label=\"Forecast\", color=\"red\", marker='o')\n",
        "plt.title(\"Female Employment in industry (% of female employment) - European Union\")\n",
        "plt.xlabel(\"Year\")\n",
        "plt.ylabel(\"Growth Rate (%)\")\n",
        "plt.legend()\n",
        "plt.grid()\n",
        "plt.show()"
      ],
      "metadata": {
        "colab": {
          "base_uri": "https://localhost:8080/",
          "height": 207
        },
        "id": "syE5zs4NuB2W",
        "outputId": "b408bcab-fd76-49dc-9270-52f92182348d"
      },
      "execution_count": 36,
      "outputs": [
        {
          "output_type": "error",
          "ename": "NameError",
          "evalue": "name 'initial_model_fit' is not defined",
          "traceback": [
            "\u001b[0;31m---------------------------------------------------------------------------\u001b[0m",
            "\u001b[0;31mNameError\u001b[0m                                 Traceback (most recent call last)",
            "\u001b[0;32m<ipython-input-36-147fc954aaf1>\u001b[0m in \u001b[0;36m<cell line: 0>\u001b[0;34m()\u001b[0m\n\u001b[1;32m      1\u001b[0m \u001b[0;31m# Forecast the next 10 years\u001b[0m\u001b[0;34m\u001b[0m\u001b[0;34m\u001b[0m\u001b[0m\n\u001b[1;32m      2\u001b[0m \u001b[0mforecast_steps\u001b[0m \u001b[0;34m=\u001b[0m \u001b[0;36m10\u001b[0m\u001b[0;34m\u001b[0m\u001b[0;34m\u001b[0m\u001b[0m\n\u001b[0;32m----> 3\u001b[0;31m \u001b[0mforecast\u001b[0m \u001b[0;34m=\u001b[0m \u001b[0minitial_model_fit\u001b[0m\u001b[0;34m.\u001b[0m\u001b[0mforecast\u001b[0m\u001b[0;34m(\u001b[0m\u001b[0msteps\u001b[0m\u001b[0;34m=\u001b[0m\u001b[0mforecast_steps\u001b[0m\u001b[0;34m)\u001b[0m\u001b[0;34m\u001b[0m\u001b[0;34m\u001b[0m\u001b[0m\n\u001b[0m\u001b[1;32m      4\u001b[0m \u001b[0;34m\u001b[0m\u001b[0m\n\u001b[1;32m      5\u001b[0m \u001b[0;31m# Create a forecast index starting from the next available year\u001b[0m\u001b[0;34m\u001b[0m\u001b[0;34m\u001b[0m\u001b[0m\n",
            "\u001b[0;31mNameError\u001b[0m: name 'initial_model_fit' is not defined"
          ]
        }
      ]
    },
    {
      "cell_type": "markdown",
      "source": [
        "### Employment in services, female (% of female employment) - European Union"
      ],
      "metadata": {
        "id": "mKgebrrzuLWA"
      }
    },
    {
      "cell_type": "code",
      "source": [
        "empl_serv_eu = female_indicators[\n",
        "    (female_indicators[\"Country\"] == \"European Union\") &\n",
        "    (female_indicators[\"Indicator Name\"] == \"Employment in services, female (% of female employment)\")\n",
        "]\n",
        "\n",
        "# Prepare the time series\n",
        "ts = empl_serv_eu[[\"Year\", \"Indicator Value\"]].dropna()\n",
        "ts[\"Year\"] = ts[\"Year\"].astype(int)\n",
        "ts[\"Year\"] = pd.to_datetime(ts[\"Year\"], format='%Y').dt.year\n",
        "ts.set_index(\"Year\", inplace=True)\n",
        "ts.index = pd.RangeIndex(start=ts.index.min(), stop=ts.index.max() + 1, step=1)"
      ],
      "metadata": {
        "id": "0nBFAEjpuPVa"
      },
      "execution_count": null,
      "outputs": []
    },
    {
      "cell_type": "code",
      "source": [
        "# Check for stationarity in the data\n",
        "def adf_test(series):\n",
        "    result = adfuller(series)\n",
        "    print('ADF Statistic:', result[0])\n",
        "    print('p-value:', result[1])\n",
        "    for key, value in result[4].items():\n",
        "        print('Critical Value ({}): {:.3f}'.format(key, value))\n",
        "\n",
        "print(\"ADF Test for Original Series:\")\n",
        "adf_test(ts['Indicator Value'])"
      ],
      "metadata": {
        "colab": {
          "base_uri": "https://localhost:8080/",
          "height": 190
        },
        "id": "7ouFRXxBuXSj",
        "outputId": "0974ebfe-ff9e-410c-ce6b-5044119933c6"
      },
      "execution_count": 37,
      "outputs": [
        {
          "output_type": "stream",
          "name": "stdout",
          "text": [
            "ADF Test for Original Series:\n"
          ]
        },
        {
          "output_type": "error",
          "ename": "NameError",
          "evalue": "name 'ts' is not defined",
          "traceback": [
            "\u001b[0;31m---------------------------------------------------------------------------\u001b[0m",
            "\u001b[0;31mNameError\u001b[0m                                 Traceback (most recent call last)",
            "\u001b[0;32m<ipython-input-37-53a3e33ffd7e>\u001b[0m in \u001b[0;36m<cell line: 0>\u001b[0;34m()\u001b[0m\n\u001b[1;32m      8\u001b[0m \u001b[0;34m\u001b[0m\u001b[0m\n\u001b[1;32m      9\u001b[0m \u001b[0mprint\u001b[0m\u001b[0;34m(\u001b[0m\u001b[0;34m\"ADF Test for Original Series:\"\u001b[0m\u001b[0;34m)\u001b[0m\u001b[0;34m\u001b[0m\u001b[0;34m\u001b[0m\u001b[0m\n\u001b[0;32m---> 10\u001b[0;31m \u001b[0madf_test\u001b[0m\u001b[0;34m(\u001b[0m\u001b[0mts\u001b[0m\u001b[0;34m[\u001b[0m\u001b[0;34m'Indicator Value'\u001b[0m\u001b[0;34m]\u001b[0m\u001b[0;34m)\u001b[0m\u001b[0;34m\u001b[0m\u001b[0;34m\u001b[0m\u001b[0m\n\u001b[0m",
            "\u001b[0;31mNameError\u001b[0m: name 'ts' is not defined"
          ]
        }
      ]
    },
    {
      "cell_type": "code",
      "source": [
        "# Autocorrelation\n",
        "first_year = ts.index.min()\n",
        "last_year = ts.index.max()\n",
        "\n",
        "fig, axes = plt.subplots(3, 2, figsize=(12, 8))\n",
        "\n",
        "# Original Series\n",
        "axes[0, 0].plot(ts.index, ts['Indicator Value'], marker='o')\n",
        "axes[0, 0].set_title('Original Series')\n",
        "axes[0, 0].set_xlim([first_year, last_year])\n",
        "\n",
        "# Autocorrelation for Original Series\n",
        "plot_acf(ts['Indicator Value'].dropna(), ax=axes[0, 1])\n",
        "\n",
        "# 1st Differencing\n",
        "ts_diff = ts['Indicator Value'].diff().dropna()\n",
        "axes[1, 0].plot(ts_diff.index, ts_diff, marker='o')\n",
        "axes[1, 0].set_title('1st Order Differencing')\n",
        "axes[1, 0].set_xlim([first_year, last_year])\n",
        "\n",
        "# Autocorrelation for 1st Differencing\n",
        "plot_acf(ts_diff, ax=axes[1, 1])\n",
        "\n",
        "# 2nd Differencing\n",
        "ts_diff2 = ts_diff.diff().dropna()\n",
        "axes[2, 0].plot(ts_diff2.index, ts_diff2, marker='o')\n",
        "axes[2, 0].set_title('2nd Order Differencing')\n",
        "axes[2, 0].set_xlim([first_year, last_year])\n",
        "\n",
        "# Autocorrelation for 2nd Differencing\n",
        "plot_acf(ts_diff2, ax=axes[2, 1])\n",
        "\n",
        "# Rotate x-axis labels for better readability\n",
        "for ax in axes[:, 0]:\n",
        "    ax.tick_params(axis='x', rotation=45)\n",
        "\n",
        "# Make sure ACF plots do not share x-axis settings with time series plots\n",
        "for ax in axes[:, 1]:\n",
        "    ax.set_xlim(auto=True)  # Let the ACF plots use their own scaling\n",
        "\n",
        "# Adjust layout\n",
        "plt.tight_layout()\n",
        "plt.show()"
      ],
      "metadata": {
        "colab": {
          "base_uri": "https://localhost:8080/",
          "height": 207
        },
        "id": "HRwxL7X5ucdA",
        "outputId": "9814e363-166e-4264-86cb-876efd2e8d0b"
      },
      "execution_count": 38,
      "outputs": [
        {
          "output_type": "error",
          "ename": "NameError",
          "evalue": "name 'ts' is not defined",
          "traceback": [
            "\u001b[0;31m---------------------------------------------------------------------------\u001b[0m",
            "\u001b[0;31mNameError\u001b[0m                                 Traceback (most recent call last)",
            "\u001b[0;32m<ipython-input-38-3d411d993367>\u001b[0m in \u001b[0;36m<cell line: 0>\u001b[0;34m()\u001b[0m\n\u001b[1;32m      1\u001b[0m \u001b[0;31m# Autocorrelation\u001b[0m\u001b[0;34m\u001b[0m\u001b[0;34m\u001b[0m\u001b[0m\n\u001b[0;32m----> 2\u001b[0;31m \u001b[0mfirst_year\u001b[0m \u001b[0;34m=\u001b[0m \u001b[0mts\u001b[0m\u001b[0;34m.\u001b[0m\u001b[0mindex\u001b[0m\u001b[0;34m.\u001b[0m\u001b[0mmin\u001b[0m\u001b[0;34m(\u001b[0m\u001b[0;34m)\u001b[0m\u001b[0;34m\u001b[0m\u001b[0;34m\u001b[0m\u001b[0m\n\u001b[0m\u001b[1;32m      3\u001b[0m \u001b[0mlast_year\u001b[0m \u001b[0;34m=\u001b[0m \u001b[0mts\u001b[0m\u001b[0;34m.\u001b[0m\u001b[0mindex\u001b[0m\u001b[0;34m.\u001b[0m\u001b[0mmax\u001b[0m\u001b[0;34m(\u001b[0m\u001b[0;34m)\u001b[0m\u001b[0;34m\u001b[0m\u001b[0;34m\u001b[0m\u001b[0m\n\u001b[1;32m      4\u001b[0m \u001b[0;34m\u001b[0m\u001b[0m\n\u001b[1;32m      5\u001b[0m \u001b[0mfig\u001b[0m\u001b[0;34m,\u001b[0m \u001b[0maxes\u001b[0m \u001b[0;34m=\u001b[0m \u001b[0mplt\u001b[0m\u001b[0;34m.\u001b[0m\u001b[0msubplots\u001b[0m\u001b[0;34m(\u001b[0m\u001b[0;36m3\u001b[0m\u001b[0;34m,\u001b[0m \u001b[0;36m2\u001b[0m\u001b[0;34m,\u001b[0m \u001b[0mfigsize\u001b[0m\u001b[0;34m=\u001b[0m\u001b[0;34m(\u001b[0m\u001b[0;36m12\u001b[0m\u001b[0;34m,\u001b[0m \u001b[0;36m8\u001b[0m\u001b[0;34m)\u001b[0m\u001b[0;34m)\u001b[0m\u001b[0;34m\u001b[0m\u001b[0;34m\u001b[0m\u001b[0m\n",
            "\u001b[0;31mNameError\u001b[0m: name 'ts' is not defined"
          ]
        }
      ]
    },
    {
      "cell_type": "code",
      "source": [
        "result = adfuller(ts_diff)\n",
        "print(\"First order of differencing:\")\n",
        "print(f\"ADF Statistic: {result[0]}\")\n",
        "print(f\"p-value: {result[1]}\")\n",
        "for key, value in result[4].items():\n",
        "    print(f\"Critical Value ({key}%): {value:.3f}\")\n",
        "\n",
        "result_2 = adfuller(ts_diff2)\n",
        "print(\"\\nSecond order of differencing:\")\n",
        "print(f\"ADF Statistic: {result_2[0]}\")\n",
        "print(f\"p-value: {result_2[1]}\")\n",
        "for key, value in result_2[4].items():\n",
        "    print(f\"Critical Value ({key}%): {value:.3f}\")"
      ],
      "metadata": {
        "colab": {
          "base_uri": "https://localhost:8080/",
          "height": 207
        },
        "id": "_nwh9xe9u3Bx",
        "outputId": "e56e4bd2-f8c1-48aa-bf2c-3a886be97771"
      },
      "execution_count": 39,
      "outputs": [
        {
          "output_type": "error",
          "ename": "NameError",
          "evalue": "name 'ts_diff' is not defined",
          "traceback": [
            "\u001b[0;31m---------------------------------------------------------------------------\u001b[0m",
            "\u001b[0;31mNameError\u001b[0m                                 Traceback (most recent call last)",
            "\u001b[0;32m<ipython-input-39-a881cab5682a>\u001b[0m in \u001b[0;36m<cell line: 0>\u001b[0;34m()\u001b[0m\n\u001b[0;32m----> 1\u001b[0;31m \u001b[0mresult\u001b[0m \u001b[0;34m=\u001b[0m \u001b[0madfuller\u001b[0m\u001b[0;34m(\u001b[0m\u001b[0mts_diff\u001b[0m\u001b[0;34m)\u001b[0m\u001b[0;34m\u001b[0m\u001b[0;34m\u001b[0m\u001b[0m\n\u001b[0m\u001b[1;32m      2\u001b[0m \u001b[0mprint\u001b[0m\u001b[0;34m(\u001b[0m\u001b[0;34m\"First order of differencing:\"\u001b[0m\u001b[0;34m)\u001b[0m\u001b[0;34m\u001b[0m\u001b[0;34m\u001b[0m\u001b[0m\n\u001b[1;32m      3\u001b[0m \u001b[0mprint\u001b[0m\u001b[0;34m(\u001b[0m\u001b[0;34mf\"ADF Statistic: {result[0]}\"\u001b[0m\u001b[0;34m)\u001b[0m\u001b[0;34m\u001b[0m\u001b[0;34m\u001b[0m\u001b[0m\n\u001b[1;32m      4\u001b[0m \u001b[0mprint\u001b[0m\u001b[0;34m(\u001b[0m\u001b[0;34mf\"p-value: {result[1]}\"\u001b[0m\u001b[0;34m)\u001b[0m\u001b[0;34m\u001b[0m\u001b[0;34m\u001b[0m\u001b[0m\n\u001b[1;32m      5\u001b[0m \u001b[0;32mfor\u001b[0m \u001b[0mkey\u001b[0m\u001b[0;34m,\u001b[0m \u001b[0mvalue\u001b[0m \u001b[0;32min\u001b[0m \u001b[0mresult\u001b[0m\u001b[0;34m[\u001b[0m\u001b[0;36m4\u001b[0m\u001b[0;34m]\u001b[0m\u001b[0;34m.\u001b[0m\u001b[0mitems\u001b[0m\u001b[0;34m(\u001b[0m\u001b[0;34m)\u001b[0m\u001b[0;34m:\u001b[0m\u001b[0;34m\u001b[0m\u001b[0;34m\u001b[0m\u001b[0m\n",
            "\u001b[0;31mNameError\u001b[0m: name 'ts_diff' is not defined"
          ]
        }
      ]
    },
    {
      "cell_type": "markdown",
      "source": [
        "#### AR (p)"
      ],
      "metadata": {
        "id": "LJxLrCzyu4_3"
      }
    },
    {
      "cell_type": "code",
      "source": [
        "# Update plot settings for better readability\n",
        "first_year = ts.index.min()\n",
        "last_year = ts.index.max()\n",
        "plt.rcParams.update({'figure.figsize': (9, 3), 'figure.dpi': 120})\n",
        "\n",
        "# Create subplots\n",
        "fig, axes = plt.subplots(1, 2, sharex=False)\n",
        "\n",
        "# 1st Order Differencing\n",
        "axes[0].plot(ts_diff.index, ts_diff, marker='o')\n",
        "axes[0].set_title('1st Differencing')\n",
        "axes[0].set_xlim([first_year, last_year])\n",
        "\n",
        "# PACF Plot for First-Order Differencing\n",
        "axes[1].set(ylim=(-1, 1))\n",
        "plot_pacf(ts_diff, ax=axes[1])\n",
        "\n",
        "plt.show()"
      ],
      "metadata": {
        "colab": {
          "base_uri": "https://localhost:8080/",
          "height": 207
        },
        "id": "idezGDaau6ju",
        "outputId": "1909a7e2-93ea-42e5-927c-c3ed2705c752"
      },
      "execution_count": 40,
      "outputs": [
        {
          "output_type": "error",
          "ename": "NameError",
          "evalue": "name 'ts' is not defined",
          "traceback": [
            "\u001b[0;31m---------------------------------------------------------------------------\u001b[0m",
            "\u001b[0;31mNameError\u001b[0m                                 Traceback (most recent call last)",
            "\u001b[0;32m<ipython-input-40-035770078e23>\u001b[0m in \u001b[0;36m<cell line: 0>\u001b[0;34m()\u001b[0m\n\u001b[1;32m      1\u001b[0m \u001b[0;31m# Update plot settings for better readability\u001b[0m\u001b[0;34m\u001b[0m\u001b[0;34m\u001b[0m\u001b[0m\n\u001b[0;32m----> 2\u001b[0;31m \u001b[0mfirst_year\u001b[0m \u001b[0;34m=\u001b[0m \u001b[0mts\u001b[0m\u001b[0;34m.\u001b[0m\u001b[0mindex\u001b[0m\u001b[0;34m.\u001b[0m\u001b[0mmin\u001b[0m\u001b[0;34m(\u001b[0m\u001b[0;34m)\u001b[0m\u001b[0;34m\u001b[0m\u001b[0;34m\u001b[0m\u001b[0m\n\u001b[0m\u001b[1;32m      3\u001b[0m \u001b[0mlast_year\u001b[0m \u001b[0;34m=\u001b[0m \u001b[0mts\u001b[0m\u001b[0;34m.\u001b[0m\u001b[0mindex\u001b[0m\u001b[0;34m.\u001b[0m\u001b[0mmax\u001b[0m\u001b[0;34m(\u001b[0m\u001b[0;34m)\u001b[0m\u001b[0;34m\u001b[0m\u001b[0;34m\u001b[0m\u001b[0m\n\u001b[1;32m      4\u001b[0m \u001b[0mplt\u001b[0m\u001b[0;34m.\u001b[0m\u001b[0mrcParams\u001b[0m\u001b[0;34m.\u001b[0m\u001b[0mupdate\u001b[0m\u001b[0;34m(\u001b[0m\u001b[0;34m{\u001b[0m\u001b[0;34m'figure.figsize'\u001b[0m\u001b[0;34m:\u001b[0m \u001b[0;34m(\u001b[0m\u001b[0;36m9\u001b[0m\u001b[0;34m,\u001b[0m \u001b[0;36m3\u001b[0m\u001b[0;34m)\u001b[0m\u001b[0;34m,\u001b[0m \u001b[0;34m'figure.dpi'\u001b[0m\u001b[0;34m:\u001b[0m \u001b[0;36m120\u001b[0m\u001b[0;34m}\u001b[0m\u001b[0;34m)\u001b[0m\u001b[0;34m\u001b[0m\u001b[0;34m\u001b[0m\u001b[0m\n\u001b[1;32m      5\u001b[0m \u001b[0;34m\u001b[0m\u001b[0m\n",
            "\u001b[0;31mNameError\u001b[0m: name 'ts' is not defined"
          ]
        }
      ]
    },
    {
      "cell_type": "markdown",
      "source": [
        "#### MA (q)"
      ],
      "metadata": {
        "id": "XANjusybu_iU"
      }
    },
    {
      "cell_type": "code",
      "source": [
        "# Update plot settings for better readability\n",
        "plt.rcParams.update({'figure.figsize': (9, 3), 'figure.dpi': 120})\n",
        "\n",
        "# Create subplots\n",
        "fig, axes = plt.subplots(1, 2, sharex=False)\n",
        "\n",
        "# 1st Order Differencing\n",
        "axes[0].plot(ts_diff.index, ts_diff, marker='o')\n",
        "axes[0].set_title('1st Differencing')\n",
        "axes[0].set_xlim([first_year, last_year])\n",
        "\n",
        "# ACF Plot for First-Order Differencing\n",
        "axes[1].set(ylim=(-1, 1))\n",
        "plot_acf(ts_diff, ax=axes[1])\n",
        "plt.show()"
      ],
      "metadata": {
        "colab": {
          "base_uri": "https://localhost:8080/",
          "height": 544
        },
        "id": "_dyhdEVwu_9C",
        "outputId": "63b948a2-0378-46aa-e825-f9d4f9ba3797"
      },
      "execution_count": 41,
      "outputs": [
        {
          "output_type": "error",
          "ename": "NameError",
          "evalue": "name 'ts_diff' is not defined",
          "traceback": [
            "\u001b[0;31m---------------------------------------------------------------------------\u001b[0m",
            "\u001b[0;31mNameError\u001b[0m                                 Traceback (most recent call last)",
            "\u001b[0;32m<ipython-input-41-08f808a0f39d>\u001b[0m in \u001b[0;36m<cell line: 0>\u001b[0;34m()\u001b[0m\n\u001b[1;32m      6\u001b[0m \u001b[0;34m\u001b[0m\u001b[0m\n\u001b[1;32m      7\u001b[0m \u001b[0;31m# 1st Order Differencing\u001b[0m\u001b[0;34m\u001b[0m\u001b[0;34m\u001b[0m\u001b[0m\n\u001b[0;32m----> 8\u001b[0;31m \u001b[0maxes\u001b[0m\u001b[0;34m[\u001b[0m\u001b[0;36m0\u001b[0m\u001b[0;34m]\u001b[0m\u001b[0;34m.\u001b[0m\u001b[0mplot\u001b[0m\u001b[0;34m(\u001b[0m\u001b[0mts_diff\u001b[0m\u001b[0;34m.\u001b[0m\u001b[0mindex\u001b[0m\u001b[0;34m,\u001b[0m \u001b[0mts_diff\u001b[0m\u001b[0;34m,\u001b[0m \u001b[0mmarker\u001b[0m\u001b[0;34m=\u001b[0m\u001b[0;34m'o'\u001b[0m\u001b[0;34m)\u001b[0m\u001b[0;34m\u001b[0m\u001b[0;34m\u001b[0m\u001b[0m\n\u001b[0m\u001b[1;32m      9\u001b[0m \u001b[0maxes\u001b[0m\u001b[0;34m[\u001b[0m\u001b[0;36m0\u001b[0m\u001b[0;34m]\u001b[0m\u001b[0;34m.\u001b[0m\u001b[0mset_title\u001b[0m\u001b[0;34m(\u001b[0m\u001b[0;34m'1st Differencing'\u001b[0m\u001b[0;34m)\u001b[0m\u001b[0;34m\u001b[0m\u001b[0;34m\u001b[0m\u001b[0m\n\u001b[1;32m     10\u001b[0m \u001b[0maxes\u001b[0m\u001b[0;34m[\u001b[0m\u001b[0;36m0\u001b[0m\u001b[0;34m]\u001b[0m\u001b[0;34m.\u001b[0m\u001b[0mset_xlim\u001b[0m\u001b[0;34m(\u001b[0m\u001b[0;34m[\u001b[0m\u001b[0mfirst_year\u001b[0m\u001b[0;34m,\u001b[0m \u001b[0mlast_year\u001b[0m\u001b[0;34m]\u001b[0m\u001b[0;34m)\u001b[0m\u001b[0;34m\u001b[0m\u001b[0;34m\u001b[0m\u001b[0m\n",
            "\u001b[0;31mNameError\u001b[0m: name 'ts_diff' is not defined"
          ]
        },
        {
          "output_type": "display_data",
          "data": {
            "text/plain": [
              "<Figure size 1080x360 with 2 Axes>"
            ],
            "image/png": "[encoded data removed]"
          },
          "metadata": {}
        }
      ]
    },
    {
      "cell_type": "markdown",
      "source": [
        "#### Building the ARIMA model ARIMA(p,d,q)"
      ],
      "metadata": {
        "id": "vJbVBK9avE8x"
      }
    },
    {
      "cell_type": "code",
      "source": [
        "# Define train-test split size\n",
        "split_ratio = 0.8\n",
        "split_index = int(len(ts) * split_ratio)\n",
        "\n",
        "# Split into training and test sets\n",
        "train, test = ts.iloc[:split_index], ts.iloc[split_index:]\n",
        "\n",
        "initial_model = ARIMA(ts['Indicator Value'], order=(1,2,1))\n",
        "initial_model_fit = initial_model.fit()\n",
        "print(\"Initial Model Summary:\")\n",
        "print(initial_model_fit.summary())\n",
        "\n",
        "simple_model = ARIMA(ts['Indicator Value'], order=(1,1,1))\n",
        "simple_model_fit = simple_model.fit()\n",
        "print(\"\\nSimpler Model Summary:\")\n",
        "print(simple_model_fit.summary())"
      ],
      "metadata": {
        "id": "WKdrOM5FvFjq"
      },
      "execution_count": null,
      "outputs": []
    },
    {
      "cell_type": "code",
      "source": [
        "# Forecast the same length as the test set\n",
        "initial_test_forecast = initial_model_fit.forecast(steps=len(test))\n",
        "\n",
        "# Evaluate predictions\n",
        "mae = mean_absolute_error(test['Indicator Value'], initial_test_forecast)\n",
        "mse = mean_squared_error(test['Indicator Value'], initial_test_forecast)\n",
        "rmse = mse ** 0.5\n",
        "\n",
        "# Print evaluation metrics\n",
        "print(\"Initial Model Statistics\")\n",
        "print(f\"Mean Absolute Error (MAE): {mae:.4f}\")\n",
        "print(f\"Root Mean Squared Error (RMSE): {rmse:.4f}\")\n",
        "\n",
        "# Forecast the same length as the test set\n",
        "simple_test_forecast = simple_model_fit.forecast(steps=len(test))\n",
        "\n",
        "# Evaluate predictions\n",
        "mae = mean_absolute_error(test['Indicator Value'], simple_test_forecast)\n",
        "mse = mean_squared_error(test['Indicator Value'], simple_test_forecast)\n",
        "rmse = mse ** 0.5\n",
        "\n",
        "# Print evaluation metrics\n",
        "print(\"\\nSimple Model Statistics\")\n",
        "print(f\"Mean Absolute Error (MAE): {mae:.4f}\")\n",
        "print(f\"Root Mean Squared Error (RMSE): {rmse:.4f}\")"
      ],
      "metadata": {
        "id": "_J7C5u3JvWVp"
      },
      "execution_count": null,
      "outputs": []
    },
    {
      "cell_type": "code",
      "source": [
        "residuals = simple_model_fit.resid\n",
        "plt.plot(residuals)\n",
        "plt.title(\"Residuals Over Time\")\n",
        "plt.axhline(y=0, color='black', linestyle='dashed')\n",
        "plt.show()"
      ],
      "metadata": {
        "colab": {
          "base_uri": "https://localhost:8080/",
          "height": 207
        },
        "id": "JBz_5EWyvmnf",
        "outputId": "3255a038-44b6-47a4-8374-eb6a9f916e26"
      },
      "execution_count": 42,
      "outputs": [
        {
          "output_type": "error",
          "ename": "NameError",
          "evalue": "name 'simple_model_fit' is not defined",
          "traceback": [
            "\u001b[0;31m---------------------------------------------------------------------------\u001b[0m",
            "\u001b[0;31mNameError\u001b[0m                                 Traceback (most recent call last)",
            "\u001b[0;32m<ipython-input-42-f90316eebff1>\u001b[0m in \u001b[0;36m<cell line: 0>\u001b[0;34m()\u001b[0m\n\u001b[0;32m----> 1\u001b[0;31m \u001b[0mresiduals\u001b[0m \u001b[0;34m=\u001b[0m \u001b[0msimple_model_fit\u001b[0m\u001b[0;34m.\u001b[0m\u001b[0mresid\u001b[0m\u001b[0;34m\u001b[0m\u001b[0;34m\u001b[0m\u001b[0m\n\u001b[0m\u001b[1;32m      2\u001b[0m \u001b[0mplt\u001b[0m\u001b[0;34m.\u001b[0m\u001b[0mplot\u001b[0m\u001b[0;34m(\u001b[0m\u001b[0mresiduals\u001b[0m\u001b[0;34m)\u001b[0m\u001b[0;34m\u001b[0m\u001b[0;34m\u001b[0m\u001b[0m\n\u001b[1;32m      3\u001b[0m \u001b[0mplt\u001b[0m\u001b[0;34m.\u001b[0m\u001b[0mtitle\u001b[0m\u001b[0;34m(\u001b[0m\u001b[0;34m\"Residuals Over Time\"\u001b[0m\u001b[0;34m)\u001b[0m\u001b[0;34m\u001b[0m\u001b[0;34m\u001b[0m\u001b[0m\n\u001b[1;32m      4\u001b[0m \u001b[0mplt\u001b[0m\u001b[0;34m.\u001b[0m\u001b[0maxhline\u001b[0m\u001b[0;34m(\u001b[0m\u001b[0my\u001b[0m\u001b[0;34m=\u001b[0m\u001b[0;36m0\u001b[0m\u001b[0;34m,\u001b[0m \u001b[0mcolor\u001b[0m\u001b[0;34m=\u001b[0m\u001b[0;34m'black'\u001b[0m\u001b[0;34m,\u001b[0m \u001b[0mlinestyle\u001b[0m\u001b[0;34m=\u001b[0m\u001b[0;34m'dashed'\u001b[0m\u001b[0;34m)\u001b[0m\u001b[0;34m\u001b[0m\u001b[0;34m\u001b[0m\u001b[0m\n\u001b[1;32m      5\u001b[0m \u001b[0mplt\u001b[0m\u001b[0;34m.\u001b[0m\u001b[0mshow\u001b[0m\u001b[0;34m(\u001b[0m\u001b[0;34m)\u001b[0m\u001b[0;34m\u001b[0m\u001b[0;34m\u001b[0m\u001b[0m\n",
            "\u001b[0;31mNameError\u001b[0m: name 'simple_model_fit' is not defined"
          ]
        }
      ]
    },
    {
      "cell_type": "code",
      "source": [
        "# Forecast the next 10 years\n",
        "forecast_steps = 10\n",
        "forecast = initial_model_fit.forecast(steps=forecast_steps)\n",
        "\n",
        "# Create a forecast index starting from the next available year\n",
        "forecast_index = list(range(ts.index[-1] + 1, ts.index[-1] + 1 + forecast_steps))\n",
        "\n",
        "# Convert to Series for plotting\n",
        "forecast_series = pd.Series(forecast.values, index=forecast_index)\n",
        "\n",
        "# Plot historical data and forecasted values\n",
        "plt.figure(figsize=(10, 5))\n",
        "plt.plot(ts.index, ts['Indicator Value'], label=\"Historical Data\")\n",
        "plt.plot(forecast_series.index, forecast_series.values, label=\"Forecast\", color=\"red\", marker='o')\n",
        "plt.title(\"Female Employment in services (% of female employment) - European Union\")\n",
        "plt.xlabel(\"Year\")\n",
        "plt.ylabel(\"Growth Rate (%)\")\n",
        "plt.legend()\n",
        "plt.grid()\n",
        "plt.show()"
      ],
      "metadata": {
        "colab": {
          "base_uri": "https://localhost:8080/",
          "height": 207
        },
        "id": "SkT0b7KLvq1M",
        "outputId": "b9f27ac9-e8c9-4c4c-e9de-1cf88173b557"
      },
      "execution_count": 43,
      "outputs": [
        {
          "output_type": "error",
          "ename": "NameError",
          "evalue": "name 'initial_model_fit' is not defined",
          "traceback": [
            "\u001b[0;31m---------------------------------------------------------------------------\u001b[0m",
            "\u001b[0;31mNameError\u001b[0m                                 Traceback (most recent call last)",
            "\u001b[0;32m<ipython-input-43-35124f789749>\u001b[0m in \u001b[0;36m<cell line: 0>\u001b[0;34m()\u001b[0m\n\u001b[1;32m      1\u001b[0m \u001b[0;31m# Forecast the next 10 years\u001b[0m\u001b[0;34m\u001b[0m\u001b[0;34m\u001b[0m\u001b[0m\n\u001b[1;32m      2\u001b[0m \u001b[0mforecast_steps\u001b[0m \u001b[0;34m=\u001b[0m \u001b[0;36m10\u001b[0m\u001b[0;34m\u001b[0m\u001b[0;34m\u001b[0m\u001b[0m\n\u001b[0;32m----> 3\u001b[0;31m \u001b[0mforecast\u001b[0m \u001b[0;34m=\u001b[0m \u001b[0minitial_model_fit\u001b[0m\u001b[0;34m.\u001b[0m\u001b[0mforecast\u001b[0m\u001b[0;34m(\u001b[0m\u001b[0msteps\u001b[0m\u001b[0;34m=\u001b[0m\u001b[0mforecast_steps\u001b[0m\u001b[0;34m)\u001b[0m\u001b[0;34m\u001b[0m\u001b[0;34m\u001b[0m\u001b[0m\n\u001b[0m\u001b[1;32m      4\u001b[0m \u001b[0;34m\u001b[0m\u001b[0m\n\u001b[1;32m      5\u001b[0m \u001b[0;31m# Create a forecast index starting from the next available year\u001b[0m\u001b[0;34m\u001b[0m\u001b[0;34m\u001b[0m\u001b[0m\n",
            "\u001b[0;31mNameError\u001b[0m: name 'initial_model_fit' is not defined"
          ]
        }
      ]
    },
    {
      "cell_type": "markdown",
      "source": [
        "### Urbanization and Employment"
      ],
      "metadata": {
        "id": "0PJCO4-jAD7a"
      }
    },
    {
      "cell_type": "code",
      "source": [
        "emp_urb_indicators = [\n",
        "    'Wage and salaried workers, female (% of female employment)',\n",
        "    'Wage and salaried workers, male (% of male employment) (modeled ILO estimate)',\n",
        "    'Contributing family workers, female (% of female employment) (modeled ILO estimate)',\n",
        "    'Contributing family workers, male (% of male employment) (modeled ILO estimate)',\n",
        "    'Employers, female (% of female employment) (modeled ILO estimate)',\n",
        "    'Employers, male (% of male employment) (modeled ILO estimate)',\n",
        "    'Employment in agriculture, female (% of female employment) (modeled ILO estimate)',\n",
        "    'Employment in agriculture, male (% of male employment) (modeled ILO estimate)',\n",
        "    'Employment in industry, female (% of female employment) (modeled ILO estimate)',\n",
        "    'Employment in industry, male (% of male employment) (modeled ILO estimate)',\n",
        "    'Employment in services, female (% of female employment) (modeled ILO estimate)',\n",
        "    'Employment in services, male (% of male employment) (modeled ILO estimate)',\n",
        "    'Vulnerable employment, male (% of male employment) (modeled ILO estimate)',\n",
        "    'Vulnerable employment, female (% of female employment) (modeled ILO estimate)',\n",
        "    'Part time employment, female (% of total female employment)',\n",
        "    'Part time employment, male (% of total male employment)',\n",
        "    'Self-employed, female (% of female employment) (modeled ILO estimate)',\n",
        "    'Self-employed, male (% of male employment) (modeled ILO estimate)',\n",
        "    'Unemployment, female (% of female labor force) (modeled ILO estimate)',\n",
        "    'Unemployment, male (% of male labor force) (modeled ILO estimate)',\n",
        "    'Labor force participation rate, female (% of female population ages 15+) (modeled ILO estimate)',\n",
        "    'Labor force participation rate, male (% of male population ages 15+) (modeled ILO estimate)',\n",
        "    'Urban population (% of total population)',\n",
        "    'Population in urban agglomerations of more than 1 million (% of total population)'\n",
        "]\n",
        "\n",
        "# Filter the data for these specific indicators\n",
        "emp_urb_data = df[df['Indicator Name'].isin(emp_urb_indicators)]\n",
        "emp_urb_data['Indicator Name'] = emp_urb_data['Indicator Name'].apply(\n",
        "    lambda x: x.replace(' (modeled ILO estimate)', '') if ' (modeled ILO estimate)' in x else x\n",
        ")\n",
        "\n",
        "emp_urb_data = emp_urb_data[(emp_urb_data['Gender'] == 'Female') | (emp_urb_data['Indicator Name'].isin(['Urban population (% of total population)', 'Population in urban agglomerations of more than 1 million (% of total population)']))]"
      ],
      "metadata": {
        "colab": {
          "base_uri": "https://localhost:8080/",
          "height": 207
        },
        "id": "Yhwv0c_KAfm8",
        "outputId": "7b1af888-821a-49c0-b85c-b2a6a255688b"
      },
      "execution_count": 44,
      "outputs": [
        {
          "output_type": "error",
          "ename": "NameError",
          "evalue": "name 'df' is not defined",
          "traceback": [
            "\u001b[0;31m---------------------------------------------------------------------------\u001b[0m",
            "\u001b[0;31mNameError\u001b[0m                                 Traceback (most recent call last)",
            "\u001b[0;32m<ipython-input-44-4c69bf3a20a5>\u001b[0m in \u001b[0;36m<cell line: 0>\u001b[0;34m()\u001b[0m\n\u001b[1;32m     27\u001b[0m \u001b[0;34m\u001b[0m\u001b[0m\n\u001b[1;32m     28\u001b[0m \u001b[0;31m# Filter the data for these specific indicators\u001b[0m\u001b[0;34m\u001b[0m\u001b[0;34m\u001b[0m\u001b[0m\n\u001b[0;32m---> 29\u001b[0;31m \u001b[0memp_urb_data\u001b[0m \u001b[0;34m=\u001b[0m \u001b[0mdf\u001b[0m\u001b[0;34m[\u001b[0m\u001b[0mdf\u001b[0m\u001b[0;34m[\u001b[0m\u001b[0;34m'Indicator Name'\u001b[0m\u001b[0;34m]\u001b[0m\u001b[0;34m.\u001b[0m\u001b[0misin\u001b[0m\u001b[0;34m(\u001b[0m\u001b[0memp_urb_indicators\u001b[0m\u001b[0;34m)\u001b[0m\u001b[0;34m]\u001b[0m\u001b[0;34m\u001b[0m\u001b[0;34m\u001b[0m\u001b[0m\n\u001b[0m\u001b[1;32m     30\u001b[0m emp_urb_data['Indicator Name'] = emp_urb_data['Indicator Name'].apply(\n\u001b[1;32m     31\u001b[0m     \u001b[0;32mlambda\u001b[0m \u001b[0mx\u001b[0m\u001b[0;34m:\u001b[0m \u001b[0mx\u001b[0m\u001b[0;34m.\u001b[0m\u001b[0mreplace\u001b[0m\u001b[0;34m(\u001b[0m\u001b[0;34m' (modeled ILO estimate)'\u001b[0m\u001b[0;34m,\u001b[0m \u001b[0;34m''\u001b[0m\u001b[0;34m)\u001b[0m \u001b[0;32mif\u001b[0m \u001b[0;34m' (modeled ILO estimate)'\u001b[0m \u001b[0;32min\u001b[0m \u001b[0mx\u001b[0m \u001b[0;32melse\u001b[0m \u001b[0mx\u001b[0m\u001b[0;34m\u001b[0m\u001b[0;34m\u001b[0m\u001b[0m\n",
            "\u001b[0;31mNameError\u001b[0m: name 'df' is not defined"
          ]
        }
      ]
    },
    {
      "cell_type": "code",
      "source": [
        "print(emp_urb_data['Indicator Name'].unique())"
      ],
      "metadata": {
        "colab": {
          "base_uri": "https://localhost:8080/",
          "height": 139
        },
        "id": "AroztrW1DNQf",
        "outputId": "5849070b-0563-4aee-f077-c42bb0c07c22"
      },
      "execution_count": 45,
      "outputs": [
        {
          "output_type": "error",
          "ename": "NameError",
          "evalue": "name 'emp_urb_data' is not defined",
          "traceback": [
            "\u001b[0;31m---------------------------------------------------------------------------\u001b[0m",
            "\u001b[0;31mNameError\u001b[0m                                 Traceback (most recent call last)",
            "\u001b[0;32m<ipython-input-45-c2d026869744>\u001b[0m in \u001b[0;36m<cell line: 0>\u001b[0;34m()\u001b[0m\n\u001b[0;32m----> 1\u001b[0;31m \u001b[0mprint\u001b[0m\u001b[0;34m(\u001b[0m\u001b[0memp_urb_data\u001b[0m\u001b[0;34m[\u001b[0m\u001b[0;34m'Indicator Name'\u001b[0m\u001b[0;34m]\u001b[0m\u001b[0;34m.\u001b[0m\u001b[0munique\u001b[0m\u001b[0;34m(\u001b[0m\u001b[0;34m)\u001b[0m\u001b[0;34m)\u001b[0m\u001b[0;34m\u001b[0m\u001b[0;34m\u001b[0m\u001b[0m\n\u001b[0m",
            "\u001b[0;31mNameError\u001b[0m: name 'emp_urb_data' is not defined"
          ]
        }
      ]
    },
    {
      "cell_type": "markdown",
      "source": [
        "### Correlation"
      ],
      "metadata": {
        "id": "KA-kvw-tAGif"
      }
    },
    {
      "cell_type": "markdown",
      "source": [
        "#### China"
      ],
      "metadata": {
        "id": "eEaOFV-DAIEO"
      }
    },
    {
      "cell_type": "code",
      "source": [
        "emp_urb_china_data = emp_urb_data[emp_urb_data['Country'] == 'China']\n",
        "\n",
        "# Pivot the data to prepare it for correlation calculation\n",
        "pivot_data = emp_urb_china_data.pivot_table(\n",
        "    index=['Year', 'Country'],\n",
        "    columns='Indicator Name',\n",
        "    values='Indicator Value',\n",
        "    aggfunc=np.mean\n",
        ").reset_index()\n",
        "\n",
        "correlation_matrix_china = pivot_data.drop(columns=['Year']).select_dtypes(include=[np.number]).corr(method=\"pearson\")\n",
        "\n",
        "# Plot the heatmap using seaborn\n",
        "plt.figure(figsize=(20, 10))\n",
        "sns.heatmap(correlation_matrix_china, annot=True, fmt=\".2f\", cmap='coolwarm', cbar=True)\n",
        "plt.title('Pearson Correlation Employment vs. Urbanization - China', fontsize=14, fontweight=\"bold\", pad=20)\n",
        "plt.xticks(rotation=45, ha='right')\n",
        "plt.yticks(rotation=0)\n",
        "plt.tight_layout()\n",
        "plt.show()"
      ],
      "metadata": {
        "colab": {
          "base_uri": "https://localhost:8080/",
          "height": 207
        },
        "id": "0gncByizDjyu",
        "outputId": "dfa82795-4e33-45d6-ef7b-70254609d8e6"
      },
      "execution_count": 46,
      "outputs": [
        {
          "output_type": "error",
          "ename": "NameError",
          "evalue": "name 'emp_urb_data' is not defined",
          "traceback": [
            "\u001b[0;31m---------------------------------------------------------------------------\u001b[0m",
            "\u001b[0;31mNameError\u001b[0m                                 Traceback (most recent call last)",
            "\u001b[0;32m<ipython-input-46-4458b786d80b>\u001b[0m in \u001b[0;36m<cell line: 0>\u001b[0;34m()\u001b[0m\n\u001b[0;32m----> 1\u001b[0;31m \u001b[0memp_urb_china_data\u001b[0m \u001b[0;34m=\u001b[0m \u001b[0memp_urb_data\u001b[0m\u001b[0;34m[\u001b[0m\u001b[0memp_urb_data\u001b[0m\u001b[0;34m[\u001b[0m\u001b[0;34m'Country'\u001b[0m\u001b[0;34m]\u001b[0m \u001b[0;34m==\u001b[0m \u001b[0;34m'China'\u001b[0m\u001b[0;34m]\u001b[0m\u001b[0;34m\u001b[0m\u001b[0;34m\u001b[0m\u001b[0m\n\u001b[0m\u001b[1;32m      2\u001b[0m \u001b[0;34m\u001b[0m\u001b[0m\n\u001b[1;32m      3\u001b[0m \u001b[0;31m# Pivot the data to prepare it for correlation calculation\u001b[0m\u001b[0;34m\u001b[0m\u001b[0;34m\u001b[0m\u001b[0m\n\u001b[1;32m      4\u001b[0m pivot_data = emp_urb_china_data.pivot_table(\n\u001b[1;32m      5\u001b[0m     \u001b[0mindex\u001b[0m\u001b[0;34m=\u001b[0m\u001b[0;34m[\u001b[0m\u001b[0;34m'Year'\u001b[0m\u001b[0;34m,\u001b[0m \u001b[0;34m'Country'\u001b[0m\u001b[0;34m]\u001b[0m\u001b[0;34m,\u001b[0m\u001b[0;34m\u001b[0m\u001b[0;34m\u001b[0m\u001b[0m\n",
            "\u001b[0;31mNameError\u001b[0m: name 'emp_urb_data' is not defined"
          ]
        }
      ]
    },
    {
      "cell_type": "markdown",
      "source": [
        "#### India"
      ],
      "metadata": {
        "id": "UdDrBFVNAJQY"
      }
    },
    {
      "cell_type": "code",
      "source": [
        "emp_urb_india_data = emp_urb_data[emp_urb_data['Country'] == 'India']\n",
        "\n",
        "# Pivot the data to prepare it for correlation calculation\n",
        "pivot_data = emp_urb_india_data.pivot_table(\n",
        "    index=['Year', 'Country'],\n",
        "    columns='Indicator Name',\n",
        "    values='Indicator Value',\n",
        "    aggfunc=np.mean\n",
        ").reset_index()\n",
        "\n",
        "correlation_matrix_india = pivot_data.drop(columns=['Year']).select_dtypes(include=[np.number]).corr(method=\"pearson\")\n",
        "\n",
        "# Plot the heatmap using seaborn\n",
        "plt.figure(figsize=(20, 10))\n",
        "sns.heatmap(correlation_matrix_india, annot=True, fmt=\".2f\", cmap='coolwarm', cbar=True)\n",
        "plt.title('Pearson Correlation Employment vs. Urbanization - India', fontsize=14, fontweight=\"bold\", pad=20)\n",
        "plt.xticks(rotation=45, ha='right')\n",
        "plt.yticks(rotation=0)\n",
        "plt.tight_layout()\n",
        "plt.show()"
      ],
      "metadata": {
        "colab": {
          "base_uri": "https://localhost:8080/",
          "height": 207
        },
        "id": "i9dEKkg8Dnt2",
        "outputId": "4c6f03cb-ab47-47f3-81b0-2c544d84650d"
      },
      "execution_count": 47,
      "outputs": [
        {
          "output_type": "error",
          "ename": "NameError",
          "evalue": "name 'emp_urb_data' is not defined",
          "traceback": [
            "\u001b[0;31m---------------------------------------------------------------------------\u001b[0m",
            "\u001b[0;31mNameError\u001b[0m                                 Traceback (most recent call last)",
            "\u001b[0;32m<ipython-input-47-05de55eb9b23>\u001b[0m in \u001b[0;36m<cell line: 0>\u001b[0;34m()\u001b[0m\n\u001b[0;32m----> 1\u001b[0;31m \u001b[0memp_urb_india_data\u001b[0m \u001b[0;34m=\u001b[0m \u001b[0memp_urb_data\u001b[0m\u001b[0;34m[\u001b[0m\u001b[0memp_urb_data\u001b[0m\u001b[0;34m[\u001b[0m\u001b[0;34m'Country'\u001b[0m\u001b[0;34m]\u001b[0m \u001b[0;34m==\u001b[0m \u001b[0;34m'India'\u001b[0m\u001b[0;34m]\u001b[0m\u001b[0;34m\u001b[0m\u001b[0;34m\u001b[0m\u001b[0m\n\u001b[0m\u001b[1;32m      2\u001b[0m \u001b[0;34m\u001b[0m\u001b[0m\n\u001b[1;32m      3\u001b[0m \u001b[0;31m# Pivot the data to prepare it for correlation calculation\u001b[0m\u001b[0;34m\u001b[0m\u001b[0;34m\u001b[0m\u001b[0m\n\u001b[1;32m      4\u001b[0m pivot_data = emp_urb_india_data.pivot_table(\n\u001b[1;32m      5\u001b[0m     \u001b[0mindex\u001b[0m\u001b[0;34m=\u001b[0m\u001b[0;34m[\u001b[0m\u001b[0;34m'Year'\u001b[0m\u001b[0;34m,\u001b[0m \u001b[0;34m'Country'\u001b[0m\u001b[0;34m]\u001b[0m\u001b[0;34m,\u001b[0m\u001b[0;34m\u001b[0m\u001b[0;34m\u001b[0m\u001b[0m\n",
            "\u001b[0;31mNameError\u001b[0m: name 'emp_urb_data' is not defined"
          ]
        }
      ]
    },
    {
      "cell_type": "markdown",
      "source": [
        "#### European Union"
      ],
      "metadata": {
        "id": "YCyK5NsCAKMh"
      }
    },
    {
      "cell_type": "code",
      "source": [
        "emp_urb_eu_data = emp_urb_data[emp_urb_data['Country'] == 'European Union']\n",
        "\n",
        "# Pivot the data to prepare it for correlation calculation\n",
        "pivot_data = emp_urb_eu_data.pivot_table(\n",
        "    index=['Year', 'Country'],\n",
        "    columns='Indicator Name',\n",
        "    values='Indicator Value',\n",
        "    aggfunc=np.mean\n",
        ").reset_index()\n",
        "\n",
        "correlation_matrix_eu = pivot_data.drop(columns=['Year']).select_dtypes(include=[np.number]).corr(method=\"pearson\")\n",
        "\n",
        "# Plot the heatmap using seaborn\n",
        "plt.figure(figsize=(20, 10))\n",
        "sns.heatmap(correlation_matrix_eu, annot=True, fmt=\".2f\", cmap='coolwarm', cbar=True)\n",
        "plt.title('Pearson Correlation Employment vs. Urbanization - European Union', fontsize=14, fontweight=\"bold\", pad=20)\n",
        "plt.xticks(rotation=45, ha='right')\n",
        "plt.yticks(rotation=0)\n",
        "plt.tight_layout()\n",
        "plt.show()"
      ],
      "metadata": {
        "colab": {
          "base_uri": "https://localhost:8080/",
          "height": 207
        },
        "id": "ifh6bucwAF_A",
        "outputId": "35f23643-4d7c-4f39-ed88-b0afa7fa83a3"
      },
      "execution_count": 48,
      "outputs": [
        {
          "output_type": "error",
          "ename": "NameError",
          "evalue": "name 'emp_urb_data' is not defined",
          "traceback": [
            "\u001b[0;31m---------------------------------------------------------------------------\u001b[0m",
            "\u001b[0;31mNameError\u001b[0m                                 Traceback (most recent call last)",
            "\u001b[0;32m<ipython-input-48-cda1fe91a34d>\u001b[0m in \u001b[0;36m<cell line: 0>\u001b[0;34m()\u001b[0m\n\u001b[0;32m----> 1\u001b[0;31m \u001b[0memp_urb_eu_data\u001b[0m \u001b[0;34m=\u001b[0m \u001b[0memp_urb_data\u001b[0m\u001b[0;34m[\u001b[0m\u001b[0memp_urb_data\u001b[0m\u001b[0;34m[\u001b[0m\u001b[0;34m'Country'\u001b[0m\u001b[0;34m]\u001b[0m \u001b[0;34m==\u001b[0m \u001b[0;34m'European Union'\u001b[0m\u001b[0;34m]\u001b[0m\u001b[0;34m\u001b[0m\u001b[0;34m\u001b[0m\u001b[0m\n\u001b[0m\u001b[1;32m      2\u001b[0m \u001b[0;34m\u001b[0m\u001b[0m\n\u001b[1;32m      3\u001b[0m \u001b[0;31m# Pivot the data to prepare it for correlation calculation\u001b[0m\u001b[0;34m\u001b[0m\u001b[0;34m\u001b[0m\u001b[0m\n\u001b[1;32m      4\u001b[0m pivot_data = emp_urb_eu_data.pivot_table(\n\u001b[1;32m      5\u001b[0m     \u001b[0mindex\u001b[0m\u001b[0;34m=\u001b[0m\u001b[0;34m[\u001b[0m\u001b[0;34m'Year'\u001b[0m\u001b[0;34m,\u001b[0m \u001b[0;34m'Country'\u001b[0m\u001b[0;34m]\u001b[0m\u001b[0;34m,\u001b[0m\u001b[0;34m\u001b[0m\u001b[0;34m\u001b[0m\u001b[0m\n",
            "\u001b[0;31mNameError\u001b[0m: name 'emp_urb_data' is not defined"
          ]
        }
      ]
    }
  ],
  "metadata": {
    "colab": {
      "provenance": [],
      "include_colab_link": true
    },
    "kernelspec": {
      "display_name": "Python 3 (ipykernel)",
      "language": "python",
      "name": "python3"
    },
    "language_info": {
      "codemirror_mode": {
        "name": "ipython",
        "version": 3
      },
      "file_extension": ".py",
      "mimetype": "text/x-python",
      "name": "python",
      "nbconvert_exporter": "python",
      "pygments_lexer": "ipython3",
      "version": "3.10.14"
    }
  },
  "nbformat": 4,
  "nbformat_minor": 0
}